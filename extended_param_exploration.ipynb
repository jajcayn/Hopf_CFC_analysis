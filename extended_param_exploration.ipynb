{
 "cells": [
  {
   "cell_type": "code",
   "execution_count": 1,
   "metadata": {
    "collapsed": true
   },
   "outputs": [],
   "source": [
    "import os\n",
    "import matplotlib.pyplot as plt\n",
    "import neurolib.optimize.exploration.explorationUtils as eu\n",
    "import numpy as np\n",
    "from neurolib.models.multimodel import MultiModel\n",
    "from neurolib.models.multimodel.builder import HopfNetwork\n",
    "from neurolib.optimize.exploration import BoxSearch\n",
    "from neurolib.utils.functions import getPowerSpectrum\n",
    "from neurolib.utils.parameterSpace import ParameterSpace\n",
    "from neurolib.utils.stimulus import ZeroInput\n",
    "\n",
    "import neurolib.utils.pypetUtils as pu\n",
    "\n",
    "from hopf_cfc_network import SlowFastHopfNetwork\n",
    "\n",
    "import h5py\n",
    "import pandas as pd\n",
    "\n",
    "plt.style.use(\"seaborn\")\n",
    "plt.rcParams['image.cmap'] = 'plasma'\n",
    "\n",
    "# w instrinsic\n",
    "# 0.003 ~ 0.5Hz\n",
    "# 0.005 ~ 0.8Hz\n",
    "# 0.01 ~ 2Hz\n",
    "# 0.05 ~ 8Hz\n",
    "# 0.06 ~ 10Hz\n",
    "# 0.08 ~ 12Hz\n",
    "# 0.1 ~ 17Hz\n",
    "# 0.2 ~ 32Hz\n",
    "# 0.3 ~ 50Hz"
   ]
  },
  {
   "cell_type": "code",
   "execution_count": 2,
   "outputs": [],
   "source": [
    "DURATION = 20.0 * 1000  # ms\n",
    "DT = 0.1  # ms\n",
    "\n",
    "model = MultiModel(\n",
    "    SlowFastHopfNetwork(\n",
    "        number_of_slow_fast_units=1,\n",
    "        slow_to_fast_connection=0.0,\n",
    "        fast_to_slow_connection=0.0,\n",
    "    )\n",
    ")\n",
    "\n",
    "model.params[\"duration\"] = 20.0 * 1000\n",
    "model.params[\"sampling_dt\"] = DT\n",
    "model.params[\"dt\"] = 0.01  # ms - lower dt for numba backend\n",
    "# numba backend is the way to go in exploration - much faster\n",
    "model.params[\"backend\"] = \"numba\"\n",
    "\n",
    "# manually add params you want to change during exploration, btw model.params is just a dictionary, so you can add whatever :)\n",
    "model.params[\"slow_to_fast\"] = 0.0\n",
    "model.params[\"fast_to_slow\"] = 0.0\n",
    "model.params[\"bifurcation_param_slow\"] = 0.25\n",
    "model.params[\"bifurcation_param_fast\"] = 0.25\n",
    "model.params[\"frequency_slow\"] = 0.04\n",
    "model.params[\"frequency_fast\"] = 0.2"
   ],
   "metadata": {
    "collapsed": false,
    "pycharm": {
     "name": "#%%\n"
    }
   }
  },
  {
   "cell_type": "code",
   "execution_count": 3,
   "outputs": [],
   "source": [
    "parameters = ParameterSpace(\n",
    "    {\n",
    "        \"slow_to_fast\": np.linspace(0.0, 7.0, 5),\n",
    "        \"fast_to_slow\": np.linspace(0.0, 7.0, 5),\n",
    "        \"bifurcation_param_slow\": np.linspace(0.0,1,5),\n",
    "        \"bifurcation_param_fast\": np.linspace(0.0,1,5),\n",
    "        \"frequency_slow\":np.linspace(0.01,0.06,5),\n",
    "        \"frequency_fast\":np.linspace(0.1,0.25,5)\n",
    "    },\n",
    "    allow_star_notation=True,\n",
    "    kind=\"grid\",\n",
    ")"
   ],
   "metadata": {
    "collapsed": false,
    "pycharm": {
     "name": "#%%\n"
    }
   }
  },
  {
   "cell_type": "code",
   "execution_count": 4,
   "outputs": [],
   "source": [
    "def modulation_index(P):\n",
    "    \"\"\"\n",
    "    MI = KL(P,U)/log(n), where U is a uniform distribution.\n",
    "    :param P: mean amplitude for each phase bin, shape (N_BINS,)\n",
    "    :return modulation index, quantitative measure of phase amplitude coupling\n",
    "    \"\"\"\n",
    "    n_bins = P.shape[0]\n",
    "    try:\n",
    "        assert np.isclose(np.sum(P), 1)\n",
    "    except AssertionError:\n",
    "        print(\"Please normalize P!\")\n",
    "\n",
    "    kl = np.log(n_bins) + np.sum(P[P!=0] * np.log(P[P!=0]))\n",
    "    return kl / np.log(n_bins)\n",
    "\n",
    "\n",
    "def evaluateSimulation(traj):\n",
    "    # get model with parameters for this run\n",
    "    model = search.getModelFromTraj(traj)\n",
    "    # extract stuff you want\n",
    "    s_f_conn = model.params[\"slow_to_fast\"]\n",
    "    f_s_conn = model.params[\"fast_to_slow\"]\n",
    "\n",
    "    # here you can either manually edit connectivity matrix or init again...\n",
    "    # example of manual edit - easy for single slow-fast unit with 2x2 conn. matrix\n",
    "    model.params[\"*connectivity\"] = np.array([[0.0, f_s_conn], [s_f_conn, 0.0]])\n",
    "    model.params[\"*0.HopfMass_0.a\"] = model.params[\"bifurcation_param_slow\"]\n",
    "    model.params[\"*1.HopfMass_0.a\"] = model.params[\"bifurcation_param_fast\"]\n",
    "    model.params[\"*0.HopfMass_0.w\"] = model.params[\"frequency_slow\"]\n",
    "    model.params[\"*1.HopfMass_0.w\"] = model.params[\"frequency_fast\"]\n",
    "\n",
    "    # example of init again - now commented\n",
    "    #     model = MultiModel(\n",
    "    #         SlowFastHopfNetwork(\n",
    "    #             number_of_slow_fast_units=1,\n",
    "    #             slow_to_fast_connection=s_f_conn,\n",
    "    #             fast_to_slow_connection=f_s_conn,\n",
    "    #         )\n",
    "    #     )\n",
    "\n",
    "    #     model.params[\"duration\"] = 20.0 * 1000\n",
    "    #     model.params[\"sampling_dt\"] = DT\n",
    "    #     model.params[\"dt\"] = 0.01\n",
    "    #     model.params[\"backend\"] = \"numba\"\n",
    "    #     model.params[\"slow_to_fast\"] = 0.0\n",
    "    #     model.params[\"fast_to_slow\"] = 0.0\n",
    "\n",
    "    model.run()\n",
    "\n",
    "    n_bins = 18\n",
    "\n",
    "    phase_slow = np.arctan2(model.y[0, :], model.x[0, :])\n",
    "    amp_fast = np.sqrt(model.x[1, :] ** 2 + model.y[1, :] ** 2)\n",
    "    binned_phase = np.digitize(phase_slow, bins=np.linspace(-np.pi, np.pi, n_bins + 1))\n",
    "    mean_bin_amp = np.zeros(n_bins + 1)  # in theory index of bins goes from 0 to N_BINS\n",
    "    for bin_idx in np.unique(binned_phase):\n",
    "        mean_bin_amp[bin_idx] = np.mean(amp_fast[binned_phase == bin_idx])\n",
    "\n",
    "    mean_bin_amp = mean_bin_amp[\n",
    "        1:\n",
    "    ]  # because in theory there could be stuff that is smaller than -pi, then actually the interval between -pi and the next bin has index 1.\n",
    "    # normalize the mean amplitude in each bin\n",
    "    mean_bin_amp = mean_bin_amp / np.sum(mean_bin_amp)\n",
    "    mi = modulation_index(mean_bin_amp)\n",
    "\n",
    "\n",
    "    freq_slow, pow_slow = getPowerSpectrum(model.x.T[:, 0], dt=0.1, maxfr=40, spectrum_windowsize=1)\n",
    "    freq_fast, pow_fast = getPowerSpectrum(model.x.T[:, 1], dt=0.1, maxfr=40, spectrum_windowsize=1)\n",
    "\n",
    "    max_freq_fast = freq_fast[np.argmax(pow_fast)]\n",
    "    max_freq_slow = freq_slow[np.argmax(pow_slow)]\n",
    "\n",
    "\n",
    "    result_dict = {\n",
    "        \"modulation_index\": mi,\n",
    "        \"peak_freq_fast\": max_freq_fast,\n",
    "        \"peak_freq_slow\": max_freq_slow\n",
    "                   }\n",
    "\n",
    "    search.saveToPypet(result_dict, traj)"
   ],
   "metadata": {
    "collapsed": false,
    "pycharm": {
     "name": "#%%\n"
    }
   }
  },
  {
   "cell_type": "code",
   "execution_count": 5,
   "outputs": [
    {
     "name": "stderr",
     "output_type": "stream",
     "text": [
      "MainProcess pypet.storageservice.HDF5StorageService INFO     I will use the hdf5 file `./data/hdf/Hopf_conn_extended_exploration.hdf`.\n",
      "MainProcess pypet.environment.Environment INFO     Environment initialized.\n",
      "MainProcess root INFO     Number of parameter configurations: 15625\n",
      "MainProcess root INFO     BoxSearch: Environment initialized.\n"
     ]
    }
   ],
   "source": [
    "search = BoxSearch(\n",
    "    model=model,\n",
    "    evalFunction=evaluateSimulation,\n",
    "    parameterSpace=parameters,\n",
    "    filename=\"Hopf_conn_extended_exploration.hdf\",\n",
    "    ncores=6,\n",
    ")"
   ],
   "metadata": {
    "collapsed": false,
    "pycharm": {
     "name": "#%%\n"
    }
   }
  },
  {
   "cell_type": "code",
   "execution_count": 6,
   "outputs": [
    {
     "data": {
      "text/plain": "['results-2022-04-22-17H-50M-00S']"
     },
     "execution_count": 6,
     "metadata": {},
     "output_type": "execute_result"
    }
   ],
   "source": [
    "pu.getTrajectorynamesInFile(\"data/hdf/Hopf_conn_extended_exploration.hdf\")"
   ],
   "metadata": {
    "collapsed": false,
    "pycharm": {
     "name": "#%%\n"
    }
   }
  },
  {
   "cell_type": "code",
   "execution_count": 7,
   "outputs": [],
   "source": [
    "#search.run()"
   ],
   "metadata": {
    "collapsed": false,
    "pycharm": {
     "name": "#%%\n"
    }
   }
  },
  {
   "cell_type": "code",
   "execution_count": 8,
   "outputs": [
    {
     "name": "stderr",
     "output_type": "stream",
     "text": [
      "MainProcess root INFO     Loading results from ./data/hdf/Hopf_conn_extended_exploration.hdf\n",
      "MainProcess root INFO     Analyzing trajectory results-2022-04-22-17H-50M-00S\n",
      "MainProcess pypet.storageservice.HDF5StorageService INFO     I will use the hdf5 file `./data/hdf/Hopf_conn_extended_exploration.hdf`.\n",
      "MainProcess pypet.storageservice.HDF5StorageService INFO     Loading trajectory `results-2022-04-22-17H-50M-00S`.\n",
      "MainProcess pypet.storageservice.HDF5StorageService INFO     Loading branch `config` in mode `2`.\n",
      "MainProcess pypet.storageservice.HDF5StorageService INFO     Loading branch `parameters` in mode `2`.\n",
      "MainProcess pypet.storageservice.HDF5StorageService INFO     Loading branch `results` in mode `1`.\n",
      "MainProcess pypet.storageservice.HDF5StorageService INFO     Processed 55283 nodes in 0m20s (2759.03 nodes/s).\n",
      "MainProcess root INFO     Creating `dfResults` dataframe ...\n",
      "MainProcess root INFO     Loading all results to `results` dictionary ...\n",
      "100%|██████████| 15625/15625 [01:05<00:00, 237.91it/s]\n",
      "MainProcess root INFO     Aggregating results to `dfResults` ...\n",
      "100%|██████████| 15625/15625 [00:02<00:00, 5409.60it/s]\n",
      "MainProcess root INFO     All results loaded.\n"
     ]
    }
   ],
   "source": [
    "search.loadResults()"
   ],
   "metadata": {
    "collapsed": false,
    "pycharm": {
     "name": "#%%\n"
    }
   }
  },
  {
   "cell_type": "code",
   "execution_count": 9,
   "outputs": [
    {
     "data": {
      "text/plain": "       slow_to_fast  fast_to_slow  bifurcation_param_slow  \\\n0               0.0           0.0                     0.0   \n1               0.0           0.0                     0.0   \n2               0.0           0.0                     0.0   \n3               0.0           0.0                     0.0   \n4               0.0           0.0                     0.0   \n...             ...           ...                     ...   \n15620           7.0           7.0                     1.0   \n15621           7.0           7.0                     1.0   \n15622           7.0           7.0                     1.0   \n15623           7.0           7.0                     1.0   \n15624           7.0           7.0                     1.0   \n\n       bifurcation_param_fast  frequency_slow  frequency_fast  peak_freq_slow  \\\n0                         0.0            0.01          0.1000             6.0   \n1                         0.0            0.01          0.1375             6.0   \n2                         0.0            0.01          0.1750             6.0   \n3                         0.0            0.01          0.2125             6.0   \n4                         0.0            0.01          0.2500             6.0   \n...                       ...             ...             ...             ...   \n15620                     1.0            0.06          0.1000             0.0   \n15621                     1.0            0.06          0.1375             0.0   \n15622                     1.0            0.06          0.1750             0.0   \n15623                     1.0            0.06          0.2125             0.0   \n15624                     1.0            0.06          0.2500             0.0   \n\n       peak_freq_fast  modulation_index  \n0                32.0      1.323199e-08  \n1                32.0      1.323199e-08  \n2                32.0      1.323199e-08  \n3                32.0      1.323199e-08  \n4                32.0      1.323199e-08  \n...               ...               ...  \n15620             0.0      7.716259e-01  \n15621             0.0      7.716259e-01  \n15622             0.0      7.716259e-01  \n15623             0.0      7.716259e-01  \n15624             0.0      7.716259e-01  \n\n[15625 rows x 9 columns]",
      "text/html": "<div>\n<style scoped>\n    .dataframe tbody tr th:only-of-type {\n        vertical-align: middle;\n    }\n\n    .dataframe tbody tr th {\n        vertical-align: top;\n    }\n\n    .dataframe thead th {\n        text-align: right;\n    }\n</style>\n<table border=\"1\" class=\"dataframe\">\n  <thead>\n    <tr style=\"text-align: right;\">\n      <th></th>\n      <th>slow_to_fast</th>\n      <th>fast_to_slow</th>\n      <th>bifurcation_param_slow</th>\n      <th>bifurcation_param_fast</th>\n      <th>frequency_slow</th>\n      <th>frequency_fast</th>\n      <th>peak_freq_slow</th>\n      <th>peak_freq_fast</th>\n      <th>modulation_index</th>\n    </tr>\n  </thead>\n  <tbody>\n    <tr>\n      <th>0</th>\n      <td>0.0</td>\n      <td>0.0</td>\n      <td>0.0</td>\n      <td>0.0</td>\n      <td>0.01</td>\n      <td>0.1000</td>\n      <td>6.0</td>\n      <td>32.0</td>\n      <td>1.323199e-08</td>\n    </tr>\n    <tr>\n      <th>1</th>\n      <td>0.0</td>\n      <td>0.0</td>\n      <td>0.0</td>\n      <td>0.0</td>\n      <td>0.01</td>\n      <td>0.1375</td>\n      <td>6.0</td>\n      <td>32.0</td>\n      <td>1.323199e-08</td>\n    </tr>\n    <tr>\n      <th>2</th>\n      <td>0.0</td>\n      <td>0.0</td>\n      <td>0.0</td>\n      <td>0.0</td>\n      <td>0.01</td>\n      <td>0.1750</td>\n      <td>6.0</td>\n      <td>32.0</td>\n      <td>1.323199e-08</td>\n    </tr>\n    <tr>\n      <th>3</th>\n      <td>0.0</td>\n      <td>0.0</td>\n      <td>0.0</td>\n      <td>0.0</td>\n      <td>0.01</td>\n      <td>0.2125</td>\n      <td>6.0</td>\n      <td>32.0</td>\n      <td>1.323199e-08</td>\n    </tr>\n    <tr>\n      <th>4</th>\n      <td>0.0</td>\n      <td>0.0</td>\n      <td>0.0</td>\n      <td>0.0</td>\n      <td>0.01</td>\n      <td>0.2500</td>\n      <td>6.0</td>\n      <td>32.0</td>\n      <td>1.323199e-08</td>\n    </tr>\n    <tr>\n      <th>...</th>\n      <td>...</td>\n      <td>...</td>\n      <td>...</td>\n      <td>...</td>\n      <td>...</td>\n      <td>...</td>\n      <td>...</td>\n      <td>...</td>\n      <td>...</td>\n    </tr>\n    <tr>\n      <th>15620</th>\n      <td>7.0</td>\n      <td>7.0</td>\n      <td>1.0</td>\n      <td>1.0</td>\n      <td>0.06</td>\n      <td>0.1000</td>\n      <td>0.0</td>\n      <td>0.0</td>\n      <td>7.716259e-01</td>\n    </tr>\n    <tr>\n      <th>15621</th>\n      <td>7.0</td>\n      <td>7.0</td>\n      <td>1.0</td>\n      <td>1.0</td>\n      <td>0.06</td>\n      <td>0.1375</td>\n      <td>0.0</td>\n      <td>0.0</td>\n      <td>7.716259e-01</td>\n    </tr>\n    <tr>\n      <th>15622</th>\n      <td>7.0</td>\n      <td>7.0</td>\n      <td>1.0</td>\n      <td>1.0</td>\n      <td>0.06</td>\n      <td>0.1750</td>\n      <td>0.0</td>\n      <td>0.0</td>\n      <td>7.716259e-01</td>\n    </tr>\n    <tr>\n      <th>15623</th>\n      <td>7.0</td>\n      <td>7.0</td>\n      <td>1.0</td>\n      <td>1.0</td>\n      <td>0.06</td>\n      <td>0.2125</td>\n      <td>0.0</td>\n      <td>0.0</td>\n      <td>7.716259e-01</td>\n    </tr>\n    <tr>\n      <th>15624</th>\n      <td>7.0</td>\n      <td>7.0</td>\n      <td>1.0</td>\n      <td>1.0</td>\n      <td>0.06</td>\n      <td>0.2500</td>\n      <td>0.0</td>\n      <td>0.0</td>\n      <td>7.716259e-01</td>\n    </tr>\n  </tbody>\n</table>\n<p>15625 rows × 9 columns</p>\n</div>"
     },
     "execution_count": 9,
     "metadata": {},
     "output_type": "execute_result"
    }
   ],
   "source": [
    "search.dfResults"
   ],
   "metadata": {
    "collapsed": false,
    "pycharm": {
     "name": "#%%\n"
    }
   }
  },
  {
   "cell_type": "code",
   "execution_count": null,
   "outputs": [],
   "source": [],
   "metadata": {
    "collapsed": false,
    "pycharm": {
     "name": "#%%\n"
    }
   }
  }
 ],
 "metadata": {
  "kernelspec": {
   "display_name": "Python 3",
   "language": "python",
   "name": "python3"
  },
  "language_info": {
   "codemirror_mode": {
    "name": "ipython",
    "version": 2
   },
   "file_extension": ".py",
   "mimetype": "text/x-python",
   "name": "python",
   "nbconvert_exporter": "python",
   "pygments_lexer": "ipython2",
   "version": "2.7.6"
  }
 },
 "nbformat": 4,
 "nbformat_minor": 0
}