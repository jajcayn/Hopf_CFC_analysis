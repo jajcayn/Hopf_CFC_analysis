{
 "cells": [
  {
   "cell_type": "code",
   "execution_count": 1,
   "metadata": {
    "collapsed": true
   },
   "outputs": [],
   "source": [
    "import os\n",
    "import matplotlib.pyplot as plt\n",
    "import neurolib.optimize.exploration.explorationUtils as eu\n",
    "import numpy as np\n",
    "from neurolib.models.multimodel import MultiModel\n",
    "from neurolib.models.multimodel.builder import HopfNetwork\n",
    "from neurolib.optimize.exploration import BoxSearch\n",
    "from neurolib.utils.functions import getPowerSpectrum\n",
    "from neurolib.utils.parameterSpace import ParameterSpace\n",
    "from neurolib.utils.stimulus import ZeroInput\n",
    "\n",
    "import neurolib.utils.pypetUtils as pu\n",
    "from cfcUtils import modulation_index\n",
    "\n",
    "from hopf_cfc_network import SlowFastHopfNetwork\n",
    "\n",
    "import h5py\n",
    "import pandas as pd\n",
    "\n",
    "plt.style.use(\"seaborn\")\n",
    "plt.rcParams['image.cmap'] = 'plasma'\n",
    "\n",
    "# w instrinsic\n",
    "# 0.003 ~ 0.5Hz\n",
    "# 0.005 ~ 0.8Hz\n",
    "# 0.01 ~ 2Hz\n",
    "# 0.05 ~ 8Hz\n",
    "# 0.06 ~ 10Hz\n",
    "# 0.08 ~ 12Hz\n",
    "# 0.1 ~ 17Hz\n",
    "# 0.2 ~ 32Hz\n",
    "# 0.3 ~ 50Hz"
   ]
  },
  {
   "cell_type": "code",
   "execution_count": 2,
   "outputs": [],
   "source": [
    "DURATION = 20.0 * 1000  # ms\n",
    "DT = 0.1  # ms\n",
    "\n",
    "model = MultiModel(\n",
    "    SlowFastHopfNetwork(\n",
    "        number_of_slow_fast_units=1,\n",
    "        slow_to_fast_connection=0.0,\n",
    "        fast_to_slow_connection=0.0,\n",
    "    )\n",
    ")\n",
    "\n",
    "model.params[\"duration\"] = 20.0 * 1000\n",
    "model.params[\"sampling_dt\"] = DT\n",
    "model.params[\"dt\"] = 0.01  # ms - lower dt for numba backend\n",
    "# numba backend is the way to go in exploration - much faster\n",
    "model.params[\"backend\"] = \"numba\"\n",
    "\n",
    "# manually add params you want to change during exploration, btw model.params is just a dictionary, so you can add whatever :)\n",
    "model.params[\"slow_to_fast\"] = 0.0\n",
    "model.params[\"fast_to_slow\"] = 0.0\n",
    "model.params[\"bifurcation_param_slow\"] = 0.25\n",
    "model.params[\"bifurcation_param_fast\"] = 0.25\n",
    "model.params[\"frequency_slow\"] = 0.04\n",
    "model.params[\"frequency_fast\"] = 0.2"
   ],
   "metadata": {
    "collapsed": false,
    "pycharm": {
     "name": "#%%\n"
    }
   }
  },
  {
   "cell_type": "code",
   "execution_count": 3,
   "outputs": [],
   "source": [
    "parameters = ParameterSpace(\n",
    "    {\n",
    "        \"slow_to_fast\": np.linspace(0.0, 0.35, 3),\n",
    "        \"fast_to_slow\": np.linspace(0.05, 0.3, 3),\n",
    "        \"bifurcation_param_slow\": np.linspace(0.0,1,2),\n",
    "        \"bifurcation_param_fast\": np.linspace(0.0,1,2),\n",
    "        \"frequency_slow\":np.linspace(0.01,0.06,3),\n",
    "        \"frequency_fast\":np.linspace(0.1,0.25,3)\n",
    "    },\n",
    "    allow_star_notation=True,\n",
    "    kind=\"grid\",\n",
    ")"
   ],
   "metadata": {
    "collapsed": false,
    "pycharm": {
     "name": "#%%\n"
    }
   }
  },
  {
   "cell_type": "code",
   "execution_count": 4,
   "outputs": [],
   "source": [
    "\n",
    "def evaluateSimulation(traj):\n",
    "    # get model with parameters for this run\n",
    "    model = search.getModelFromTraj(traj)\n",
    "    # extract stuff you want\n",
    "    s_f_conn = model.params[\"slow_to_fast\"]\n",
    "    f_s_conn = model.params[\"fast_to_slow\"]\n",
    "\n",
    "    # here you can either manually edit connectivity matrix or init again...\n",
    "    # example of manual edit - easy for single slow-fast unit with 2x2 conn. matrix\n",
    "    model.params[\"*connectivity\"] = np.array([[0.0, f_s_conn], [s_f_conn, 0.0]])\n",
    "    model.params['SlowFastHopfNet.SlowHopf_0.HopfMass_0.a'] = model.params[\"bifurcation_param_slow\"]\n",
    "    model.params['SlowFastHopfNet.FastHopf_1.HopfMass_0.a'] = model.params[\"bifurcation_param_fast\"]\n",
    "    model.params['SlowFastHopfNet.SlowHopf_0.HopfMass_0.w'] = model.params[\"frequency_slow\"]\n",
    "    model.params['SlowFastHopfNet.FastHopf_1.HopfMass_0.w'] = model.params[\"frequency_fast\"]\n",
    "\n",
    "    # example of init again - now commented\n",
    "    #     model = MultiModel(\n",
    "    #         SlowFastHopfNetwork(\n",
    "    #             number_of_slow_fast_units=1,\n",
    "    #             slow_to_fast_connection=s_f_conn,\n",
    "    #             fast_to_slow_connection=f_s_conn,\n",
    "    #         )\n",
    "    #     )\n",
    "\n",
    "    #     model.params[\"duration\"] = 20.0 * 1000\n",
    "    #     model.params[\"sampling_dt\"] = DT\n",
    "    #     model.params[\"dt\"] = 0.01\n",
    "    #     model.params[\"backend\"] = \"numba\"\n",
    "    #     model.params[\"slow_to_fast\"] = 0.0\n",
    "    #     model.params[\"fast_to_slow\"] = 0.0\n",
    "\n",
    "    model.run()\n",
    "\n",
    "    n_bins = 18\n",
    "\n",
    "    phase_slow = np.arctan2(model.y[0, :], model.x[0, :])\n",
    "    amp_fast = np.sqrt(model.x[1, :] ** 2 + model.y[1, :] ** 2)\n",
    "    binned_phase = np.digitize(phase_slow, bins=np.linspace(-np.pi, np.pi, n_bins + 1))\n",
    "    mean_bin_amp = np.zeros(n_bins + 1)  # in theory index of bins goes from 0 to N_BINS\n",
    "    for bin_idx in np.unique(binned_phase):\n",
    "        mean_bin_amp[bin_idx] = np.mean(amp_fast[binned_phase == bin_idx])\n",
    "\n",
    "    mean_bin_amp = mean_bin_amp[\n",
    "        1:\n",
    "    ]  # because in theory there could be stuff that is smaller than -pi, then actually the interval between -pi and the next bin has index 1.\n",
    "    # normalize the mean amplitude in each bin\n",
    "    mean_bin_amp = mean_bin_amp / np.sum(mean_bin_amp)\n",
    "    mi = modulation_index(mean_bin_amp)\n",
    "\n",
    "\n",
    "    freq_slow, pow_slow = getPowerSpectrum(model.x.T[:, 0], dt=0.1, maxfr=40, spectrum_windowsize=1)\n",
    "    freq_fast, pow_fast = getPowerSpectrum(model.x.T[:, 1], dt=0.1, maxfr=40, spectrum_windowsize=1)\n",
    "\n",
    "    max_freq_fast = freq_fast[np.argmax(pow_fast)]\n",
    "    max_freq_slow = freq_slow[np.argmax(pow_slow)]\n",
    "\n",
    "\n",
    "    result_dict = {\n",
    "        \"modulation_index\": mi,\n",
    "        \"peak_freq_fast\": max_freq_fast,\n",
    "        \"peak_freq_slow\": max_freq_slow\n",
    "                   }\n",
    "\n",
    "    search.saveToPypet(result_dict, traj)"
   ],
   "metadata": {
    "collapsed": false,
    "pycharm": {
     "name": "#%%\n"
    }
   }
  },
  {
   "cell_type": "code",
   "execution_count": 5,
   "outputs": [
    {
     "name": "stderr",
     "output_type": "stream",
     "text": [
      "MainProcess pypet.storageservice.HDF5StorageService INFO     I will use the hdf5 file `./data/hdf/Hopf_conn_extended_exploration.hdf`.\n",
      "MainProcess pypet.environment.Environment INFO     Environment initialized.\n",
      "MainProcess root INFO     Number of parameter configurations: 324\n",
      "MainProcess root INFO     BoxSearch: Environment initialized.\n"
     ]
    }
   ],
   "source": [
    "search = BoxSearch(\n",
    "    model=model,\n",
    "    evalFunction=evaluateSimulation,\n",
    "    parameterSpace=parameters,\n",
    "    filename=\"Hopf_conn_extended_exploration.hdf\",\n",
    "    ncores=6,\n",
    ")"
   ],
   "metadata": {
    "collapsed": false,
    "pycharm": {
     "name": "#%%\n"
    }
   }
  },
  {
   "cell_type": "code",
   "execution_count": 6,
   "outputs": [],
   "source": [
    "# pu.getTrajectorynamesInFile(\"data/hdf/Hopf_conn_extended_exploration.hdf\")"
   ],
   "metadata": {
    "collapsed": false,
    "pycharm": {
     "name": "#%%\n"
    }
   }
  },
  {
   "cell_type": "code",
   "execution_count": null,
   "outputs": [
    {
     "name": "stderr",
     "output_type": "stream",
     "text": [
      "MainProcess pypet.environment.Environment INFO     I am preparing the Trajectory for the experiment and initialise the store.\n",
      "MainProcess pypet.environment.Environment INFO     Initialising the storage for the trajectory.\n",
      "MainProcess pypet.storageservice.HDF5StorageService INFO     Initialising storage or updating meta data of Trajectory `results-2022-05-09-14H-54M-43S`.\n",
      "MainProcess pypet.storageservice.HDF5StorageService INFO     Finished init or meta data update for `results-2022-05-09-14H-54M-43S`.\n",
      "MainProcess pypet.environment.Environment INFO     \n",
      "************************************************************\n",
      "STARTING runs of trajectory\n",
      "`results-2022-05-09-14H-54M-43S`.\n",
      "************************************************************\n",
      "\n",
      "MainProcess pypet.storageservice.HDF5StorageService INFO     Initialising storage or updating meta data of Trajectory `results-2022-05-09-14H-54M-43S`.\n",
      "MainProcess pypet.storageservice.HDF5StorageService INFO     Finished init or meta data update for `results-2022-05-09-14H-54M-43S`.\n",
      "MainProcess pypet.environment.Environment INFO     Starting multiprocessing with at most 6 processes running at the same time.\n",
      "MainProcess pypet INFO     PROGRESS: Finished   0/324 runs [                    ]  0.0%\n",
      "MainProcess pypet INFO     PROGRESS: Finished  17/324 runs [=                   ]  5.2%, remaining: 0:03:37\n",
      "MainProcess pypet INFO     PROGRESS: Finished  33/324 runs [==                  ] 10.2%, remaining: 0:03:23\n",
      "MainProcess pypet INFO     PROGRESS: Finished  49/324 runs [===                 ] 15.1%, remaining: 0:03:10\n",
      "MainProcess pypet INFO     PROGRESS: Finished  65/324 runs [====                ] 20.1%, remaining: 0:02:47\n",
      "MainProcess pypet INFO     PROGRESS: Finished  81/324 runs [=====               ] 25.0%, remaining: 0:02:41\n",
      "MainProcess pypet INFO     PROGRESS: Finished  98/324 runs [======              ] 30.2%, remaining: 0:02:30\n",
      "MainProcess pypet INFO     PROGRESS: Finished 114/324 runs [=======             ] 35.2%, remaining: 0:02:15\n",
      "MainProcess pypet INFO     PROGRESS: Finished 130/324 runs [========            ] 40.1%, remaining: 0:02:06\n",
      "MainProcess pypet INFO     PROGRESS: Finished 146/324 runs [=========           ] 45.1%, remaining: 0:01:58\n",
      "MainProcess pypet INFO     PROGRESS: Finished 162/324 runs [==========          ] 50.0%, remaining: 0:01:45\n",
      "MainProcess pypet INFO     PROGRESS: Finished 179/324 runs [===========         ] 55.2%, remaining: 0:01:35\n",
      "MainProcess pypet INFO     PROGRESS: Finished 195/324 runs [============        ] 60.2%, remaining: 0:01:25\n",
      "MainProcess pypet INFO     PROGRESS: Finished 211/324 runs [=============       ] 65.1%, remaining: 0:01:15\n",
      "MainProcess pypet INFO     PROGRESS: Finished 227/324 runs [==============      ] 70.1%, remaining: 0:01:04\n"
     ]
    }
   ],
   "source": [
    "search.run()"
   ],
   "metadata": {
    "collapsed": false,
    "pycharm": {
     "name": "#%%\n",
     "is_executing": true
    }
   }
  },
  {
   "cell_type": "code",
   "execution_count": null,
   "outputs": [],
   "source": [
    "# search.loadResults(trajectoryName='results-2022-04-26-11H-31M-14S')\n",
    "search.loadResults()"
   ],
   "metadata": {
    "collapsed": false,
    "pycharm": {
     "name": "#%%\n",
     "is_executing": true
    }
   }
  },
  {
   "cell_type": "code",
   "execution_count": null,
   "outputs": [],
   "source": [
    "search.dfResults"
   ],
   "metadata": {
    "collapsed": false,
    "pycharm": {
     "name": "#%%\n",
     "is_executing": true
    }
   }
  },
  {
   "cell_type": "code",
   "execution_count": null,
   "outputs": [],
   "source": [
    "explored_params = [\"slow_to_fast\",\"fast_to_slow\",\"bifurcation_param_slow\",\"bifurcation_param_fast\",\"frequency_slow\",\"frequency_fast\"]"
   ],
   "metadata": {
    "collapsed": false,
    "pycharm": {
     "name": "#%%\n",
     "is_executing": true
    }
   }
  },
  {
   "cell_type": "code",
   "execution_count": null,
   "outputs": [],
   "source": [
    "from itertools import combinations\n",
    "comb = list(combinations(explored_params,2))"
   ],
   "metadata": {
    "collapsed": false,
    "pycharm": {
     "name": "#%%\n",
     "is_executing": true
    }
   }
  },
  {
   "cell_type": "code",
   "execution_count": null,
   "outputs": [],
   "source": [
    "for i in range(len(comb)):\n",
    "    eu.plotExplorationResults(\n",
    "    search.dfResults,\n",
    "    par1=[comb[i][0],comb[i][0]],\n",
    "    par2=[comb[i][1],comb[i][1]],\n",
    "    plot_key=\"modulation_index\",\n",
    "    nan_to_zero=False,\n",
    "    plot_key_label=\"Modulation index\",\n",
    "    contour=[\"peak_freq_slow\", \"peak_freq_fast\"],\n",
    "    contour_color=[[\"white\"], [\"springgreen\"]],\n",
    "    contour_levels=[np.arange(0, 20, 2).tolist(), np.arange(0, 35, 5).tolist()],\n",
    "    contour_alpha=[1.0, 1.0],\n",
    "    contour_kwargs={\n",
    "        0: {\"linewidths\": (2,), \"clabel\": True},\n",
    "        1: {\"linestyles\": \"--\", \"linewidths\": (3,), \"clabel\": True},\n",
    "    },\n",
    ")"
   ],
   "metadata": {
    "collapsed": false,
    "pycharm": {
     "name": "#%%\n",
     "is_executing": true
    }
   }
  },
  {
   "cell_type": "code",
   "execution_count": null,
   "outputs": [],
   "source": [],
   "metadata": {
    "collapsed": false,
    "pycharm": {
     "name": "#%%\n",
     "is_executing": true
    }
   }
  }
 ],
 "metadata": {
  "kernelspec": {
   "display_name": "Python 3",
   "language": "python",
   "name": "python3"
  },
  "language_info": {
   "codemirror_mode": {
    "name": "ipython",
    "version": 2
   },
   "file_extension": ".py",
   "mimetype": "text/x-python",
   "name": "python",
   "nbconvert_exporter": "python",
   "pygments_lexer": "ipython2",
   "version": "2.7.6"
  }
 },
 "nbformat": 4,
 "nbformat_minor": 0
}