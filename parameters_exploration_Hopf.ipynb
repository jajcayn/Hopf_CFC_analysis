{
 "cells": [
  {
   "cell_type": "code",
   "execution_count": 1,
   "metadata": {
    "collapsed": true
   },
   "outputs": [],
   "source": [
    "import matplotlib.pyplot as plt\n",
    "import numpy as np\n",
    "from neurolib.models.multimodel import MultiModel\n",
    "from neurolib.models.multimodel.builder import HopfNetwork\n",
    "from neurolib.utils.functions import getPowerSpectrum\n",
    "from neurolib.utils.stimulus import ZeroInput\n",
    "\n",
    "from hopf_cfc_network import SlowFastHopfNetwork\n",
    "from neurolib.utils.parameterSpace import ParameterSpace\n",
    "from neurolib.optimize.exploration import BoxSearch\n",
    "\n",
    "import h5py\n",
    "\n",
    "plt.style.use(\"seaborn\")\n",
    "\n",
    "# w instrinsic\n",
    "# 0.003 ~ 0.5Hz\n",
    "# 0.005 ~ 0.8Hz\n",
    "# 0.01 ~ 2Hz\n",
    "# 0.05 ~ 8Hz\n",
    "# 0.06 ~ 10Hz\n",
    "# 0.08 ~ 12Hz\n",
    "# 0.1 ~ 17Hz\n",
    "# 0.2 ~ 32Hz\n",
    "# 0.3 ~ 50Hz"
   ]
  },
  {
   "cell_type": "code",
   "execution_count": 2,
   "outputs": [],
   "source": [
    "def measure_coupling_eval(traj):\n",
    "\n",
    "    pars = search.getParametersFromTraj(traj)\n",
    "    n_bins = 18\n",
    "\n",
    "    phase_slow = np.arctan2(pars['y'][0],pars['x'][0])\n",
    "    amp_fast = np.sqrt(pars['x'][1] ** 2 + pars['y'][1] ** 2)\n",
    "    binned_phase = np.digitize(phase_slow,bins=np.linspace(-np.pi,np.pi,n_bins+1))\n",
    "    mean_bin_amp = np.zeros(n_bins+1) # in theory index of bins goes from 0 to N_BINS\n",
    "    for bin_idx in np.unique(binned_phase):\n",
    "        mean_bin_amp[bin_idx] = np.mean(amp_fast[binned_phase==bin_idx])\n",
    "\n",
    "    mean_bin_amp = mean_bin_amp[1:] # because in theory there could be stuff that is smaller than -pi, then actually the interval between -pi and the next bin has index 1.\n",
    "    #normalize the mean amplitude in each bin\n",
    "    mean_bin_amp = mean_bin_amp/np.sum(mean_bin_amp)\n",
    "    mi = modulation_index(mean_bin_amp)\n",
    "\n",
    "    result_dict = {\"modulation_index\": mi}\n",
    "    search.saveToPypet(result_dict, traj)\n",
    "\n",
    "def modulation_index(P):\n",
    "    \"\"\"\n",
    "    MI = KL(P,U)/log(n), where U is a uniform distribution.\n",
    "    :param P: mean amplitude for each phase bin, shape (N_BINS,)\n",
    "    :return modulation index, quantitative measure of phase amplitude coupling\n",
    "    \"\"\"\n",
    "    n_bins = P.shape[0]\n",
    "    try:\n",
    "        assert np.isclose(np.sum(P),1)\n",
    "    except AssertionError:\n",
    "        print(\"Please normalize P!\")\n",
    "    kl = np.log(n_bins) + np.sum(P*np.log(P))\n",
    "    return kl/np.log(n_bins)"
   ],
   "metadata": {
    "collapsed": false,
    "pycharm": {
     "name": "#%%\n"
    }
   }
  },
  {
   "cell_type": "markdown",
   "source": [
    "How exactly do I do the parameter exploration passing both the model and the evaluation function?"
   ],
   "metadata": {
    "collapsed": false,
    "pycharm": {
     "name": "#%% md\n"
    }
   }
  },
  {
   "cell_type": "code",
   "execution_count": 3,
   "outputs": [],
   "source": [
    "model = MultiModel(SlowFastHopfNetwork())"
   ],
   "metadata": {
    "collapsed": false,
    "pycharm": {
     "name": "#%%\n"
    }
   }
  },
  {
   "cell_type": "markdown",
   "source": [
    "Before I had:\n",
    "\n",
    "parameters = ParameterSpace({\"slow_to_fast_connection\": np.linspace(0,0.6,5)})"
   ],
   "metadata": {
    "collapsed": false,
    "pycharm": {
     "name": "#%% md\n"
    }
   }
  },
  {
   "cell_type": "code",
   "execution_count": 4,
   "outputs": [
    {
     "ename": "AssertionError",
     "evalue": "Parameter SlowFastHopfNet.connectivity is not one-dimensional.",
     "output_type": "error",
     "traceback": [
      "\u001B[0;31m---------------------------------------------------------------------------\u001B[0m",
      "\u001B[0;31mAssertionError\u001B[0m                            Traceback (most recent call last)",
      "Input \u001B[0;32mIn [4]\u001B[0m, in \u001B[0;36m<cell line: 1>\u001B[0;34m()\u001B[0m\n\u001B[0;32m----> 1\u001B[0m parameters \u001B[38;5;241m=\u001B[39m \u001B[43mParameterSpace\u001B[49m\u001B[43m(\u001B[49m\u001B[43m{\u001B[49m\u001B[38;5;124;43m\"\u001B[39;49m\u001B[38;5;124;43mSlowFastHopfNet.connectivity\u001B[39;49m\u001B[38;5;124;43m\"\u001B[39;49m\u001B[43m:\u001B[49m\u001B[43m \u001B[49m\u001B[43mnp\u001B[49m\u001B[38;5;241;43m.\u001B[39;49m\u001B[43marray\u001B[49m\u001B[43m(\u001B[49m\u001B[43m[\u001B[49m\u001B[43m[\u001B[49m\u001B[43m[\u001B[49m\u001B[38;5;241;43m0.\u001B[39;49m\u001B[43m,\u001B[49m\u001B[38;5;241;43m1.\u001B[39;49m\u001B[43m]\u001B[49m\u001B[43m,\u001B[49m\u001B[43m[\u001B[49m\u001B[38;5;241;43m1.\u001B[39;49m\u001B[43m,\u001B[49m\u001B[38;5;241;43m0.\u001B[39;49m\u001B[43m]\u001B[49m\u001B[43m]\u001B[49m\u001B[43m,\u001B[49m\u001B[43m[\u001B[49m\u001B[43m[\u001B[49m\u001B[38;5;241;43m0.\u001B[39;49m\u001B[43m,\u001B[49m\u001B[38;5;241;43m2.\u001B[39;49m\u001B[43m]\u001B[49m\u001B[43m,\u001B[49m\u001B[43m[\u001B[49m\u001B[38;5;241;43m2.\u001B[39;49m\u001B[43m,\u001B[49m\u001B[38;5;241;43m0.\u001B[39;49m\u001B[43m]\u001B[49m\u001B[43m]\u001B[49m\u001B[43m]\u001B[49m\u001B[43m)\u001B[49m\u001B[43m}\u001B[49m\u001B[43m)\u001B[49m\n\u001B[1;32m      3\u001B[0m search \u001B[38;5;241m=\u001B[39m BoxSearch(model \u001B[38;5;241m=\u001B[39m model,evalFunction \u001B[38;5;241m=\u001B[39m measure_coupling_eval , parameterSpace \u001B[38;5;241m=\u001B[39m parameters, filename\u001B[38;5;241m=\u001B[39m\u001B[38;5;124m\"\u001B[39m\u001B[38;5;124mHopf_conn_test.hdf\u001B[39m\u001B[38;5;124m\"\u001B[39m)\n",
      "File \u001B[0;32m~/Documents/BCCN/Lab_Rotation_CFC/Hopf_CFC/Hopf_CFC_analysis/venv/lib/python3.8/site-packages/neurolib/utils/parameterSpace.py:51\u001B[0m, in \u001B[0;36mParameterSpace.__init__\u001B[0;34m(self, parameters, parameterValues, kind, allow_star_notation)\u001B[0m\n\u001B[1;32m     47\u001B[0m \u001B[38;5;28;01mif\u001B[39;00m parameterValues \u001B[38;5;129;01mis\u001B[39;00m \u001B[38;5;28;01mNone\u001B[39;00m:\n\u001B[1;32m     48\u001B[0m     \u001B[38;5;28;01massert\u001B[39;00m \u001B[38;5;28misinstance\u001B[39m(\n\u001B[1;32m     49\u001B[0m         parameters, \u001B[38;5;28mdict\u001B[39m\n\u001B[1;32m     50\u001B[0m     ), \u001B[38;5;124m\"\u001B[39m\u001B[38;5;124mParameters must be a dict, if no values are given in `parameterValues`\u001B[39m\u001B[38;5;124m\"\u001B[39m\n\u001B[0;32m---> 51\u001B[0m     processedParameters \u001B[38;5;241m=\u001B[39m \u001B[38;5;28;43mself\u001B[39;49m\u001B[38;5;241;43m.\u001B[39;49m\u001B[43m_processParameterDict\u001B[49m\u001B[43m(\u001B[49m\u001B[43mparameters\u001B[49m\u001B[43m)\u001B[49m\n\u001B[1;32m     52\u001B[0m \u001B[38;5;28;01melse\u001B[39;00m:\n\u001B[1;32m     53\u001B[0m     \u001B[38;5;66;03m# check if all names are strings\u001B[39;00m\n\u001B[1;32m     54\u001B[0m     \u001B[38;5;28;01massert\u001B[39;00m np\u001B[38;5;241m.\u001B[39mall([\u001B[38;5;28misinstance\u001B[39m(pn, \u001B[38;5;28mstr\u001B[39m) \u001B[38;5;28;01mfor\u001B[39;00m pn \u001B[38;5;129;01min\u001B[39;00m parameters]), \u001B[38;5;124m\"\u001B[39m\u001B[38;5;124mParameter names must all be strings.\u001B[39m\u001B[38;5;124m\"\u001B[39m\n",
      "File \u001B[0;32m~/Documents/BCCN/Lab_Rotation_CFC/Hopf_CFC/Hopf_CFC_analysis/venv/lib/python3.8/site-packages/neurolib/utils/parameterSpace.py:202\u001B[0m, in \u001B[0;36mParameterSpace._processParameterDict\u001B[0;34m(self, parameters)\u001B[0m\n\u001B[1;32m    200\u001B[0m \u001B[38;5;28;01mfor\u001B[39;00m key, value \u001B[38;5;129;01min\u001B[39;00m parameters\u001B[38;5;241m.\u001B[39mitems():\n\u001B[1;32m    201\u001B[0m     \u001B[38;5;28;01mif\u001B[39;00m \u001B[38;5;28misinstance\u001B[39m(value, np\u001B[38;5;241m.\u001B[39mndarray):\n\u001B[0;32m--> 202\u001B[0m         \u001B[38;5;28;01massert\u001B[39;00m \u001B[38;5;28mlen\u001B[39m(value\u001B[38;5;241m.\u001B[39mshape) \u001B[38;5;241m==\u001B[39m \u001B[38;5;241m1\u001B[39m, \u001B[38;5;124mf\u001B[39m\u001B[38;5;124m\"\u001B[39m\u001B[38;5;124mParameter \u001B[39m\u001B[38;5;132;01m{\u001B[39;00mkey\u001B[38;5;132;01m}\u001B[39;00m\u001B[38;5;124m is not one-dimensional.\u001B[39m\u001B[38;5;124m\"\u001B[39m\n\u001B[1;32m    203\u001B[0m         value \u001B[38;5;241m=\u001B[39m value\u001B[38;5;241m.\u001B[39mtolist()\n\u001B[1;32m    204\u001B[0m         parameters[key] \u001B[38;5;241m=\u001B[39m value\n",
      "\u001B[0;31mAssertionError\u001B[0m: Parameter SlowFastHopfNet.connectivity is not one-dimensional."
     ]
    }
   ],
   "source": [
    "parameters = ParameterSpace({\"SlowFastHopfNet.connectivity\": np.array([[[0.,1.],[1.,0.]],[[0.,2.],[2.,0.]]])})\n",
    "\n",
    "search = BoxSearch(model = model,evalFunction = measure_coupling_eval , parameterSpace = parameters, filename=\"Hopf_conn_test.hdf\")"
   ],
   "metadata": {
    "collapsed": false,
    "pycharm": {
     "name": "#%%\n"
    }
   }
  },
  {
   "cell_type": "code",
   "execution_count": null,
   "outputs": [],
   "source": [
    "connectivity = np.tile(np.eye(2)[::-1],(5,1,1))"
   ],
   "metadata": {
    "collapsed": false,
    "pycharm": {
     "name": "#%%\n"
    }
   }
  },
  {
   "cell_type": "code",
   "execution_count": null,
   "outputs": [],
   "source": [],
   "metadata": {
    "collapsed": false,
    "pycharm": {
     "name": "#%%\n"
    }
   }
  }
 ],
 "metadata": {
  "kernelspec": {
   "display_name": "Python 3",
   "language": "python",
   "name": "python3"
  },
  "language_info": {
   "codemirror_mode": {
    "name": "ipython",
    "version": 2
   },
   "file_extension": ".py",
   "mimetype": "text/x-python",
   "name": "python",
   "nbconvert_exporter": "python",
   "pygments_lexer": "ipython2",
   "version": "2.7.6"
  }
 },
 "nbformat": 4,
 "nbformat_minor": 0
}