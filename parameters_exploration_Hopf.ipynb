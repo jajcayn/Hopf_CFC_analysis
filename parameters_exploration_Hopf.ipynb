{
 "cells": [
  {
   "cell_type": "code",
   "execution_count": 1,
   "metadata": {
    "collapsed": true
   },
   "outputs": [],
   "source": [
    "import matplotlib.pyplot as plt\n",
    "import numpy as np\n",
    "from neurolib.models.multimodel import MultiModel\n",
    "from neurolib.models.multimodel.builder import HopfNetwork\n",
    "from neurolib.utils.functions import getPowerSpectrum\n",
    "from neurolib.utils.stimulus import ZeroInput\n",
    "\n",
    "from hopf_cfc_network import SlowFastHopfNetwork\n",
    "from neurolib.utils.parameterSpace import ParameterSpace\n",
    "from neurolib.optimize.exploration import BoxSearch\n",
    "\n",
    "import h5py\n",
    "\n",
    "plt.style.use(\"seaborn\")\n",
    "\n",
    "# w instrinsic\n",
    "# 0.003 ~ 0.5Hz\n",
    "# 0.005 ~ 0.8Hz\n",
    "# 0.01 ~ 2Hz\n",
    "# 0.05 ~ 8Hz\n",
    "# 0.06 ~ 10Hz\n",
    "# 0.08 ~ 12Hz\n",
    "# 0.1 ~ 17Hz\n",
    "# 0.2 ~ 32Hz\n",
    "# 0.3 ~ 50Hz"
   ]
  },
  {
   "cell_type": "code",
   "execution_count": 2,
   "outputs": [],
   "source": [
    "def measure_coupling_eval(traj):\n",
    "\n",
    "    pars = search.getParametersFromTraj(traj)\n",
    "    n_bins = 18\n",
    "\n",
    "    phase_slow = np.arctan2(pars['y'][0],pars['x'][0])\n",
    "    amp_fast = np.sqrt(pars['x'][1] ** 2 + pars['y'][1] ** 2)\n",
    "    binned_phase = np.digitize(phase_slow,bins=np.linspace(-np.pi,np.pi,n_bins+1))\n",
    "    mean_bin_amp = np.zeros(n_bins+1) # in theory index of bins goes from 0 to N_BINS\n",
    "    for bin_idx in np.unique(binned_phase):\n",
    "        mean_bin_amp[bin_idx] = np.mean(amp_fast[binned_phase==bin_idx])\n",
    "\n",
    "    mean_bin_amp = mean_bin_amp[1:] # because in theory there could be stuff that is smaller than -pi, then actually the interval between -pi and the next bin has index 1.\n",
    "    #normalize the mean amplitude in each bin\n",
    "    mean_bin_amp = mean_bin_amp/np.sum(mean_bin_amp)\n",
    "    mi = modulation_index(mean_bin_amp)\n",
    "\n",
    "    result_dict = {\"modulation_index\": mi}\n",
    "    search.saveToPypet(result_dict, traj)\n",
    "\n",
    "def modulation_index(P):\n",
    "    \"\"\"\n",
    "    MI = KL(P,U)/log(n), where U is a uniform distribution.\n",
    "    :param P: mean amplitude for each phase bin, shape (N_BINS,)\n",
    "    :return modulation index, quantitative measure of phase amplitude coupling\n",
    "    \"\"\"\n",
    "    n_bins = P.shape[0]\n",
    "    try:\n",
    "        assert np.isclose(np.sum(P),1)\n",
    "    except AssertionError:\n",
    "        print(\"Please normalize P!\")\n",
    "    kl = np.log(n_bins) + np.sum(P*np.log(P))\n",
    "    return kl/np.log(n_bins)"
   ],
   "metadata": {
    "collapsed": false,
    "pycharm": {
     "name": "#%%\n"
    }
   }
  },
  {
   "cell_type": "markdown",
   "source": [
    "How exactly do I do the parameter exploration passing both the model and the evaluation function?"
   ],
   "metadata": {
    "collapsed": false,
    "pycharm": {
     "name": "#%% md\n"
    }
   }
  },
  {
   "cell_type": "code",
   "execution_count": 3,
   "outputs": [],
   "source": [
    "model = MultiModel(SlowFastHopfNetwork())"
   ],
   "metadata": {
    "collapsed": false,
    "pycharm": {
     "name": "#%%\n"
    }
   }
  },
  {
   "cell_type": "code",
   "execution_count": 4,
   "outputs": [
    {
     "name": "stderr",
     "output_type": "stream",
     "text": [
      "MainProcess pypet.storageservice.HDF5StorageService INFO     I will use the hdf5 file `./data/hdf/Hopf_conn_test.hdf`.\n",
      "MainProcess pypet.environment.Environment INFO     Environment initialized.\n"
     ]
    },
    {
     "ename": "AssertionError",
     "evalue": "",
     "output_type": "error",
     "traceback": [
      "\u001B[0;31m---------------------------------------------------------------------------\u001B[0m",
      "\u001B[0;31mAssertionError\u001B[0m                            Traceback (most recent call last)",
      "Input \u001B[0;32mIn [4]\u001B[0m, in \u001B[0;36m<cell line: 3>\u001B[0;34m()\u001B[0m\n\u001B[1;32m      1\u001B[0m parameters \u001B[38;5;241m=\u001B[39m ParameterSpace({\u001B[38;5;124m\"\u001B[39m\u001B[38;5;124mslow_to_fast_connection\u001B[39m\u001B[38;5;124m\"\u001B[39m: np\u001B[38;5;241m.\u001B[39mlinspace(\u001B[38;5;241m0\u001B[39m,\u001B[38;5;241m0.6\u001B[39m, \u001B[38;5;241m5\u001B[39m)})\n\u001B[0;32m----> 3\u001B[0m search \u001B[38;5;241m=\u001B[39m \u001B[43mBoxSearch\u001B[49m\u001B[43m(\u001B[49m\u001B[43mmodel\u001B[49m\u001B[43m \u001B[49m\u001B[38;5;241;43m=\u001B[39;49m\u001B[43m \u001B[49m\u001B[43mmodel\u001B[49m\u001B[43m,\u001B[49m\u001B[43mevalFunction\u001B[49m\u001B[43m \u001B[49m\u001B[38;5;241;43m=\u001B[39;49m\u001B[43m \u001B[49m\u001B[43mmeasure_coupling_eval\u001B[49m\u001B[43m \u001B[49m\u001B[43m,\u001B[49m\u001B[43m \u001B[49m\u001B[43mparameterSpace\u001B[49m\u001B[43m \u001B[49m\u001B[38;5;241;43m=\u001B[39;49m\u001B[43m \u001B[49m\u001B[43mparameters\u001B[49m\u001B[43m,\u001B[49m\u001B[43m \u001B[49m\u001B[43mfilename\u001B[49m\u001B[38;5;241;43m=\u001B[39;49m\u001B[38;5;124;43m\"\u001B[39;49m\u001B[38;5;124;43mHopf_conn_test.hdf\u001B[39;49m\u001B[38;5;124;43m\"\u001B[39;49m\u001B[43m)\u001B[49m\n",
      "File \u001B[0;32m~/Documents/BCCN/Lab_Rotation_CFC/Hopf_CFC/Hopf_CFC_analysis/venv/lib/python3.8/site-packages/neurolib/optimize/exploration/exploration.py:94\u001B[0m, in \u001B[0;36mBoxSearch.__init__\u001B[0;34m(self, model, parameterSpace, evalFunction, filename, saveAllModelOutputs, ncores)\u001B[0m\n\u001B[1;32m     92\u001B[0m \u001B[38;5;66;03m# bool to check whether pypet was initialized properly\u001B[39;00m\n\u001B[1;32m     93\u001B[0m \u001B[38;5;28mself\u001B[39m\u001B[38;5;241m.\u001B[39minitialized \u001B[38;5;241m=\u001B[39m \u001B[38;5;28;01mFalse\u001B[39;00m\n\u001B[0;32m---> 94\u001B[0m \u001B[38;5;28;43mself\u001B[39;49m\u001B[38;5;241;43m.\u001B[39;49m\u001B[43m_initializeExploration\u001B[49m\u001B[43m(\u001B[49m\u001B[38;5;28;43mself\u001B[39;49m\u001B[38;5;241;43m.\u001B[39;49m\u001B[43mfilename\u001B[49m\u001B[43m)\u001B[49m\n\u001B[1;32m     96\u001B[0m \u001B[38;5;28mself\u001B[39m\u001B[38;5;241m.\u001B[39mresults \u001B[38;5;241m=\u001B[39m \u001B[38;5;28;01mNone\u001B[39;00m\n",
      "File \u001B[0;32m~/Documents/BCCN/Lab_Rotation_CFC/Hopf_CFC/Hopf_CFC_analysis/venv/lib/python3.8/site-packages/neurolib/optimize/exploration/exploration.py:138\u001B[0m, in \u001B[0;36mBoxSearch._initializeExploration\u001B[0;34m(self, filename)\u001B[0m\n\u001B[1;32m    135\u001B[0m     \u001B[38;5;28mself\u001B[39m\u001B[38;5;241m.\u001B[39m_addParametersToPypet(\u001B[38;5;28mself\u001B[39m\u001B[38;5;241m.\u001B[39mtraj, \u001B[38;5;28mself\u001B[39m\u001B[38;5;241m.\u001B[39mparameterSpace\u001B[38;5;241m.\u001B[39mgetRandom(safe\u001B[38;5;241m=\u001B[39m\u001B[38;5;28;01mTrue\u001B[39;00m))\n\u001B[1;32m    137\u001B[0m \u001B[38;5;66;03m# Tell pypet which parameters to explore\u001B[39;00m\n\u001B[0;32m--> 138\u001B[0m \u001B[38;5;28mself\u001B[39m\u001B[38;5;241m.\u001B[39mpypetParametrization \u001B[38;5;241m=\u001B[39m \u001B[38;5;28;43mself\u001B[39;49m\u001B[38;5;241;43m.\u001B[39;49m\u001B[43mparameterSpace\u001B[49m\u001B[38;5;241;43m.\u001B[39;49m\u001B[43mget_parametrization\u001B[49m\u001B[43m(\u001B[49m\u001B[43m)\u001B[49m\n\u001B[1;32m    139\u001B[0m \u001B[38;5;66;03m# explicitely add all parameters within star notation, hence unwrap star notation into actual params names\u001B[39;00m\n\u001B[1;32m    140\u001B[0m \u001B[38;5;28;01mif\u001B[39;00m \u001B[38;5;28mself\u001B[39m\u001B[38;5;241m.\u001B[39mparameterSpace\u001B[38;5;241m.\u001B[39mstar:\n",
      "File \u001B[0;32m~/Documents/BCCN/Lab_Rotation_CFC/Hopf_CFC/Hopf_CFC_analysis/venv/lib/python3.8/site-packages/neurolib/utils/parameterSpace.py:91\u001B[0m, in \u001B[0;36mParameterSpace.get_parametrization\u001B[0;34m(self)\u001B[0m\n\u001B[1;32m     90\u001B[0m \u001B[38;5;28;01mdef\u001B[39;00m \u001B[38;5;21mget_parametrization\u001B[39m(\u001B[38;5;28mself\u001B[39m):\n\u001B[0;32m---> 91\u001B[0m     \u001B[38;5;28;01massert\u001B[39;00m \u001B[38;5;28mself\u001B[39m\u001B[38;5;241m.\u001B[39mkind \u001B[38;5;129;01mis\u001B[39;00m \u001B[38;5;129;01mnot\u001B[39;00m \u001B[38;5;28;01mNone\u001B[39;00m\n\u001B[1;32m     92\u001B[0m     \u001B[38;5;28;01mif\u001B[39;00m \u001B[38;5;28mself\u001B[39m\u001B[38;5;241m.\u001B[39mkind \u001B[38;5;129;01min\u001B[39;00m [\u001B[38;5;124m\"\u001B[39m\u001B[38;5;124mpoint\u001B[39m\u001B[38;5;124m\"\u001B[39m, \u001B[38;5;124m\"\u001B[39m\u001B[38;5;124mbound\u001B[39m\u001B[38;5;124m\"\u001B[39m, \u001B[38;5;124m\"\u001B[39m\u001B[38;5;124mexplicit\u001B[39m\u001B[38;5;124m\"\u001B[39m]:\n\u001B[1;32m     93\u001B[0m         \u001B[38;5;66;03m# check same length\u001B[39;00m\n\u001B[1;32m     94\u001B[0m         it \u001B[38;5;241m=\u001B[39m \u001B[38;5;28miter\u001B[39m(\u001B[38;5;28mself\u001B[39m\u001B[38;5;241m.\u001B[39mparameters\u001B[38;5;241m.\u001B[39mvalues())\n",
      "\u001B[0;31mAssertionError\u001B[0m: "
     ]
    }
   ],
   "source": [
    "parameters = ParameterSpace({\"slow_to_fast_connection\": np.linspace(0,0.6, 5)})\n",
    "\n",
    "search = BoxSearch(model = model,evalFunction = measure_coupling_eval , parameterSpace = parameters, filename=\"Hopf_conn_test.hdf\")"
   ],
   "metadata": {
    "collapsed": false,
    "pycharm": {
     "name": "#%%\n"
    }
   }
  },
  {
   "cell_type": "code",
   "execution_count": null,
   "outputs": [],
   "source": [],
   "metadata": {
    "collapsed": false,
    "pycharm": {
     "name": "#%%\n"
    }
   }
  }
 ],
 "metadata": {
  "kernelspec": {
   "display_name": "Python 3",
   "language": "python",
   "name": "python3"
  },
  "language_info": {
   "codemirror_mode": {
    "name": "ipython",
    "version": 2
   },
   "file_extension": ".py",
   "mimetype": "text/x-python",
   "name": "python",
   "nbconvert_exporter": "python",
   "pygments_lexer": "ipython2",
   "version": "2.7.6"
  }
 },
 "nbformat": 4,
 "nbformat_minor": 0
}