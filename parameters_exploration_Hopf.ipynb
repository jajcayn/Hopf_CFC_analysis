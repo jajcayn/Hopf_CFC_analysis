{
 "cells": [
  {
   "cell_type": "code",
   "execution_count": 12,
   "metadata": {
    "tags": []
   },
   "outputs": [],
   "source": [
    "import matplotlib.pyplot as plt\n",
    "import neurolib.optimize.exploration.explorationUtils as eu\n",
    "import numpy as np\n",
    "from neurolib.models.multimodel import MultiModel\n",
    "from neurolib.models.multimodel.builder import HopfNetwork\n",
    "from neurolib.optimize.exploration import BoxSearch\n",
    "from neurolib.utils.functions import getPowerSpectrum\n",
    "from neurolib.utils.parameterSpace import ParameterSpace\n",
    "from neurolib.utils.stimulus import ZeroInput\n",
    "\n",
    "from hopf_cfc_network import SlowFastHopfNetwork\n",
    "\n",
    "plt.style.use(\"seaborn\")\n",
    "\n",
    "# w instrinsic\n",
    "# 0.003 ~ 0.5Hz\n",
    "# 0.005 ~ 0.8Hz\n",
    "# 0.01 ~ 2Hz\n",
    "# 0.05 ~ 8Hz\n",
    "# 0.06 ~ 10Hz\n",
    "# 0.08 ~ 12Hz\n",
    "# 0.1 ~ 17Hz\n",
    "# 0.2 ~ 32Hz\n",
    "# 0.3 ~ 50Hz"
   ]
  },
  {
   "cell_type": "code",
   "execution_count": 4,
   "metadata": {},
   "outputs": [],
   "source": [
    "DURATION = 20.0 * 1000  # ms\n",
    "DT = 0.1  # ms\n",
    "\n",
    "model = MultiModel(\n",
    "    SlowFastHopfNetwork(\n",
    "        number_of_slow_fast_units=1,\n",
    "        slow_to_fast_connection=0.0,\n",
    "        fast_to_slow_connection=0.0,\n",
    "    )\n",
    ")\n",
    "\n",
    "model.params[\"duration\"] = 20.0 * 1000\n",
    "model.params[\"sampling_dt\"] = DT\n",
    "model.params[\"dt\"] = 0.01  # ms - lower dt for numba backend\n",
    "# numba backend is the way to go in exploration - much faster\n",
    "model.params[\"backend\"] = \"numba\"\n",
    "\n",
    "# manually add params you want to change during exploration, btw model.params is just a dictionary, so you can add whatever :)\n",
    "model.params[\"slow_to_fast\"] = 0.0\n",
    "model.params[\"fast_to_slow\"] = 0.0"
   ]
  },
  {
   "cell_type": "code",
   "execution_count": 8,
   "metadata": {},
   "outputs": [],
   "source": [
    "parameters = ParameterSpace(\n",
    "    {\n",
    "        \"slow_to_fast\": np.linspace(0.0, 1.0, 21),\n",
    "        \"fast_to_slow\": np.linspace(0.0, 1.0, 21),\n",
    "    },\n",
    "    allow_star_notation=True,\n",
    "    kind=\"grid\",\n",
    ")"
   ]
  },
  {
   "cell_type": "code",
   "execution_count": 9,
   "metadata": {
    "collapsed": false,
    "jupyter": {
     "outputs_hidden": false
    },
    "pycharm": {
     "name": "#%%\n"
    }
   },
   "outputs": [],
   "source": [
    "def modulation_index(P):\n",
    "    \"\"\"\n",
    "    MI = KL(P,U)/log(n), where U is a uniform distribution.\n",
    "    :param P: mean amplitude for each phase bin, shape (N_BINS,)\n",
    "    :return modulation index, quantitative measure of phase amplitude coupling\n",
    "    \"\"\"\n",
    "    n_bins = P.shape[0]\n",
    "    try:\n",
    "        assert np.isclose(np.sum(P), 1)\n",
    "    except AssertionError:\n",
    "        print(\"Please normalize P!\")\n",
    "    kl = np.log(n_bins) + np.sum(P * np.log(P))\n",
    "    return kl / np.log(n_bins)\n",
    "\n",
    "\n",
    "def evaluateSimulation(traj):\n",
    "    # easiest way is to just init again...\n",
    "    model = search.getModelFromTraj(traj)\n",
    "\n",
    "    model = MultiModel(\n",
    "        SlowFastHopfNetwork(\n",
    "            number_of_slow_fast_units=1,\n",
    "            slow_to_fast_connection=0.0,\n",
    "            fast_to_slow_connection=0.0,\n",
    "        )\n",
    "    )\n",
    "\n",
    "    model.params[\"duration\"] = 20.0 * 1000\n",
    "    model.params[\"sampling_dt\"] = DT\n",
    "    model.params[\"dt\"] = 0.01\n",
    "    model.params[\"backend\"] = \"numba\"\n",
    "    model.params[\"slow_to_fast\"] = 0.0\n",
    "    model.params[\"fast_to_slow\"] = 0.0\n",
    "\n",
    "    model.run()\n",
    "\n",
    "    n_bins = 18\n",
    "\n",
    "    phase_slow = np.arctan2(model.y[0, :], model.x[0, :])\n",
    "    amp_fast = np.sqrt(model.x[1, :] ** 2 + model.y[1, :] ** 2)\n",
    "    binned_phase = np.digitize(phase_slow, bins=np.linspace(-np.pi, np.pi, n_bins + 1))\n",
    "    mean_bin_amp = np.zeros(n_bins + 1)  # in theory index of bins goes from 0 to N_BINS\n",
    "    for bin_idx in np.unique(binned_phase):\n",
    "        mean_bin_amp[bin_idx] = np.mean(amp_fast[binned_phase == bin_idx])\n",
    "\n",
    "    mean_bin_amp = mean_bin_amp[\n",
    "        1:\n",
    "    ]  # because in theory there could be stuff that is smaller than -pi, then actually the interval between -pi and the next bin has index 1.\n",
    "    # normalize the mean amplitude in each bin\n",
    "    mean_bin_amp = mean_bin_amp / np.sum(mean_bin_amp)\n",
    "    mi = modulation_index(mean_bin_amp)\n",
    "\n",
    "    result_dict = {\"modulation_index\": mi}\n",
    "    search.saveToPypet(result_dict, traj)"
   ]
  },
  {
   "cell_type": "code",
   "execution_count": 10,
   "metadata": {
    "collapsed": false,
    "jupyter": {
     "outputs_hidden": false
    },
    "pycharm": {
     "name": "#%%\n"
    }
   },
   "outputs": [
    {
     "name": "stderr",
     "output_type": "stream",
     "text": [
      "MainProcess root INFO     Number of processes: 6\n",
      "MainProcess pypet.storageservice.HDF5StorageService INFO     I will use the hdf5 file `./data/hdf/Hopf_conn_test.hdf`.\n",
      "MainProcess pypet.environment.Environment INFO     Environment initialized.\n",
      "MainProcess root INFO     Number of parameter configurations: 441\n",
      "MainProcess root INFO     BoxSearch: Environment initialized.\n"
     ]
    }
   ],
   "source": [
    "search = BoxSearch(\n",
    "    model=model,\n",
    "    evalFunction=evaluateSimulation,\n",
    "    parameterSpace=parameters,\n",
    "    filename=\"Hopf_conn_test.hdf\",\n",
    "    ncores=6,\n",
    ")"
   ]
  },
  {
   "cell_type": "code",
   "execution_count": 11,
   "metadata": {
    "collapsed": false,
    "jupyter": {
     "outputs_hidden": false
    },
    "pycharm": {
     "name": "#%%\n"
    }
   },
   "outputs": [
    {
     "name": "stderr",
     "output_type": "stream",
     "text": [
      "MainProcess pypet.environment.Environment INFO     I am preparing the Trajectory for the experiment and initialise the store.\n",
      "MainProcess pypet.environment.Environment INFO     Initialising the storage for the trajectory.\n",
      "MainProcess pypet.storageservice.HDF5StorageService INFO     Initialising storage or updating meta data of Trajectory `results-2022-04-21-15H-51M-03S`.\n",
      "MainProcess pypet.storageservice.HDF5StorageService INFO     Finished init or meta data update for `results-2022-04-21-15H-51M-03S`.\n",
      "MainProcess pypet.environment.Environment INFO     \n",
      "************************************************************\n",
      "STARTING runs of trajectory\n",
      "`results-2022-04-21-15H-51M-03S`.\n",
      "************************************************************\n",
      "\n",
      "MainProcess pypet.storageservice.HDF5StorageService INFO     Initialising storage or updating meta data of Trajectory `results-2022-04-21-15H-51M-03S`.\n",
      "MainProcess pypet.storageservice.HDF5StorageService INFO     Finished init or meta data update for `results-2022-04-21-15H-51M-03S`.\n",
      "MainProcess pypet.environment.Environment INFO     Starting multiprocessing with at most 6 processes running at the same time.\n",
      "MainProcess pypet INFO     PROGRESS: Finished   0/441 runs [                    ]  0.0%\n",
      "MainProcess pypet INFO     PROGRESS: Finished  23/441 runs [=                   ]  5.2%, remaining: 0:05:15\n",
      "MainProcess pypet INFO     PROGRESS: Finished  45/441 runs [==                  ] 10.2%, remaining: 0:05:03\n",
      "MainProcess pypet INFO     PROGRESS: Finished  67/441 runs [===                 ] 15.2%, remaining: 0:04:49\n",
      "MainProcess pypet INFO     PROGRESS: Finished  89/441 runs [====                ] 20.2%, remaining: 0:04:22\n",
      "MainProcess pypet INFO     PROGRESS: Finished 111/441 runs [=====               ] 25.2%, remaining: 0:04:09\n",
      "MainProcess pypet INFO     PROGRESS: Finished 133/441 runs [======              ] 30.2%, remaining: 0:03:58\n",
      "MainProcess pypet INFO     PROGRESS: Finished 155/441 runs [=======             ] 35.1%, remaining: 0:03:36\n",
      "MainProcess pypet INFO     PROGRESS: Finished 177/441 runs [========            ] 40.1%, remaining: 0:03:23\n",
      "MainProcess pypet INFO     PROGRESS: Finished 199/441 runs [=========           ] 45.1%, remaining: 0:03:07\n",
      "MainProcess pypet INFO     PROGRESS: Finished 221/441 runs [==========          ] 50.1%, remaining: 0:02:46\n",
      "MainProcess pypet INFO     PROGRESS: Finished 243/441 runs [===========         ] 55.1%, remaining: 0:02:30\n",
      "MainProcess pypet INFO     PROGRESS: Finished 265/441 runs [============        ] 60.1%, remaining: 0:02:14\n",
      "MainProcess pypet INFO     PROGRESS: Finished 287/441 runs [=============       ] 65.1%, remaining: 0:01:55\n",
      "MainProcess pypet INFO     PROGRESS: Finished 309/441 runs [==============      ] 70.1%, remaining: 0:01:39\n",
      "MainProcess pypet INFO     PROGRESS: Finished 331/441 runs [===============     ] 75.1%, remaining: 0:01:22\n",
      "MainProcess pypet INFO     PROGRESS: Finished 353/441 runs [================    ] 80.0%, remaining: 0:01:06\n",
      "MainProcess pypet INFO     PROGRESS: Finished 375/441 runs [=================   ] 85.0%, remaining: 0:00:49\n",
      "MainProcess pypet INFO     PROGRESS: Finished 397/441 runs [==================  ] 90.0%, remaining: 0:00:33\n",
      "MainProcess pypet INFO     PROGRESS: Finished 419/441 runs [=================== ] 95.0%, remaining: 0:00:16\n",
      "MainProcess pypet INFO     PROGRESS: Finished 441/441 runs [====================]100.0%\n",
      "MainProcess pypet.storageservice.HDF5StorageService INFO     Initialising storage or updating meta data of Trajectory `results-2022-04-21-15H-51M-03S`.\n",
      "MainProcess pypet.storageservice.HDF5StorageService INFO     Finished init or meta data update for `results-2022-04-21-15H-51M-03S`.\n",
      "MainProcess pypet.environment.Environment INFO     \n",
      "************************************************************\n",
      "FINISHED all runs of trajectory\n",
      "`results-2022-04-21-15H-51M-03S`.\n",
      "************************************************************\n",
      "\n",
      "MainProcess pypet.environment.Environment INFO     \n",
      "************************************************************\n",
      "STARTING FINAL STORING of trajectory\n",
      "`results-2022-04-21-15H-51M-03S`\n",
      "************************************************************\n",
      "\n",
      "MainProcess pypet.storageservice.HDF5StorageService INFO     Start storing Trajectory `results-2022-04-21-15H-51M-03S`.\n",
      "MainProcess pypet.storageservice.HDF5StorageService INFO     Storing branch `config`.\n",
      "MainProcess pypet.storageservice.HDF5StorageService INFO     Storing branch `parameters`.\n",
      "MainProcess pypet.storageservice.HDF5StorageService INFO     Finished storing Trajectory `results-2022-04-21-15H-51M-03S`.\n",
      "MainProcess pypet.environment.Environment INFO     \n",
      "************************************************************\n",
      "FINISHED FINAL STORING of trajectory\n",
      "`results-2022-04-21-15H-51M-03S`.\n",
      "************************************************************\n",
      "\n",
      "MainProcess pypet.environment.Environment INFO     All runs of trajectory `results-2022-04-21-15H-51M-03S` were completed successfully.\n"
     ]
    }
   ],
   "source": [
    "search.run()"
   ]
  },
  {
   "cell_type": "code",
   "execution_count": 13,
   "metadata": {
    "collapsed": false,
    "jupyter": {
     "outputs_hidden": false
    },
    "pycharm": {
     "name": "#%%\n"
    }
   },
   "outputs": [
    {
     "name": "stderr",
     "output_type": "stream",
     "text": [
      "MainProcess root INFO     Loading results from ./data/hdf/Hopf_conn_test.hdf\n",
      "MainProcess root INFO     Analyzing trajectory results-2022-04-21-15H-51M-03S\n",
      "MainProcess pypet.storageservice.HDF5StorageService INFO     I will use the hdf5 file `./data/hdf/Hopf_conn_test.hdf`.\n",
      "MainProcess pypet.storageservice.HDF5StorageService INFO     Loading trajectory `results-2022-04-21-15H-51M-03S`.\n",
      "MainProcess pypet.storageservice.HDF5StorageService INFO     Loading branch `config` in mode `2`.\n",
      "MainProcess pypet.storageservice.HDF5StorageService INFO     Loading branch `parameters` in mode `2`.\n",
      "MainProcess pypet.storageservice.HDF5StorageService INFO     Loading branch `results` in mode `1`.\n",
      "MainProcess root INFO     Creating `dfResults` dataframe ...\n",
      "MainProcess root INFO     Loading all results to `results` dictionary ...\n",
      "100%|████████████████████████████████████████████████████████████████████████████████████████████████████████████████████████████████████████████████████████████████████| 441/441 [00:00<00:00, 466.06it/s]\n",
      "MainProcess root INFO     Aggregating results to `dfResults` ...\n",
      "100%|███████████████████████████████████████████████████████████████████████████████████████████████████████████████████████████████████████████████████████████████████| 441/441 [00:00<00:00, 7236.51it/s]\n",
      "MainProcess root INFO     All results loaded.\n"
     ]
    }
   ],
   "source": [
    "search.loadResults(all=True)"
   ]
  },
  {
   "cell_type": "code",
   "execution_count": 14,
   "metadata": {},
   "outputs": [
    {
     "data": {
      "text/html": [
       "<div>\n",
       "<style scoped>\n",
       "    .dataframe tbody tr th:only-of-type {\n",
       "        vertical-align: middle;\n",
       "    }\n",
       "\n",
       "    .dataframe tbody tr th {\n",
       "        vertical-align: top;\n",
       "    }\n",
       "\n",
       "    .dataframe thead th {\n",
       "        text-align: right;\n",
       "    }\n",
       "</style>\n",
       "<table border=\"1\" class=\"dataframe\">\n",
       "  <thead>\n",
       "    <tr style=\"text-align: right;\">\n",
       "      <th></th>\n",
       "      <th>slow_to_fast</th>\n",
       "      <th>fast_to_slow</th>\n",
       "      <th>modulation_index</th>\n",
       "    </tr>\n",
       "  </thead>\n",
       "  <tbody>\n",
       "    <tr>\n",
       "      <th>0</th>\n",
       "      <td>0.0</td>\n",
       "      <td>0.00</td>\n",
       "      <td>1.657336e-09</td>\n",
       "    </tr>\n",
       "    <tr>\n",
       "      <th>1</th>\n",
       "      <td>0.0</td>\n",
       "      <td>0.05</td>\n",
       "      <td>1.255738e-10</td>\n",
       "    </tr>\n",
       "    <tr>\n",
       "      <th>2</th>\n",
       "      <td>0.0</td>\n",
       "      <td>0.10</td>\n",
       "      <td>4.123345e-10</td>\n",
       "    </tr>\n",
       "    <tr>\n",
       "      <th>3</th>\n",
       "      <td>0.0</td>\n",
       "      <td>0.15</td>\n",
       "      <td>1.243428e-11</td>\n",
       "    </tr>\n",
       "    <tr>\n",
       "      <th>4</th>\n",
       "      <td>0.0</td>\n",
       "      <td>0.20</td>\n",
       "      <td>9.906368e-10</td>\n",
       "    </tr>\n",
       "    <tr>\n",
       "      <th>...</th>\n",
       "      <td>...</td>\n",
       "      <td>...</td>\n",
       "      <td>...</td>\n",
       "    </tr>\n",
       "    <tr>\n",
       "      <th>436</th>\n",
       "      <td>1.0</td>\n",
       "      <td>0.80</td>\n",
       "      <td>4.179881e-10</td>\n",
       "    </tr>\n",
       "    <tr>\n",
       "      <th>437</th>\n",
       "      <td>1.0</td>\n",
       "      <td>0.85</td>\n",
       "      <td>7.084887e-09</td>\n",
       "    </tr>\n",
       "    <tr>\n",
       "      <th>438</th>\n",
       "      <td>1.0</td>\n",
       "      <td>0.90</td>\n",
       "      <td>1.407367e-11</td>\n",
       "    </tr>\n",
       "    <tr>\n",
       "      <th>439</th>\n",
       "      <td>1.0</td>\n",
       "      <td>0.95</td>\n",
       "      <td>6.437656e-09</td>\n",
       "    </tr>\n",
       "    <tr>\n",
       "      <th>440</th>\n",
       "      <td>1.0</td>\n",
       "      <td>1.00</td>\n",
       "      <td>7.177995e-10</td>\n",
       "    </tr>\n",
       "  </tbody>\n",
       "</table>\n",
       "<p>441 rows × 3 columns</p>\n",
       "</div>"
      ],
      "text/plain": [
       "     slow_to_fast  fast_to_slow  modulation_index\n",
       "0             0.0          0.00      1.657336e-09\n",
       "1             0.0          0.05      1.255738e-10\n",
       "2             0.0          0.10      4.123345e-10\n",
       "3             0.0          0.15      1.243428e-11\n",
       "4             0.0          0.20      9.906368e-10\n",
       "..            ...           ...               ...\n",
       "436           1.0          0.80      4.179881e-10\n",
       "437           1.0          0.85      7.084887e-09\n",
       "438           1.0          0.90      1.407367e-11\n",
       "439           1.0          0.95      6.437656e-09\n",
       "440           1.0          1.00      7.177995e-10\n",
       "\n",
       "[441 rows x 3 columns]"
      ]
     },
     "execution_count": 14,
     "metadata": {},
     "output_type": "execute_result"
    }
   ],
   "source": [
    "search.dfResults"
   ]
  },
  {
   "cell_type": "code",
   "execution_count": 21,
   "metadata": {},
   "outputs": [
    {
     "data": {
      "image/png": "[encoded data removed]",
      "text/plain": [
       "<Figure size 750x600 with 2 Axes>"
      ]
     },
     "metadata": {},
     "output_type": "display_data"
    }
   ],
   "source": [
    "eu.plotExplorationResults(\n",
    "    search.dfResults,\n",
    "    par1=[\"slow_to_fast\", r\"slow$\\to$fast\"],\n",
    "    par2=[\"fast_to_slow\", r\"fast$\\to$slow\"],\n",
    "    plot_key=\"modulation_index\",\n",
    "    nan_to_zero=False,\n",
    "    plot_key_label=\"Modulation Index\",\n",
    ")"
   ]
  }
 ],
 "metadata": {
  "kernelspec": {
   "display_name": "Python 3 (ipykernel)",
   "language": "python",
   "name": "python3"
  },
  "language_info": {
   "codemirror_mode": {
    "name": "ipython",
    "version": 3
   },
   "file_extension": ".py",
   "mimetype": "text/x-python",
   "name": "python",
   "nbconvert_exporter": "python",
   "pygments_lexer": "ipython3",
   "version": "3.7.13"
  }
 },
 "nbformat": 4,
 "nbformat_minor": 4
}
