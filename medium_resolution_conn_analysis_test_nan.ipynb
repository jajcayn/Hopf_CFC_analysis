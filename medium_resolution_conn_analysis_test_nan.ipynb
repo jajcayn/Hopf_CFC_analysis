{
 "cells": [
  {
   "cell_type": "code",
   "execution_count": 1,
   "metadata": {
    "tags": []
   },
   "outputs": [],
   "source": [
    "\"\"\"\n",
    "Run exploration with high resolution within the connection strengths (100x100), but with only two different values for\n",
    "the frequencies of the fast and slow oscillators.\n",
    "\n",
    "\"\"\"\n",
    "\n",
    "import numpy as np\n",
    "from neurolib.optimize.exploration import BoxSearch\n",
    "from neurolib.utils.functions import getPowerSpectrum\n",
    "from neurolib.utils.parameterSpace import ParameterSpace\n",
    "from neurolib.models.multimodel import MultiModel\n",
    "from hopf_cfc_network import SlowFastHopfNetwork\n",
    "from cfcUtils import modulation_index_general, mean_vector_length, phase_locking_value, mutual_information\n",
    "from scipy.signal import find_peaks\n",
    "import neurolib.utils.pypetUtils as pu\n",
    "import neurolib.optimize.exploration.explorationUtils as eu\n",
    "import matplotlib.pyplot as plt\n",
    "import h5py\n",
    "\n",
    "# w instrinsic\n",
    "# 0.003 ~ 0.5Hz\n",
    "# 0.005 ~ 0.8Hz\n",
    "# 0.01 ~ 2Hz\n",
    "# 0.05 ~ 8Hz\n",
    "# 0.06 ~ 10Hz\n",
    "# 0.08 ~ 12Hz\n",
    "# 0.1 ~ 17Hz\n",
    "# 0.2 ~ 32Hz\n",
    "# 0.3 ~ 50Hz"
   ]
  },
  {
   "cell_type": "code",
   "execution_count": 2,
   "metadata": {
    "collapsed": false,
    "jupyter": {
     "outputs_hidden": false
    },
    "pycharm": {
     "name": "#%%\n"
    }
   },
   "outputs": [],
   "source": [
    "DURATION = 20.0 * 1000  # ms\n",
    "DT = 0.1  # ms\n",
    "\n",
    "model = MultiModel(\n",
    "    SlowFastHopfNetwork(\n",
    "        number_of_slow_fast_units=1,\n",
    "        slow_to_fast_connection=0.0,\n",
    "        fast_to_slow_connection=0.0,\n",
    "    )\n",
    ")\n",
    "\n",
    "model.params[\"duration\"] = DURATION\n",
    "model.params[\"sampling_dt\"] = DT\n",
    "model.params[\"dt\"] = 0.01  # ms - lower dt for numba backend\n",
    "# numba backend is the way to go in exploration - much faster\n",
    "model.params[\"backend\"] = \"numba\"\n",
    "\n",
    "# manually add params you want to change during exploration, btw model.params is just a dictionary, so you can add whatever :)\n",
    "model.params[\"slow_to_fast\"] = 0.0\n",
    "model.params[\"fast_to_slow\"] = 0.0\n",
    "model.params[\"bifurcation_param_slow\"] = 0.25\n",
    "model.params[\"bifurcation_param_fast\"] = 0.25\n",
    "model.params[\"frequency_slow\"] = 0.04\n",
    "model.params[\"frequency_fast\"] = 0.2"
   ]
  },
  {
   "cell_type": "code",
   "execution_count": 3,
   "metadata": {
    "collapsed": false,
    "jupyter": {
     "outputs_hidden": false
    },
    "pycharm": {
     "name": "#%%\n"
    }
   },
   "outputs": [],
   "source": [
    "parameters = ParameterSpace(\n",
    "    {\n",
    "        \"slow_to_fast\": np.linspace(0.0, 2., 15),\n",
    "        \"fast_to_slow\": np.linspace(0.0, 2., 15),\n",
    "        \"frequency_slow\": np.array([0.02, 0.04, 0.08]),\n",
    "        \"frequency_fast\": np.array([0.15, 0.25, 0.35]),\n",
    "        \"bifurcation_param_slow\": np.array([0.25, 0.6, 1.3, 4, 8]),\n",
    "        \"bifurcation_param_fast\": np.array([0.25, 0.4, 0.6, 1, 4]),\n",
    "    },\n",
    "    allow_star_notation=True,\n",
    "    kind=\"grid\",\n",
    ")\n",
    "# Default params:\n",
    "# slow_frequency: 0.04\n",
    "# fast_frequency: 0.2\n",
    "# bifurcation param: 0.25"
   ]
  },
  {
   "cell_type": "code",
   "execution_count": 4,
   "metadata": {
    "collapsed": false,
    "jupyter": {
     "outputs_hidden": false
    },
    "pycharm": {
     "name": "#%%\n"
    }
   },
   "outputs": [],
   "source": [
    "def evaluateSimulation(traj):\n",
    "    # get model with parameters for this run\n",
    "    model = search.getModelFromTraj(traj)\n",
    "    # extract stuff you want\n",
    "    s_f_conn = model.params[\"slow_to_fast\"]\n",
    "    f_s_conn = model.params[\"fast_to_slow\"]\n",
    "\n",
    "    model.params[\"*connectivity\"] = np.array([[0.0, f_s_conn], [s_f_conn, 0.0]])\n",
    "    model.params['SlowFastHopfNet.SlowHopf_0.HopfMass_0.a'] = model.params[\"bifurcation_param_slow\"]\n",
    "    model.params['SlowFastHopfNet.FastHopf_1.HopfMass_0.a'] = model.params[\"bifurcation_param_fast\"]\n",
    "    model.params['SlowFastHopfNet.SlowHopf_0.HopfMass_0.w'] = model.params[\"frequency_slow\"]\n",
    "    model.params['SlowFastHopfNet.FastHopf_1.HopfMass_0.w'] = model.params[\"frequency_fast\"]\n",
    "\n",
    "    model.run()\n",
    "\n",
    "    freq_slow, pow_slow = getPowerSpectrum(model.x.T[:, 0], dt=0.1, maxfr=60, spectrum_windowsize=1)\n",
    "    freq_fast, pow_fast = getPowerSpectrum(model.x.T[:, 1], dt=0.1, maxfr=60, spectrum_windowsize=1)\n",
    "\n",
    "    peaks_fast, _ = find_peaks(pow_fast, height=max(1e-3, 1.0 * np.std(pow_fast)))\n",
    "    peaks_slow, _ = find_peaks(pow_slow, height=max(1e-3, 0.5 * np.std(pow_slow)))\n",
    "\n",
    "    if (np.allclose(np.asarray(model.x.T[100000:150000, 0]), np.asarray(model.x.T[150000:, 0]), rtol=1e-3) and\n",
    "            (np.allclose(np.asarray(model.x.T[100000:150000, 1]), np.asarray(model.x.T[150000:, 1]), rtol=1e-3))):\n",
    "\n",
    "        # that is, if in the last 10 seconds of the simulation are in a constant value, then we\n",
    "        # are in a fixed point, there's no oscillation --> we're not interested\n",
    "        mi = []\n",
    "        mvl_abs = []\n",
    "        plv_abs = []\n",
    "        mvl_angle = []\n",
    "        plv_angle = []\n",
    "        minfo = []\n",
    "\n",
    "    else:\n",
    "        phase_slow = np.arctan2(model.y[0, :], model.x[0, :])\n",
    "        phase_fast = np.arctan2(model.y[1, :], model.x[1, :])\n",
    "        amp_fast = np.sqrt(model.x[1, :] ** 2 + model.y[1, :] ** 2)\n",
    "\n",
    "        mi = modulation_index_general(amp_fast, phase_slow, n_bins = 18)\n",
    "        mvl = mean_vector_length(amp_fast, phase_slow)\n",
    "        mvl_abs = np.absolute(mvl)\n",
    "        mvl_angle = np.angle(mvl)\n",
    "        plv = phase_locking_value(phase_fast, phase_slow)\n",
    "        plv_abs = np.absolute(plv)\n",
    "        plv_angle = np.angle(plv)\n",
    "        minfo = mutual_information(phase_fast, phase_slow, bins=16, log2=False)\n",
    "\n",
    "\n",
    "    result_dict = {\n",
    "        \"peaks_freq_fast\": peaks_fast,\n",
    "        \"peaks_freq_slow\": peaks_slow,\n",
    "        \"modulation_index\": mi,\n",
    "        \"mean_vector_length_abs\": mvl_abs,\n",
    "        \"mean_vector_length_angle\": mvl_angle,\n",
    "        \"phase_locking_value_abs\": plv_abs,\n",
    "        \"phase_locking_value_angle\": plv_angle,\n",
    "        \"mutual_information\": minfo,\n",
    "    }\n",
    "\n",
    "\n",
    "    search.saveToPypet(result_dict, traj)\n"
   ]
  },
  {
   "cell_type": "code",
   "execution_count": 5,
   "metadata": {
    "collapsed": false,
    "jupyter": {
     "outputs_hidden": false
    },
    "pycharm": {
     "name": "#%%\n"
    }
   },
   "outputs": [
    {
     "name": "stderr",
     "output_type": "stream",
     "text": [
      "MainProcess pypet.storageservice.HDF5StorageService INFO     I will use the hdf5 file `./data/hdf/medium_resolution_exploration.hdf`.\n",
      "MainProcess pypet.environment.Environment INFO     Environment initialized.\n",
      "MainProcess root INFO     Number of parameter configurations: 50625\n",
      "MainProcess root INFO     BoxSearch: Environment initialized.\n"
     ]
    }
   ],
   "source": [
    "search = BoxSearch(\n",
    "    model=model,\n",
    "    evalFunction=evaluateSimulation,\n",
    "    parameterSpace=parameters,\n",
    "    filename=\"medium_resolution_exploration.hdf\",\n",
    "    ncores=50,\n",
    ")"
   ]
  },
  {
   "cell_type": "code",
   "execution_count": 6,
   "metadata": {
    "collapsed": false,
    "jupyter": {
     "outputs_hidden": false
    },
    "pycharm": {
     "name": "#%%\n"
    }
   },
   "outputs": [
    {
     "name": "stderr",
     "output_type": "stream",
     "text": [
      "MainProcess root INFO     Loading results from ./data/hdf/medium_resolution_exploration.hdf\n"
     ]
    },
    {
     "ename": "OSError",
     "evalue": "Unable to open file (truncated file: eof = 943942938, sblock->base_addr = 0, stored_eof = 943958138)",
     "output_type": "error",
     "traceback": [
      "\u001B[0;31m---------------------------------------------------------------------------\u001B[0m",
      "\u001B[0;31mOSError\u001B[0m                                   Traceback (most recent call last)",
      "Input \u001B[0;32mIn [6]\u001B[0m, in \u001B[0;36m<cell line: 1>\u001B[0;34m()\u001B[0m\n\u001B[0;32m----> 1\u001B[0m \u001B[43msearch\u001B[49m\u001B[38;5;241;43m.\u001B[39;49m\u001B[43mloadResults\u001B[49m\u001B[43m(\u001B[49m\u001B[43m)\u001B[49m\n",
      "File \u001B[0;32m~/Documents/BCCN/Lab_Rotation_CFC/Hopf_CFC/Hopf_CFC_analysis/venv/lib/python3.8/site-packages/neurolib/optimize/exploration/exploration.py:336\u001B[0m, in \u001B[0;36mBoxSearch.loadResults\u001B[0;34m(self, all, filename, trajectoryName, pypetShortNames, memory_cap)\u001B[0m\n\u001B[1;32m    316\u001B[0m \u001B[38;5;28;01mdef\u001B[39;00m \u001B[38;5;21mloadResults\u001B[39m(\u001B[38;5;28mself\u001B[39m, \u001B[38;5;28mall\u001B[39m\u001B[38;5;241m=\u001B[39m\u001B[38;5;28;01mTrue\u001B[39;00m, filename\u001B[38;5;241m=\u001B[39m\u001B[38;5;28;01mNone\u001B[39;00m, trajectoryName\u001B[38;5;241m=\u001B[39m\u001B[38;5;28;01mNone\u001B[39;00m, pypetShortNames\u001B[38;5;241m=\u001B[39m\u001B[38;5;28;01mTrue\u001B[39;00m, memory_cap\u001B[38;5;241m=\u001B[39m\u001B[38;5;241m95.0\u001B[39m):\n\u001B[1;32m    317\u001B[0m     \u001B[38;5;124;03m\"\"\"Load results from a hdf file of a previous simulation.\u001B[39;00m\n\u001B[1;32m    318\u001B[0m \n\u001B[1;32m    319\u001B[0m \u001B[38;5;124;03m    :param all: Load all simulated results into memory, which will be available as the `.results` attribute. Can\u001B[39;00m\n\u001B[0;32m   (...)\u001B[0m\n\u001B[1;32m    333\u001B[0m \u001B[38;5;124;03m    :type memory_cap: float, int, optional\u001B[39;00m\n\u001B[1;32m    334\u001B[0m \u001B[38;5;124;03m    \"\"\"\u001B[39;00m\n\u001B[0;32m--> 336\u001B[0m     \u001B[38;5;28;43mself\u001B[39;49m\u001B[38;5;241;43m.\u001B[39;49m\u001B[43mloadDfResults\u001B[49m\u001B[43m(\u001B[49m\u001B[43mfilename\u001B[49m\u001B[43m,\u001B[49m\u001B[43m \u001B[49m\u001B[43mtrajectoryName\u001B[49m\u001B[43m)\u001B[49m\n\u001B[1;32m    338\u001B[0m     \u001B[38;5;66;03m# make a list of dictionaries with results\u001B[39;00m\n\u001B[1;32m    339\u001B[0m     \u001B[38;5;28mself\u001B[39m\u001B[38;5;241m.\u001B[39mresults \u001B[38;5;241m=\u001B[39m dotdict({})\n",
      "File \u001B[0;32m~/Documents/BCCN/Lab_Rotation_CFC/Hopf_CFC/Hopf_CFC_analysis/venv/lib/python3.8/site-packages/neurolib/optimize/exploration/exploration.py:438\u001B[0m, in \u001B[0;36mBoxSearch.loadDfResults\u001B[0;34m(self, filename, trajectoryName)\u001B[0m\n\u001B[1;32m    436\u001B[0m \u001B[38;5;66;03m# chose HDF file to load\u001B[39;00m\n\u001B[1;32m    437\u001B[0m filename \u001B[38;5;241m=\u001B[39m filename \u001B[38;5;129;01mor\u001B[39;00m \u001B[38;5;28mself\u001B[39m\u001B[38;5;241m.\u001B[39mHDF_FILE\n\u001B[0;32m--> 438\u001B[0m \u001B[38;5;28mself\u001B[39m\u001B[38;5;241m.\u001B[39mpypetTrajectory \u001B[38;5;241m=\u001B[39m \u001B[43mpu\u001B[49m\u001B[38;5;241;43m.\u001B[39;49m\u001B[43mloadPypetTrajectory\u001B[49m\u001B[43m(\u001B[49m\u001B[43mfilename\u001B[49m\u001B[43m,\u001B[49m\u001B[43m \u001B[49m\u001B[43mtrajectoryName\u001B[49m\u001B[43m)\u001B[49m\n\u001B[1;32m    439\u001B[0m \u001B[38;5;28mself\u001B[39m\u001B[38;5;241m.\u001B[39mnResults \u001B[38;5;241m=\u001B[39m \u001B[38;5;28mlen\u001B[39m(\u001B[38;5;28mself\u001B[39m\u001B[38;5;241m.\u001B[39mpypetTrajectory\u001B[38;5;241m.\u001B[39mf_get_run_names())\n\u001B[1;32m    441\u001B[0m exploredParameters \u001B[38;5;241m=\u001B[39m \u001B[38;5;28mself\u001B[39m\u001B[38;5;241m.\u001B[39mpypetTrajectory\u001B[38;5;241m.\u001B[39mf_get_explored_parameters()\n",
      "File \u001B[0;32m~/Documents/BCCN/Lab_Rotation_CFC/Hopf_CFC/Hopf_CFC_analysis/venv/lib/python3.8/site-packages/neurolib/utils/pypetUtils.py:40\u001B[0m, in \u001B[0;36mloadPypetTrajectory\u001B[0;34m(filename, trajectoryName)\u001B[0m\n\u001B[1;32m     38\u001B[0m \u001B[38;5;66;03m# if trajectoryName is not specified, load the most recent trajectory\u001B[39;00m\n\u001B[1;32m     39\u001B[0m \u001B[38;5;28;01mif\u001B[39;00m trajectoryName \u001B[38;5;241m==\u001B[39m \u001B[38;5;28;01mNone\u001B[39;00m:\n\u001B[0;32m---> 40\u001B[0m     trajectoryName \u001B[38;5;241m=\u001B[39m \u001B[43mgetTrajectorynamesInFile\u001B[49m\u001B[43m(\u001B[49m\u001B[43mfilename\u001B[49m\u001B[43m)\u001B[49m[\u001B[38;5;241m-\u001B[39m\u001B[38;5;241m1\u001B[39m]\n\u001B[1;32m     41\u001B[0m logging\u001B[38;5;241m.\u001B[39minfo(\u001B[38;5;124mf\u001B[39m\u001B[38;5;124m\"\u001B[39m\u001B[38;5;124mAnalyzing trajectory \u001B[39m\u001B[38;5;132;01m{\u001B[39;00mtrajectoryName\u001B[38;5;132;01m}\u001B[39;00m\u001B[38;5;124m\"\u001B[39m)\n\u001B[1;32m     43\u001B[0m pypetTrajectory \u001B[38;5;241m=\u001B[39m pypet\u001B[38;5;241m.\u001B[39mTrajectory(trajectoryName, add_time\u001B[38;5;241m=\u001B[39m\u001B[38;5;28;01mFalse\u001B[39;00m)\n",
      "File \u001B[0;32m~/Documents/BCCN/Lab_Rotation_CFC/Hopf_CFC/Hopf_CFC_analysis/venv/lib/python3.8/site-packages/neurolib/utils/pypetUtils.py:21\u001B[0m, in \u001B[0;36mgetTrajectorynamesInFile\u001B[0;34m(filename)\u001B[0m\n\u001B[1;32m     11\u001B[0m \u001B[38;5;124;03m\"\"\"\u001B[39;00m\n\u001B[1;32m     12\u001B[0m \u001B[38;5;124;03mReturn a list of all pypet trajectory names in a a given hdf5 file.\u001B[39;00m\n\u001B[1;32m     13\u001B[0m \n\u001B[0;32m   (...)\u001B[0m\n\u001B[1;32m     18\u001B[0m \u001B[38;5;124;03m:rtype: list[str]\u001B[39;00m\n\u001B[1;32m     19\u001B[0m \u001B[38;5;124;03m\"\"\"\u001B[39;00m\n\u001B[1;32m     20\u001B[0m \u001B[38;5;28;01massert\u001B[39;00m pathlib\u001B[38;5;241m.\u001B[39mPath(filename)\u001B[38;5;241m.\u001B[39mexists(), \u001B[38;5;124mf\u001B[39m\u001B[38;5;124m\"\u001B[39m\u001B[38;5;132;01m{\u001B[39;00mfilename\u001B[38;5;132;01m}\u001B[39;00m\u001B[38;5;124m does not exist!\u001B[39m\u001B[38;5;124m\"\u001B[39m\n\u001B[0;32m---> 21\u001B[0m hdf \u001B[38;5;241m=\u001B[39m \u001B[43mh5py\u001B[49m\u001B[38;5;241;43m.\u001B[39;49m\u001B[43mFile\u001B[49m\u001B[43m(\u001B[49m\u001B[43mfilename\u001B[49m\u001B[43m,\u001B[49m\u001B[43m \u001B[49m\u001B[38;5;124;43m\"\u001B[39;49m\u001B[38;5;124;43mr\u001B[39;49m\u001B[38;5;124;43m\"\u001B[39;49m\u001B[43m)\u001B[49m\n\u001B[1;32m     22\u001B[0m all_traj_names \u001B[38;5;241m=\u001B[39m \u001B[38;5;28mlist\u001B[39m(hdf\u001B[38;5;241m.\u001B[39mkeys())\n\u001B[1;32m     23\u001B[0m hdf\u001B[38;5;241m.\u001B[39mclose()\n",
      "File \u001B[0;32m~/Documents/BCCN/Lab_Rotation_CFC/Hopf_CFC/Hopf_CFC_analysis/venv/lib/python3.8/site-packages/h5py/_hl/files.py:507\u001B[0m, in \u001B[0;36mFile.__init__\u001B[0;34m(self, name, mode, driver, libver, userblock_size, swmr, rdcc_nslots, rdcc_nbytes, rdcc_w0, track_order, fs_strategy, fs_persist, fs_threshold, fs_page_size, page_buf_size, min_meta_keep, min_raw_keep, locking, **kwds)\u001B[0m\n\u001B[1;32m    502\u001B[0m     fapl \u001B[38;5;241m=\u001B[39m make_fapl(driver, libver, rdcc_nslots, rdcc_nbytes, rdcc_w0,\n\u001B[1;32m    503\u001B[0m                      locking, page_buf_size, min_meta_keep, min_raw_keep, \u001B[38;5;241m*\u001B[39m\u001B[38;5;241m*\u001B[39mkwds)\n\u001B[1;32m    504\u001B[0m     fcpl \u001B[38;5;241m=\u001B[39m make_fcpl(track_order\u001B[38;5;241m=\u001B[39mtrack_order, fs_strategy\u001B[38;5;241m=\u001B[39mfs_strategy,\n\u001B[1;32m    505\u001B[0m                      fs_persist\u001B[38;5;241m=\u001B[39mfs_persist, fs_threshold\u001B[38;5;241m=\u001B[39mfs_threshold,\n\u001B[1;32m    506\u001B[0m                      fs_page_size\u001B[38;5;241m=\u001B[39mfs_page_size)\n\u001B[0;32m--> 507\u001B[0m     fid \u001B[38;5;241m=\u001B[39m \u001B[43mmake_fid\u001B[49m\u001B[43m(\u001B[49m\u001B[43mname\u001B[49m\u001B[43m,\u001B[49m\u001B[43m \u001B[49m\u001B[43mmode\u001B[49m\u001B[43m,\u001B[49m\u001B[43m \u001B[49m\u001B[43muserblock_size\u001B[49m\u001B[43m,\u001B[49m\u001B[43m \u001B[49m\u001B[43mfapl\u001B[49m\u001B[43m,\u001B[49m\u001B[43m \u001B[49m\u001B[43mfcpl\u001B[49m\u001B[43m,\u001B[49m\u001B[43m \u001B[49m\u001B[43mswmr\u001B[49m\u001B[38;5;241;43m=\u001B[39;49m\u001B[43mswmr\u001B[49m\u001B[43m)\u001B[49m\n\u001B[1;32m    509\u001B[0m \u001B[38;5;28;01mif\u001B[39;00m \u001B[38;5;28misinstance\u001B[39m(libver, \u001B[38;5;28mtuple\u001B[39m):\n\u001B[1;32m    510\u001B[0m     \u001B[38;5;28mself\u001B[39m\u001B[38;5;241m.\u001B[39m_libver \u001B[38;5;241m=\u001B[39m libver\n",
      "File \u001B[0;32m~/Documents/BCCN/Lab_Rotation_CFC/Hopf_CFC/Hopf_CFC_analysis/venv/lib/python3.8/site-packages/h5py/_hl/files.py:220\u001B[0m, in \u001B[0;36mmake_fid\u001B[0;34m(name, mode, userblock_size, fapl, fcpl, swmr)\u001B[0m\n\u001B[1;32m    218\u001B[0m     \u001B[38;5;28;01mif\u001B[39;00m swmr \u001B[38;5;129;01mand\u001B[39;00m swmr_support:\n\u001B[1;32m    219\u001B[0m         flags \u001B[38;5;241m|\u001B[39m\u001B[38;5;241m=\u001B[39m h5f\u001B[38;5;241m.\u001B[39mACC_SWMR_READ\n\u001B[0;32m--> 220\u001B[0m     fid \u001B[38;5;241m=\u001B[39m \u001B[43mh5f\u001B[49m\u001B[38;5;241;43m.\u001B[39;49m\u001B[43mopen\u001B[49m\u001B[43m(\u001B[49m\u001B[43mname\u001B[49m\u001B[43m,\u001B[49m\u001B[43m \u001B[49m\u001B[43mflags\u001B[49m\u001B[43m,\u001B[49m\u001B[43m \u001B[49m\u001B[43mfapl\u001B[49m\u001B[38;5;241;43m=\u001B[39;49m\u001B[43mfapl\u001B[49m\u001B[43m)\u001B[49m\n\u001B[1;32m    221\u001B[0m \u001B[38;5;28;01melif\u001B[39;00m mode \u001B[38;5;241m==\u001B[39m \u001B[38;5;124m'\u001B[39m\u001B[38;5;124mr+\u001B[39m\u001B[38;5;124m'\u001B[39m:\n\u001B[1;32m    222\u001B[0m     fid \u001B[38;5;241m=\u001B[39m h5f\u001B[38;5;241m.\u001B[39mopen(name, h5f\u001B[38;5;241m.\u001B[39mACC_RDWR, fapl\u001B[38;5;241m=\u001B[39mfapl)\n",
      "File \u001B[0;32mh5py/_objects.pyx:54\u001B[0m, in \u001B[0;36mh5py._objects.with_phil.wrapper\u001B[0;34m()\u001B[0m\n",
      "File \u001B[0;32mh5py/_objects.pyx:55\u001B[0m, in \u001B[0;36mh5py._objects.with_phil.wrapper\u001B[0;34m()\u001B[0m\n",
      "File \u001B[0;32mh5py/h5f.pyx:106\u001B[0m, in \u001B[0;36mh5py.h5f.open\u001B[0;34m()\u001B[0m\n",
      "\u001B[0;31mOSError\u001B[0m: Unable to open file (truncated file: eof = 943942938, sblock->base_addr = 0, stored_eof = 943958138)"
     ]
    }
   ],
   "source": [
    "search.loadResults()"
   ]
  },
  {
   "cell_type": "code",
   "execution_count": null,
   "metadata": {
    "collapsed": false,
    "jupyter": {
     "outputs_hidden": false
    },
    "pycharm": {
     "name": "#%%\n"
    }
   },
   "outputs": [],
   "source": [
    "search.dfResults"
   ]
  },
  {
   "cell_type": "code",
   "execution_count": null,
   "metadata": {
    "collapsed": false,
    "jupyter": {
     "outputs_hidden": false
    },
    "pycharm": {
     "name": "#%%\n"
    }
   },
   "outputs": [],
   "source": [
    "def try_division(row, exceptVal):\n",
    "    try:\n",
    "        return row[\"slow_to_fast\"]/row[\"fast_to_slow\"]\n",
    "    except ZeroDivisionError:\n",
    "        return np.inf\n",
    "def check_zero_length(row):\n",
    "    try:\n",
    "        if len(row)==0:\n",
    "            row = np.nan\n",
    "    except TypeError:\n",
    "        pass\n",
    "    return row"
   ]
  },
  {
   "cell_type": "code",
   "execution_count": null,
   "metadata": {},
   "outputs": [],
   "source": [
    "search.dfResults['max_freq_slow'] = search.dfResults.apply(\n",
    "    lambda row: np.amax(row[\"peaks_freq_slow\"],initial=0), axis=1\n",
    "    )\n",
    "search.dfResults['max_freq_fast'] = search.dfResults.apply(\n",
    "    lambda row: np.amax(row[\"peaks_freq_fast\"], initial=0), axis=1\n",
    "    )\n",
    "search.dfResults[\"ratio_freq\"]=search.dfResults.apply(\n",
    "    lambda row: row[\"frequency_fast\"]/row[\"frequency_slow\"],axis=1)\n",
    "\n",
    "search.dfResults[\"ratio_conn\"]=search.dfResults.apply(\n",
    "    lambda row: try_division(row,0),axis=1)\n",
    "\n",
    "search.dfResults['n_peaks_freq_slow'] = search.dfResults.apply(\n",
    "    lambda row: len(row[\"peaks_freq_slow\"]), axis=1\n",
    "    )\n",
    "search.dfResults['n_peaks_freq_fast'] = search.dfResults.apply(\n",
    "    lambda row: len(row[\"peaks_freq_fast\"]), axis=1\n",
    "    )\n"
   ]
  },
  {
   "cell_type": "code",
   "execution_count": null,
   "metadata": {},
   "outputs": [],
   "source": [
    "search.dfResults['modulation_index'] = search.dfResults.apply(\n",
    "    lambda row: check_zero_length(row[\"modulation_index\"]), axis=1)\n",
    "    "
   ]
  },
  {
   "cell_type": "code",
   "execution_count": null,
   "metadata": {},
   "outputs": [],
   "source": [
    "search.dfResults['mean_vector_length_angle'] = search.dfResults.apply( \n",
    "    lambda row: check_zero_length(row[\"mean_vector_length_angle\"]), axis=1)\n",
    "search.dfResults['mean_vector_length_abs'] = search.dfResults.apply( \n",
    "    lambda row: check_zero_length(row[\"mean_vector_length_abs\"]), axis=1)\n",
    "search.dfResults['phase_locking_value_angle'] = search.dfResults.apply( \n",
    "    lambda row: check_zero_length(row[\"phase_locking_value_angle\"]), axis=1) \n",
    "search.dfResults['phase_locking_value_abs'] = search.dfResults.apply( \n",
    "    lambda row: check_zero_length(row[\"phase_locking_value_abs\"]), axis=1) \n",
    "search.dfResults['mutual_information'] = search.dfResults.apply(\n",
    "    lambda row: check_zero_length(row[\"mutual_information\"]), axis=1)"
   ]
  },
  {
   "cell_type": "code",
   "execution_count": null,
   "metadata": {
    "tags": []
   },
   "outputs": [],
   "source": [
    "search.dfResults"
   ]
  },
  {
   "cell_type": "code",
   "execution_count": null,
   "metadata": {
    "tags": []
   },
   "outputs": [],
   "source": [
    "search.dfResults[search.dfResults.slow_to_fast>search.dfResults.fast_to_slow]"
   ]
  },
  {
   "cell_type": "code",
   "execution_count": null,
   "metadata": {},
   "outputs": [],
   "source": []
  },
  {
   "cell_type": "code",
   "execution_count": null,
   "metadata": {},
   "outputs": [],
   "source": [
    "import warnings \n",
    "warnings.filterwarnings('ignore')\n",
    "\n",
    "eu.plotExplorationResults(\n",
    "    search.dfResults[search.dfResults.slow_to_fast>search.dfResults.fast_to_slow],\n",
    "    par1=[\"bifurcation_param_slow\", r\"Bifurcation Param Slow\"],\n",
    "    par2=[\"bifurcation_param_fast\", r\"Bifurcation Param Fast\"],\n",
    "    plot_key=\"modulation_index\",\n",
    "    nan_to_zero=True,\n",
    "    by= \"ratio_conn\",\n",
    "    one_figure= True,\n",
    "    plot_key_label=\"Modulation index for r = slow_to_fast/fast_to_slow\",\n",
    "    contour=[\"max_freq_slow\", \"max_freq_fast\"],\n",
    "    contour_color=[[\"white\"], [\"blue\"]],\n",
    "    contour_levels=[[6,12,32], [6,12,32]],\n",
    "    contour_alpha=[1.0, 1.0],\n",
    "    contour_kwargs={\n",
    "        0: {\"linewidths\": (2,), \"clabel\": True},\n",
    "        1: {\"linewidths\": (2,), \"clabel\": True},\n",
    "    },\n",
    "    savename = \"modulation_index_medium_expl_bifurcation_params_ratios_conn.png\",\n",
    ")"
   ]
  },
  {
   "cell_type": "code",
   "execution_count": null,
   "metadata": {},
   "outputs": [],
   "source": [
    "eu.plotExplorationResults(\n",
    "    search.dfResults,\n",
    "    par1=[\"slow_to_fast\", r\"slow$\\to$fast\"],\n",
    "    par2=[\"fast_to_slow\", r\"fast$\\to$slow\"],\n",
    "    plot_key=\"modulation_index\",\n",
    "    nan_to_zero=True,\n",
    "    by= \"ratio_freq\",\n",
    "    one_figure= True,\n",
    "    plot_key_label=\"Modulation index\",\n",
    "    contour=[\"max_freq_slow\", \"max_freq_fast\"],\n",
    "    contour_color=[[\"white\"], [\"blue\"]],\n",
    "    contour_levels=[[6,12,32], [6,12,32]],\n",
    "    contour_alpha=[1.0, 1.0],\n",
    "    contour_kwargs={\n",
    "        0: {\"linewidths\": (2,), \"clabel\": True},\n",
    "        1: {\"linewidths\": (2,), \"clabel\": True},\n",
    "    },\n",
    "    savename = \"modulation_index_medium_expl_ratios_freq.png\",\n",
    ")"
   ]
  },
  {
   "cell_type": "code",
   "execution_count": null,
   "metadata": {},
   "outputs": [],
   "source": [
    "eu.plotExplorationResults(\n",
    "    search.dfResults,\n",
    "    par1=[\"slow_to_fast\", r\"slow$\\to$fast\"],\n",
    "    par2=[\"fast_to_slow\", r\"fast$\\to$slow\"],\n",
    "    plot_key=\"mutual_information\",\n",
    "    nan_to_zero=True,\n",
    "    by= \"ratio_freq\",\n",
    "    one_figure= True,\n",
    "    plot_key_label=\"Mutual Information\",\n",
    "    contour=[\"max_freq_slow\", \"max_freq_fast\"],\n",
    "    contour_color=[[\"white\"], [\"blue\"]],\n",
    "    contour_levels=[[6,12,32], [6,12,32]],\n",
    "    contour_alpha=[1.0, 1.0],\n",
    "    contour_kwargs={\n",
    "        0: {\"linewidths\": (2,), \"clabel\": True},\n",
    "        1: {\"linewidths\": (2,), \"clabel\": True},\n",
    "    },\n",
    "    savename = \"mutual_information_medium_expl_ratios_freq.png\",\n",
    ")"
   ]
  },
  {
   "cell_type": "code",
   "execution_count": null,
   "metadata": {},
   "outputs": [],
   "source": [
    "eu.plotExplorationResults(\n",
    "    search.dfResults,\n",
    "    par1=[\"slow_to_fast\", r\"slow$\\to$fast\"],\n",
    "    par2=[\"fast_to_slow\", r\"fast$\\to$slow\"],\n",
    "    plot_key=\"mean_vector_length_abs\",\n",
    "    nan_to_zero=True,\n",
    "    by= \"ratio_freq\",\n",
    "    one_figure= True,\n",
    "    plot_key_label=\"Mean vector length Absolute\",\n",
    "    contour=[\"max_freq_slow\", \"max_freq_fast\"],\n",
    "    contour_color=[[\"white\"], [\"blue\"]],\n",
    "    contour_levels=[[6,12,32], [6,12,32]],\n",
    "    contour_alpha=[1.0, 1.0],\n",
    "    contour_kwargs={\n",
    "        0: {\"linewidths\": (2,), \"clabel\": True},\n",
    "        1: {\"linewidths\": (2,), \"clabel\": True},\n",
    "    },\n",
    "    savename = \"mean_vector_length_abs_medium_expl_ratios_freq.png\",\n",
    ")"
   ]
  },
  {
   "cell_type": "code",
   "execution_count": null,
   "metadata": {},
   "outputs": [],
   "source": [
    "eu.plotExplorationResults(\n",
    "    search.dfResults,\n",
    "    par1=[\"slow_to_fast\", r\"slow$\\to$fast\"],\n",
    "    par2=[\"fast_to_slow\", r\"fast$\\to$slow\"],\n",
    "    plot_key=\"mean_vector_length_angle\",\n",
    "    nan_to_zero=True,\n",
    "    by= \"ratio_freq\",\n",
    "    one_figure= True,\n",
    "    plot_key_label=\"Mean vector length Angle\",\n",
    "    contour=[\"max_freq_slow\", \"max_freq_fast\"],\n",
    "    contour_color=[[\"white\"], [\"blue\"]],\n",
    "    contour_levels=[[6,12,32], [6,12,32]],\n",
    "    contour_alpha=[1.0, 1.0],\n",
    "    contour_kwargs={\n",
    "        0: {\"linewidths\": (2,), \"clabel\": True},\n",
    "        1: {\"linewidths\": (2,), \"clabel\": True},\n",
    "    },\n",
    "    savename = \"mean_vector_length_angle_medium_expl_ratios_freq.png\",\n",
    ")"
   ]
  },
  {
   "cell_type": "code",
   "execution_count": null,
   "metadata": {},
   "outputs": [],
   "source": [
    "eu.plotExplorationResults(\n",
    "    search.dfResults,\n",
    "    par1=[\"slow_to_fast\", r\"slow$\\to$fast\"],\n",
    "    par2=[\"fast_to_slow\", r\"fast$\\to$slow\"],\n",
    "    plot_key=\"phase_locking_value_abs\",\n",
    "    nan_to_zero=True,\n",
    "    by= \"ratio_freq\",\n",
    "    one_figure= True,\n",
    "    plot_key_label=\"Phase Locking Value Absolute\",\n",
    "    contour=[\"max_freq_slow\", \"max_freq_fast\"],\n",
    "    contour_color=[[\"white\"], [\"blue\"]],\n",
    "    contour_levels=[[6,12,32], [6,12,32]],\n",
    "    contour_alpha=[1.0, 1.0],\n",
    "    contour_kwargs={\n",
    "        0: {\"linewidths\": (2,), \"clabel\": True},\n",
    "        1: {\"linewidths\": (2,), \"clabel\": True},\n",
    "    },\n",
    "    savename = \"phase_locking_value_abs_medium_expl_ratios_freq.png\",\n",
    ")"
   ]
  },
  {
   "cell_type": "code",
   "execution_count": null,
   "metadata": {},
   "outputs": [],
   "source": [
    "eu.plotExplorationResults(\n",
    "    search.dfResults,\n",
    "    par1=[\"slow_to_fast\", r\"slow$\\to$fast\"],\n",
    "    par2=[\"fast_to_slow\", r\"fast$\\to$slow\"],\n",
    "    plot_key=\"phase_locking_value_angle\",\n",
    "    nan_to_zero=True,\n",
    "    by= \"ratio_freq\",\n",
    "    one_figure= True,\n",
    "    plot_key_label=\"Phase Locking Value Angle\",\n",
    "    contour=[\"max_freq_slow\", \"max_freq_fast\"],\n",
    "    contour_color=[[\"white\"], [\"blue\"]],\n",
    "    contour_levels=[[6,12,32], [6,12,32]],\n",
    "    contour_alpha=[1.0, 1.0],\n",
    "    contour_kwargs={\n",
    "        0: {\"linewidths\": (2,), \"clabel\": True},\n",
    "        1: {\"linewidths\": (2,), \"clabel\": True},\n",
    "    },\n",
    "    savename = \"phase_locking_value_angle_medium_expl_ratios_freq.png\",\n",
    ")"
   ]
  },
  {
   "cell_type": "code",
   "execution_count": null,
   "metadata": {},
   "outputs": [],
   "source": [
    "search.dfResults[search.dfResults.n_peaks_freq_slow >= 3]"
   ]
  },
  {
   "cell_type": "code",
   "execution_count": null,
   "metadata": {},
   "outputs": [],
   "source": [
    "search.dfResults[search.dfResults.n_peaks_freq_fast >= 3]"
   ]
  },
  {
   "cell_type": "code",
   "execution_count": null,
   "metadata": {},
   "outputs": [],
   "source": [
    "eu.plotExplorationResults(\n",
    "    search.dfResults[search.dfResults.slow_to_fast>search.dfResults.fast_to_slow],\n",
    "    par1=[\"bifurcation_param_slow\", r\"Bifurcation Param Slow\"],\n",
    "    par2=[\"bifurcation_param_fast\", r\"Bifurcation Param Fast\"],\n",
    "    plot_key=\"mutual_information\",\n",
    "    nan_to_zero=True,\n",
    "    by= \"ratio_conn\",\n",
    "    one_figure= True,\n",
    "    plot_key_label=\"mutual information for r = slow_to_fast/fast_to_slow\",\n",
    "    contour=[\"max_freq_slow\", \"max_freq_fast\"],\n",
    "    contour_color=[[\"white\"], [\"blue\"]],\n",
    "    contour_levels=[[6,12,32], [6,12,32]],\n",
    "    contour_alpha=[1.0, 1.0],\n",
    "    contour_kwargs={\n",
    "        0: {\"linewidths\": (2,), \"clabel\": True},\n",
    "        1: {\"linewidths\": (2,), \"clabel\": True},\n",
    "    },\n",
    "    savename = \"mutual_information_medium_expl_bifurcation_params_ratios_conn.png\",\n",
    ")"
   ]
  },
  {
   "cell_type": "code",
   "execution_count": null,
   "metadata": {},
   "outputs": [],
   "source": [
    "eu.plotExplorationResults(\n",
    "    search.dfResults[search.dfResults.slow_to_fast>search.dfResults.fast_to_slow],\n",
    "    par1=[\"bifurcation_param_slow\", r\"Bifurcation Param Slow\"],\n",
    "    par2=[\"bifurcation_param_fast\", r\"Bifurcation Param Fast\"],\n",
    "    plot_key=\"phase_locking_value_angle\",\n",
    "    nan_to_zero=True,\n",
    "    by= \"ratio_conn\",\n",
    "    one_figure= True,\n",
    "    plot_key_label=\"phase_locking_value_angle for r = slow_to_fast/fast_to_slow\",\n",
    "    contour=[\"max_freq_slow\", \"max_freq_fast\"],\n",
    "    contour_color=[[\"white\"], [\"blue\"]],\n",
    "    contour_levels=[[6,12,32], [6,12,32]],\n",
    "    contour_alpha=[1.0, 1.0],\n",
    "    contour_kwargs={\n",
    "        0: {\"linewidths\": (2,), \"clabel\": True},\n",
    "        1: {\"linewidths\": (2,), \"clabel\": True},\n",
    "    },\n",
    "    savename = \"phase_locking_value_angle_medium_expl_bifurcation_params_ratios_conn.png\",\n",
    ")\n"
   ]
  },
  {
   "cell_type": "code",
   "execution_count": null,
   "metadata": {
    "tags": []
   },
   "outputs": [],
   "source": [
    "eu.plotExplorationResults(\n",
    "    search.dfResults[search.dfResults.slow_to_fast>search.dfResults.fast_to_slow],\n",
    "    par1=[\"bifurcation_param_slow\", r\"Bifurcation Param Slow\"],\n",
    "    par2=[\"bifurcation_param_fast\", r\"Bifurcation Param Fast\"],\n",
    "    plot_key=\"phase_locking_value_abs\",\n",
    "    nan_to_zero=True,\n",
    "    by= \"ratio_conn\",\n",
    "    one_figure= True,\n",
    "    plot_key_label=\"phase_locking_value_abs for r = slow_to_fast/fast_to_slow\",\n",
    "    contour=[\"max_freq_slow\", \"max_freq_fast\"],\n",
    "    contour_color=[[\"white\"], [\"blue\"]],\n",
    "    contour_levels=[[6,12,32], [6,12,32]],\n",
    "    contour_alpha=[1.0, 1.0],\n",
    "    contour_kwargs={\n",
    "        0: {\"linewidths\": (2,), \"clabel\": True},\n",
    "        1: {\"linewidths\": (2,), \"clabel\": True},\n",
    "    },\n",
    "    savename = \"phase_locking_value_abs_medium_expl_bifurcation_params_ratios_conn.png\",\n",
    ")"
   ]
  },
  {
   "cell_type": "code",
   "execution_count": null,
   "metadata": {
    "tags": []
   },
   "outputs": [],
   "source": [
    "eu.plotExplorationResults(\n",
    "    search.dfResults[search.dfResults.slow_to_fast>search.dfResults.fast_to_slow],\n",
    "    par1=[\"bifurcation_param_slow\", r\"Bifurcation Param Slow\"],\n",
    "    par2=[\"bifurcation_param_fast\", r\"Bifurcation Param Fast\"],\n",
    "    plot_key=\"mean_vector_length_angle\",\n",
    "    nan_to_zero=True,\n",
    "    by= \"ratio_conn\",\n",
    "    one_figure= True,\n",
    "    plot_key_label=\"mean_vector_length_angle for r = slow_to_fast/fast_to_slow\",\n",
    "    contour=[\"max_freq_slow\", \"max_freq_fast\"],\n",
    "    contour_color=[[\"white\"], [\"blue\"]],\n",
    "    contour_levels=[[6,12,32], [6,12,32]],\n",
    "    contour_alpha=[1.0, 1.0],\n",
    "    contour_kwargs={\n",
    "        0: {\"linewidths\": (2,), \"clabel\": True},\n",
    "        1: {\"linewidths\": (2,), \"clabel\": True},\n",
    "    },\n",
    "    savename = \"mean_vector_length_angle_medium_expl_bifurcation_params_ratios_conn.png\",\n",
    ")"
   ]
  },
  {
   "cell_type": "code",
   "execution_count": null,
   "metadata": {},
   "outputs": [],
   "source": [
    "eu.plotExplorationResults(\n",
    "    search.dfResults[search.dfResults.slow_to_fast>search.dfResults.fast_to_slow],\n",
    "    par1=[\"bifurcation_param_slow\", r\"Bifurcation Param Slow\"],\n",
    "    par2=[\"bifurcation_param_fast\", r\"Bifurcation Param Fast\"],\n",
    "    plot_key=\"mean_vector_length_abs\",\n",
    "    nan_to_zero=True,\n",
    "    by= \"ratio_conn\",\n",
    "    one_figure= True,\n",
    "    plot_key_label=\"mean_vector_length_abs for r = slow_to_fast/fast_to_slow\",\n",
    "    contour=[\"max_freq_slow\", \"max_freq_fast\"],\n",
    "    contour_color=[[\"white\"], [\"blue\"]],\n",
    "    contour_levels=[[6,12,32], [6,12,32]],\n",
    "    contour_alpha=[1.0, 1.0],\n",
    "    contour_kwargs={\n",
    "        0: {\"linewidths\": (2,), \"clabel\": True},\n",
    "        1: {\"linewidths\": (2,), \"clabel\": True},\n",
    "    },\n",
    "    savename = \"mean_vector_length_abs_medium_expl_bifurcation_params_ratios_conn.png\",\n",
    ")"
   ]
  },
  {
   "cell_type": "code",
   "execution_count": null,
   "metadata": {},
   "outputs": [],
   "source": [
    "#search.dfResults.groupby([\"ratio_freq\"]).agg(np.nanmean)\n",
    "gb = search.dfResults.groupby('ratio_freq')\n",
    "df1,df2,df3,df4,df5,df6,df7,df8,df9 = [gb.get_group(x) for x in gb.groups]\n",
    "warnings.resetwarnings()"
   ]
  },
  {
   "cell_type": "code",
   "execution_count": null,
   "metadata": {},
   "outputs": [],
   "source": [
    "df_temp = search.dfResults.groupby([\"ratio_freq\",\"ratio_conn\",\"bifurcation_param_fast\",\"bifurcation_param_slow\"],as_index=False).agg(np.nanmean)"
   ]
  },
  {
   "cell_type": "code",
   "execution_count": null,
   "metadata": {},
   "outputs": [],
   "source": [
    "df_temp[df_temp.slow_to_fast > df_temp.fast_to_slow]"
   ]
  },
  {
   "cell_type": "code",
   "execution_count": null,
   "metadata": {},
   "outputs": [],
   "source": []
  },
  {
   "cell_type": "code",
   "execution_count": null,
   "metadata": {},
   "outputs": [],
   "source": [
    "for i, df in df_temp[df_temp.slow_to_fast > df_temp.fast_to_slow].groupby(by=\"ratio_conn\"):\n",
    "    df_pivot = df.pivot_table(values=\"mean_vector_length_abs\", index=\"bifurcation_param_fast\", columns=\"bifurcation_param_slow\")\n",
    "    df_pivot.fillna(0)\n",
    "    plt.imshow(df_pivot)\n",
    "    plt.xlabel(\"bifurcation_param_slow\")\n",
    "    plt.ylabel(\"bifurcation_param_fast\")\n",
    "    plt.xlim(np.min(df.bifurcation_param_slow),np.max(df.bifurcation_param_slow))\n",
    "    plt.ylim(np.max(df.bifurcation_param_fast),np.min(df.bifurcation_param_fast))\n",
    "    plt.title(f\"Ratio of conn{np.unique(np.asarray(df.ratio_conn))}\")\n",
    "    plt.colorbar()\n",
    "    ax = plt.gca()\n",
    "    ax.invert_yaxis()\n",
    "    plt.show()"
   ]
  },
  {
   "cell_type": "code",
   "execution_count": null,
   "metadata": {},
   "outputs": [],
   "source": [
    "eu.plotExplorationResults(\n",
    "    df_temp,\n",
    "    par1=[\"bifurcation_param_slow\", r\"Bifurcation Param Slow\"],\n",
    "    par2=[\"bifurcation_param_fast\", r\"Bifurcation Param Fast\"],\n",
    "    plot_key=\"mean_vector_length_abs\",\n",
    "    nan_to_zero=True,\n",
    "    by= \"ratio_conn\",\n",
    "    one_figure= True,\n",
    "    plot_key_label=\"mean_vector_length_abs for r = slow_to_fast/fast_to_slow\",\n",
    "    contour=[\"max_freq_slow\", \"max_freq_fast\"],\n",
    "    contour_color=[[\"white\"], [\"blue\"]],\n",
    "    contour_levels=[[6,12,32], [6,12,32]],\n",
    "    contour_alpha=[1.0, 1.0],\n",
    "    contour_kwargs={\n",
    "        0: {\"linewidths\": (2,), \"clabel\": True},\n",
    "        1: {\"linewidths\": (2,), \"clabel\": True},\n",
    "    },\n",
    "    savename = \"test.png\",\n",
    ")"
   ]
  },
  {
   "cell_type": "code",
   "execution_count": null,
   "metadata": {},
   "outputs": [],
   "source": []
  },
  {
   "cell_type": "code",
   "execution_count": null,
   "metadata": {},
   "outputs": [],
   "source": []
  }
 ],
 "metadata": {
  "kernelspec": {
   "display_name": "Python 3 (ipykernel)",
   "language": "python",
   "name": "python3"
  },
  "language_info": {
   "codemirror_mode": {
    "name": "ipython",
    "version": 3
   },
   "file_extension": ".py",
   "mimetype": "text/x-python",
   "name": "python",
   "nbconvert_exporter": "python",
   "pygments_lexer": "ipython3",
   "version": "3.9.7"
  }
 },
 "nbformat": 4,
 "nbformat_minor": 4
}