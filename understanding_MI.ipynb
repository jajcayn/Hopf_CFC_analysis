{
 "cells": [
  {
   "cell_type": "code",
   "execution_count": 1,
   "metadata": {
    "collapsed": true
   },
   "outputs": [],
   "source": [
    "import matplotlib.pyplot as plt\n",
    "import numpy as np\n",
    "from neurolib.models.multimodel import MultiModel\n",
    "from neurolib.models.multimodel.builder import HopfNetwork\n",
    "from neurolib.utils.functions import getPowerSpectrum\n",
    "from neurolib.utils.stimulus import ZeroInput\n",
    "\n",
    "from hopf_cfc_network import SlowFastHopfNetwork\n",
    "from neurolib.utils.parameterSpace import ParameterSpace\n",
    "from neurolib.optimize.exploration import BoxSearch\n",
    "\n",
    "import h5py\n",
    "from cfcUtils import modulation_index\n",
    "\n",
    "plt.style.use(\"seaborn\")\n",
    "\n",
    "# w instrinsic\n",
    "# 0.003 ~ 0.5Hz\n",
    "# 0.005 ~ 0.8Hz\n",
    "# 0.01 ~ 2Hz\n",
    "# 0.05 ~ 8Hz\n",
    "# 0.06 ~ 10Hz\n",
    "# 0.08 ~ 12Hz\n",
    "# 0.1 ~ 17Hz\n",
    "# 0.2 ~ 32Hz\n",
    "# 0.3 ~ 50Hz"
   ]
  },
  {
   "cell_type": "code",
   "execution_count": 2,
   "outputs": [],
   "source": [
    "DURATION = 20.0 * 1000  # ms\n",
    "DT = 0.1  # ms"
   ],
   "metadata": {
    "collapsed": false,
    "pycharm": {
     "name": "#%%\n"
    }
   }
  },
  {
   "cell_type": "code",
   "execution_count": 3,
   "outputs": [],
   "source": [
    "def simulate(slow_to_fast_conn=0.20, fast_to_slow_conn=0.15, fast_frequency = 0.2, slow_frequency = 0.04):\n",
    "    model = MultiModel(\n",
    "        SlowFastHopfNetwork(\n",
    "            number_of_slow_fast_units=1,\n",
    "            slow_to_fast_connection=slow_to_fast_conn,\n",
    "            fast_to_slow_connection=fast_to_slow_conn,\n",
    "        )\n",
    "    )\n",
    "    model.params[\"duration\"] = DURATION\n",
    "    model.params[\"sampling_dt\"] = DT\n",
    "    model.params[\"dt\"] = DT\n",
    "    model.params['SlowFastHopfNet.SlowHopf_0.HopfMass_0.w'] = slow_frequency\n",
    "    model.params['SlowFastHopfNet.FastHopf_1.HopfMass_0.w'] = fast_frequency\n",
    "\n",
    "    model.run()\n",
    "\n",
    "    return model"
   ],
   "metadata": {
    "collapsed": false,
    "pycharm": {
     "name": "#%%\n"
    }
   }
  },
  {
   "cell_type": "code",
   "execution_count": 4,
   "outputs": [
    {
     "name": "stderr",
     "output_type": "stream",
     "text": [
      "/home/lauraflyra/Documents/BCCN/Lab_Rotation_CFC/Hopf_CFC/Hopf_CFC_analysis/venv/lib/python3.8/site-packages/jitcdde/_jitcdde.py:1492: UserWarning: Your input past does not begin at t=0 but at t=0.1. Values before the beginning of the past will be extrapolated. You very likely do not want this.\n",
      "  warn(f\"Your input past does not begin at t=0 but at t={input[0].time}. Values before the beginning of the past will be extrapolated. You very likely do not want this.\")\n",
      "/tmp/tmpo7ev_rbc/jitced.c: In function ‘get_past_anchors’:\n",
      "/tmp/tmpo7ev_rbc/jitced.c:176: warning: ignoring #pragma omp atomic [-Wunknown-pragmas]\n",
      "  176 |  #pragma omp atomic capture\n",
      "      | \n",
      "/tmp/tmpo7ev_rbc/jitced.c:190: warning: ignoring #pragma omp critical [-Wunknown-pragmas]\n",
      "  190 |   #pragma omp critical(pws)\n",
      "      | \n",
      "/tmp/tmpo7ev_rbc/jitced.c: In function ‘get_recent_state’:\n",
      "/tmp/tmpo7ev_rbc/jitced.c:285: warning: ignoring #pragma omp parallel [-Wunknown-pragmas]\n",
      "  285 |  #pragma omp parallel for schedule(dynamic, 1)\n",
      "      | \n",
      "In file included from /tmp/tmpo7ev_rbc/jitced.c:370:\n",
      "/tmp/tmpo7ev_rbc/f.c: In function ‘eval_f’:\n",
      "/tmp/tmpo7ev_rbc/f.c:1: warning: ignoring #pragma omp parallel [-Wunknown-pragmas]\n",
      "    1 | #pragma omp parallel sections\n",
      "      | \n",
      "/tmp/tmpo7ev_rbc/f.c:3: warning: ignoring #pragma omp section [-Wunknown-pragmas]\n",
      "    3 | #pragma omp section\n",
      "      | \n",
      "/tmp/tmpo7ev_rbc/f.c:5: warning: ignoring #pragma omp section [-Wunknown-pragmas]\n",
      "    5 | #pragma omp section\n",
      "      | \n",
      "/tmp/tmpo7ev_rbc/f.c:7: warning: ignoring #pragma omp section [-Wunknown-pragmas]\n",
      "    7 | #pragma omp section\n",
      "      | \n",
      "/tmp/tmpo7ev_rbc/f.c:9: warning: ignoring #pragma omp section [-Wunknown-pragmas]\n",
      "    9 | #pragma omp section\n",
      "      | \n",
      "/tmp/tmpo7ev_rbc/f.c:11: warning: ignoring #pragma omp section [-Wunknown-pragmas]\n",
      "   11 | #pragma omp section\n",
      "      | \n",
      "/tmp/tmpo7ev_rbc/f.c:13: warning: ignoring #pragma omp section [-Wunknown-pragmas]\n",
      "   13 | #pragma omp section\n",
      "      | \n",
      "/tmp/tmpo7ev_rbc/f.c:15: warning: ignoring #pragma omp section [-Wunknown-pragmas]\n",
      "   15 | #pragma omp section\n",
      "      | \n",
      "/tmp/tmpo7ev_rbc/f.c:17: warning: ignoring #pragma omp section [-Wunknown-pragmas]\n",
      "   17 | #pragma omp section\n",
      "      | \n",
      "/tmp/tmpo7ev_rbc/jitced.c: In function ‘get_next_step’:\n",
      "/tmp/tmpo7ev_rbc/jitced.c:393: warning: ignoring #pragma omp parallel [-Wunknown-pragmas]\n",
      "  393 |  #pragma omp parallel for schedule(dynamic, 1)\n",
      "      | \n",
      "/tmp/tmpo7ev_rbc/jitced.c:399: warning: ignoring #pragma omp parallel [-Wunknown-pragmas]\n",
      "  399 |  #pragma omp parallel for schedule(dynamic, 1)\n",
      "      | \n",
      "/tmp/tmpo7ev_rbc/jitced.c:404: warning: ignoring #pragma omp parallel [-Wunknown-pragmas]\n",
      "  404 |  #pragma omp parallel for schedule(dynamic, 1)\n",
      "      | \n",
      "/tmp/tmpo7ev_rbc/jitced.c:413: warning: ignoring #pragma omp parallel [-Wunknown-pragmas]\n",
      "  413 |  #pragma omp parallel for schedule(dynamic, 1)\n",
      "      | \n"
     ]
    },
    {
     "name": "stdout",
     "output_type": "stream",
     "text": [
      "Using default integration parameters.\n"
     ]
    },
    {
     "name": "stderr",
     "output_type": "stream",
     "text": [
      "  0%|          | 0/200000 [00:00<?, ?it/s]/home/lauraflyra/Documents/BCCN/Lab_Rotation_CFC/Hopf_CFC/Hopf_CFC_analysis/venv/lib/python3.8/site-packages/jitcdde/_jitcdde.py:792: UserWarning: The target time is smaller than the current time. No integration step will happen. The returned state will be extrapolated from the interpolating Hermite polynomial for the last integration step. You may see this because you try to integrate backwards in time, in which case you did something wrong. You may see this just because your sampling step is small, in which case there is no need to worry.\n",
      "  warn(\"The target time is smaller than the current time. No integration step will happen. The returned state will be extrapolated from the interpolating Hermite polynomial for the last integration step. You may see this because you try to integrate backwards in time, in which case you did something wrong. You may see this just because your sampling step is small, in which case there is no need to worry.\")\n",
      "100%|██████████| 200000/200000 [00:00<00:00, 296445.21it/s]\n"
     ]
    }
   ],
   "source": [
    "model_original = simulate()"
   ],
   "metadata": {
    "collapsed": false,
    "pycharm": {
     "name": "#%%\n"
    }
   }
  },
  {
   "cell_type": "markdown",
   "source": [
    "# Default params:\n",
    "# slow_frequency: 0.04\n",
    "# fast_frequency: 0.2"
   ],
   "metadata": {
    "collapsed": false,
    "pycharm": {
     "name": "#%% md\n"
    }
   }
  },
  {
   "cell_type": "code",
   "execution_count": 5,
   "outputs": [],
   "source": [
    "slow_to_fast_conn=0.35\n",
    "fast_to_slow_conn=0.30"
   ],
   "metadata": {
    "collapsed": false,
    "pycharm": {
     "name": "#%%\n"
    }
   }
  },
  {
   "cell_type": "code",
   "execution_count": 6,
   "outputs": [],
   "source": [
    "n_bins = 18\n",
    "\n",
    "phase_slow_original = np.arctan2(model_original.y[0, :], model_original.x[0, :])\n",
    "amp_fast_original = np.sqrt(model_original.x[1, :] ** 2 + model_original.y[1, :] ** 2)\n",
    "binned_phase_original = np.digitize(phase_slow_original, bins=np.linspace(-np.pi, np.pi, n_bins + 1))\n",
    "mean_bin_amp_original = np.zeros(n_bins + 1)  # in theory index of bins goes from 0 to N_BINS\n",
    "for bin_idx in np.unique(binned_phase_original):\n",
    "    mean_bin_amp_original[bin_idx] = np.mean(amp_fast_original[binned_phase_original == bin_idx])\n",
    "\n",
    "mean_bin_amp_original = mean_bin_amp_original[\n",
    "               1:\n",
    "               ]  # because in theory there could be stuff that is smaller than -pi, then actually the interval between -pi and the next bin has index 1.\n",
    "# normalize the mean amplitude in each bin\n",
    "mean_bin_amp_original = mean_bin_amp_original / np.sum(mean_bin_amp_original)\n",
    "mi_original = modulation_index(mean_bin_amp_original)"
   ],
   "metadata": {
    "collapsed": false,
    "pycharm": {
     "name": "#%%\n"
    }
   }
  },
  {
   "cell_type": "code",
   "execution_count": null,
   "outputs": [
    {
     "name": "stderr",
     "output_type": "stream",
     "text": [
      "/tmp/tmphbsevwtf/jitced_1.c: In function ‘get_past_anchors’:\n",
      "/tmp/tmphbsevwtf/jitced_1.c:176: warning: ignoring #pragma omp atomic [-Wunknown-pragmas]\n",
      "  176 |  #pragma omp atomic capture\n",
      "      | \n",
      "/tmp/tmphbsevwtf/jitced_1.c:190: warning: ignoring #pragma omp critical [-Wunknown-pragmas]\n",
      "  190 |   #pragma omp critical(pws)\n",
      "      | \n",
      "/tmp/tmphbsevwtf/jitced_1.c: In function ‘get_recent_state’:\n",
      "/tmp/tmphbsevwtf/jitced_1.c:285: warning: ignoring #pragma omp parallel [-Wunknown-pragmas]\n",
      "  285 |  #pragma omp parallel for schedule(dynamic, 1)\n",
      "      | \n",
      "In file included from /tmp/tmphbsevwtf/jitced_1.c:370:\n",
      "/tmp/tmphbsevwtf/f.c: In function ‘eval_f’:\n",
      "/tmp/tmphbsevwtf/f.c:1: warning: ignoring #pragma omp parallel [-Wunknown-pragmas]\n",
      "    1 | #pragma omp parallel sections\n",
      "      | \n",
      "/tmp/tmphbsevwtf/f.c:3: warning: ignoring #pragma omp section [-Wunknown-pragmas]\n",
      "    3 | #pragma omp section\n",
      "      | \n",
      "/tmp/tmphbsevwtf/f.c:5: warning: ignoring #pragma omp section [-Wunknown-pragmas]\n",
      "    5 | #pragma omp section\n",
      "      | \n",
      "/tmp/tmphbsevwtf/f.c:7: warning: ignoring #pragma omp section [-Wunknown-pragmas]\n",
      "    7 | #pragma omp section\n",
      "      | \n",
      "/tmp/tmphbsevwtf/f.c:9: warning: ignoring #pragma omp section [-Wunknown-pragmas]\n",
      "    9 | #pragma omp section\n",
      "      | \n",
      "/tmp/tmphbsevwtf/f.c:11: warning: ignoring #pragma omp section [-Wunknown-pragmas]\n",
      "   11 | #pragma omp section\n",
      "      | \n",
      "/tmp/tmphbsevwtf/f.c:13: warning: ignoring #pragma omp section [-Wunknown-pragmas]\n",
      "   13 | #pragma omp section\n",
      "      | \n",
      "/tmp/tmphbsevwtf/f.c:15: warning: ignoring #pragma omp section [-Wunknown-pragmas]\n",
      "   15 | #pragma omp section\n",
      "      | \n",
      "/tmp/tmphbsevwtf/f.c:17: warning: ignoring #pragma omp section [-Wunknown-pragmas]\n",
      "   17 | #pragma omp section\n",
      "      | \n",
      "/tmp/tmphbsevwtf/jitced_1.c: In function ‘get_next_step’:\n",
      "/tmp/tmphbsevwtf/jitced_1.c:393: warning: ignoring #pragma omp parallel [-Wunknown-pragmas]\n",
      "  393 |  #pragma omp parallel for schedule(dynamic, 1)\n",
      "      | \n",
      "/tmp/tmphbsevwtf/jitced_1.c:399: warning: ignoring #pragma omp parallel [-Wunknown-pragmas]\n",
      "  399 |  #pragma omp parallel for schedule(dynamic, 1)\n",
      "      | \n",
      "/tmp/tmphbsevwtf/jitced_1.c:404: warning: ignoring #pragma omp parallel [-Wunknown-pragmas]\n",
      "  404 |  #pragma omp parallel for schedule(dynamic, 1)\n",
      "      | \n",
      "/tmp/tmphbsevwtf/jitced_1.c:413: warning: ignoring #pragma omp parallel [-Wunknown-pragmas]\n",
      "  413 |  #pragma omp parallel for schedule(dynamic, 1)\n",
      "      | \n"
     ]
    }
   ],
   "source": [
    "model_same_ratio = simulate(fast_frequency=0.2*1.7,slow_frequency=0.04*1.7)"
   ],
   "metadata": {
    "collapsed": false,
    "pycharm": {
     "name": "#%%\n",
     "is_executing": true
    }
   }
  },
  {
   "cell_type": "code",
   "execution_count": null,
   "outputs": [],
   "source": [
    "n_bins = 18\n",
    "\n",
    "phase_slow_same_ratio = np.arctan2(model_same_ratio.y[0, :], model_same_ratio.x[0, :])\n",
    "amp_fast_same_ratio = np.sqrt(model_same_ratio.x[1, :] ** 2 + model_same_ratio.y[1, :] ** 2)\n",
    "binned_phase_same_ratio = np.digitize(phase_slow_same_ratio, bins=np.linspace(-np.pi, np.pi, n_bins + 1))\n",
    "mean_bin_amp_same_ratio = np.zeros(n_bins + 1)  # in theory index of bins goes from 0 to N_BINS\n",
    "for bin_idx in np.unique(binned_phase_same_ratio):\n",
    "    mean_bin_amp_same_ratio[bin_idx] = np.mean(amp_fast_same_ratio[binned_phase_same_ratio == bin_idx])\n",
    "\n",
    "mean_bin_amp_same_ratio = mean_bin_amp_same_ratio[\n",
    "               1:\n",
    "               ]  # because in theory there could be stuff that is smaller than -pi, then actually the interval between -pi and the next bin has index 1.\n",
    "# normalize the mean amplitude in each bin\n",
    "mean_bin_amp_same_ratio = mean_bin_amp_same_ratio / np.sum(mean_bin_amp_same_ratio)\n",
    "mi_same_ratio = modulation_index(mean_bin_amp_same_ratio)"
   ],
   "metadata": {
    "collapsed": false,
    "pycharm": {
     "name": "#%%\n",
     "is_executing": true
    }
   }
  },
  {
   "cell_type": "code",
   "execution_count": null,
   "outputs": [],
   "source": [
    "model_diff_ratio = simulate(fast_frequency=0.2*0.7,slow_frequency=0.04*1.3)"
   ],
   "metadata": {
    "collapsed": false,
    "pycharm": {
     "name": "#%%\n",
     "is_executing": true
    }
   }
  },
  {
   "cell_type": "code",
   "execution_count": null,
   "outputs": [],
   "source": [
    "n_bins = 18\n",
    "\n",
    "phase_slow_diff_ratio = np.arctan2(model_diff_ratio.y[0, :], model_diff_ratio.x[0, :])\n",
    "amp_fast_diff_ratio = np.sqrt(model_diff_ratio.x[1, :] ** 2 + model_diff_ratio.y[1, :] ** 2)\n",
    "binned_phase_diff_ratio = np.digitize(phase_slow_diff_ratio, bins=np.linspace(-np.pi, np.pi, n_bins + 1))\n",
    "mean_bin_amp_diff_ratio = np.zeros(n_bins + 1)  # in theory index of bins goes from 0 to N_BINS\n",
    "for bin_idx in np.unique(binned_phase_diff_ratio):\n",
    "    mean_bin_amp_diff_ratio[bin_idx] = np.mean(amp_fast_diff_ratio[binned_phase_diff_ratio == bin_idx])\n",
    "\n",
    "mean_bin_amp_diff_ratio = mean_bin_amp_diff_ratio[\n",
    "               1:\n",
    "               ]  # because in theory there could be stuff that is smaller than -pi, then actually the interval between -pi and the next bin has index 1.\n",
    "# normalize the mean amplitude in each bin\n",
    "mean_bin_amp_diff_ratio = mean_bin_amp_diff_ratio / np.sum(mean_bin_amp_diff_ratio)\n",
    "mi_diff_ratio = modulation_index(mean_bin_amp_diff_ratio)"
   ],
   "metadata": {
    "collapsed": false,
    "pycharm": {
     "name": "#%%\n",
     "is_executing": true
    }
   }
  },
  {
   "cell_type": "code",
   "execution_count": null,
   "outputs": [],
   "source": [
    "print(\"Modulation indexes: \\nOriginal\", mi_original, \"\\nKeeping same ratio\", mi_same_ratio, \"\\nDifferent Ratio\", mi_diff_ratio)"
   ],
   "metadata": {
    "collapsed": false,
    "pycharm": {
     "name": "#%%\n",
     "is_executing": true
    }
   }
  },
  {
   "cell_type": "code",
   "execution_count": null,
   "outputs": [],
   "source": [
    "plt.bar(np.linspace(-np.pi, np.pi, n_bins), mean_bin_amp_original)\n",
    "plt.title(\"original\")\n",
    "plt.show()\n",
    "plt.bar(np.linspace(-np.pi, np.pi, n_bins), mean_bin_amp_same_ratio)\n",
    "plt.title(\"same ratio\")\n",
    "plt.show()\n",
    "plt.bar(np.linspace(-np.pi, np.pi, n_bins), mean_bin_amp_diff_ratio)\n",
    "plt.title(\"diff ratio\")\n",
    "plt.show()"
   ],
   "metadata": {
    "collapsed": false,
    "pycharm": {
     "name": "#%%\n",
     "is_executing": true
    }
   }
  },
  {
   "cell_type": "code",
   "execution_count": null,
   "outputs": [],
   "source": [
    "print(\"Histogram values for original\\n\",mean_bin_amp_original,\"\\nHistogram values for same ratio\\n\", mean_bin_amp_same_ratio,\"\\nHistogram values for different ratio\\n\", mean_bin_amp_diff_ratio)"
   ],
   "metadata": {
    "collapsed": false,
    "pycharm": {
     "name": "#%%\n",
     "is_executing": true
    }
   }
  },
  {
   "cell_type": "code",
   "execution_count": null,
   "outputs": [],
   "source": [
    "fig, axs = plt.subplots(nrows=6, ncols=2, sharex=\"col\", figsize=(20, 10))\n",
    "\n",
    "axs[0, 0].plot(model_original.t, model_original.x.T[:, 0])\n",
    "axs[0, 0].set_ylabel(\"Slow activity\")\n",
    "axs[1, 0].plot(model_original.t, model_original.x.T[:, 1], color=\"C1\")\n",
    "axs[1, 0].set_ylabel(\"Fast activity\")\n",
    "axs[1, 0].set_xlabel(\"time [s]\")\n",
    "freq_slow_original, pow_slow_original = getPowerSpectrum(model_original.x.T[:, 0], dt=0.1, maxfr=40, spectrum_windowsize=1)\n",
    "axs[0, 1].plot(freq_slow_original, pow_slow_original)\n",
    "axs[0, 1].set_ylabel(\"Slow spectrum\")\n",
    "freq_fast_original, pow_fast_original = getPowerSpectrum(model_original.x.T[:, 1], dt=0.1, maxfr=40, spectrum_windowsize=1)\n",
    "axs[1, 1].plot(freq_fast_original, pow_fast_original, color=\"C1\")\n",
    "axs[1, 1].set_ylabel(\"Fast spectrum\")\n",
    "axs[1, 1].set_xlabel(\"Frequency [Hz]\")\n",
    "\n",
    "axs[0, 0].set_xlim([0, 0.5])\n",
    "axs[0, 0].set_title(\"Original Ratio of Frequencies\")\n",
    "\n",
    "\n",
    "axs[2, 0].plot(model_same_ratio.t, model_same_ratio.x.T[:, 0])\n",
    "axs[2, 0].set_ylabel(\"Slow activity\")\n",
    "axs[3, 0].plot(model_same_ratio.t, model_same_ratio.x.T[:, 1], color=\"C1\")\n",
    "axs[3, 0].set_ylabel(\"Fast activity\")\n",
    "axs[3, 0].set_xlabel(\"time [s]\")\n",
    "freq_slow_same_ratio, pow_slow_same_ratio = getPowerSpectrum(model_same_ratio.x.T[:, 0], dt=0.1, maxfr=50, spectrum_windowsize=1)\n",
    "axs[2, 1].plot(freq_slow_same_ratio, pow_slow_same_ratio)\n",
    "axs[2, 1].set_ylabel(\"Slow spectrum\")\n",
    "freq_fast_same_ratio, pow_fast_same_ratio = getPowerSpectrum(model_same_ratio.x.T[:, 1], dt=0.1, maxfr=50, spectrum_windowsize=1)\n",
    "axs[3, 1].plot(freq_fast_same_ratio, pow_fast_same_ratio, color=\"C1\")\n",
    "axs[3, 1].set_ylabel(\"Fast spectrum\")\n",
    "axs[3, 1].set_xlabel(\"Frequency [Hz]\")\n",
    "\n",
    "axs[2, 0].set_xlim([0, 0.5])\n",
    "axs[2, 0].set_title(\"Same Ratio of Frequencies\")\n",
    "\n",
    "axs[4, 0].plot(model_diff_ratio.t, model_diff_ratio.x.T[:, 0])\n",
    "axs[4, 0].set_ylabel(\"Slow activity\")\n",
    "axs[5, 0].plot(model_diff_ratio.t, model_diff_ratio.x.T[:, 1], color=\"C1\")\n",
    "axs[5, 0].set_ylabel(\"Fast activity\")\n",
    "axs[5, 0].set_xlabel(\"time [s]\")\n",
    "freq_slow_diff_ratio, pow_slow_diff_ratio = getPowerSpectrum(model_diff_ratio.x.T[:, 0], dt=0.1, maxfr=50, spectrum_windowsize=1)\n",
    "axs[4, 1].plot(freq_slow_diff_ratio, pow_slow_diff_ratio)\n",
    "axs[4, 1].set_ylabel(\"Slow spectrum\")\n",
    "freq_fast_diff_ratio, pow_fast_diff_ratio = getPowerSpectrum(model_diff_ratio.x.T[:, 1], dt=0.1, maxfr=50, spectrum_windowsize=1)\n",
    "axs[5, 1].plot(freq_fast_diff_ratio, pow_fast_diff_ratio, color=\"C1\")\n",
    "axs[5, 1].set_ylabel(\"Fast spectrum\")\n",
    "axs[5, 1].set_xlabel(\"Frequency [Hz]\")\n",
    "\n",
    "axs[4, 0].set_xlim([0, 0.5])\n",
    "axs[4, 0].set_title(\"Different Ratio of Frequencies\")\n",
    "\n",
    "fig.tight_layout()\n",
    "plt.show()"
   ],
   "metadata": {
    "collapsed": false,
    "pycharm": {
     "name": "#%%\n",
     "is_executing": true
    }
   }
  },
  {
   "cell_type": "code",
   "execution_count": null,
   "outputs": [],
   "source": [],
   "metadata": {
    "collapsed": false,
    "pycharm": {
     "name": "#%%\n",
     "is_executing": true
    }
   }
  }
 ],
 "metadata": {
  "kernelspec": {
   "display_name": "Python 3",
   "language": "python",
   "name": "python3"
  },
  "language_info": {
   "codemirror_mode": {
    "name": "ipython",
    "version": 2
   },
   "file_extension": ".py",
   "mimetype": "text/x-python",
   "name": "python",
   "nbconvert_exporter": "python",
   "pygments_lexer": "ipython2",
   "version": "2.7.6"
  }
 },
 "nbformat": 4,
 "nbformat_minor": 0
}