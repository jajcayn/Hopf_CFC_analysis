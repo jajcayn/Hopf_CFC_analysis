{
 "cells": [
  {
   "cell_type": "code",
   "execution_count": 1,
   "metadata": {
    "collapsed": true
   },
   "outputs": [],
   "source": [
    "import os\n",
    "import matplotlib.pyplot as plt\n",
    "import neurolib.optimize.exploration.explorationUtils as eu\n",
    "import numpy as np\n",
    "from neurolib.models.multimodel import MultiModel\n",
    "from neurolib.models.multimodel.builder import HopfNetwork\n",
    "from neurolib.optimize.exploration import BoxSearch\n",
    "from neurolib.utils.functions import getPowerSpectrum\n",
    "from neurolib.utils.parameterSpace import ParameterSpace\n",
    "from neurolib.utils.stimulus import ZeroInput\n",
    "\n",
    "import neurolib.utils.pypetUtils as pu\n",
    "\n",
    "from hopf_cfc_network import SlowFastHopfNetwork\n",
    "\n",
    "import h5py\n",
    "import pandas as pd\n",
    "\n",
    "plt.style.use(\"seaborn\")\n",
    "plt.rcParams['image.cmap'] = 'plasma'\n",
    "\n",
    "# w instrinsic\n",
    "# 0.003 ~ 0.5Hz\n",
    "# 0.005 ~ 0.8Hz\n",
    "# 0.01 ~ 2Hz\n",
    "# 0.05 ~ 8Hz\n",
    "# 0.06 ~ 10Hz\n",
    "# 0.08 ~ 12Hz\n",
    "# 0.1 ~ 17Hz\n",
    "# 0.2 ~ 32Hz\n",
    "# 0.3 ~ 50Hz\n",
    "\n",
    "# intrinsic frequencies of SlowFastHopfNetwork are:\n",
    "# slow intrinsic frequency ~ 6Hz\n",
    "# fast intrinsic frequency ~ 30Hz"
   ]
  },
  {
   "cell_type": "code",
   "execution_count": 2,
   "outputs": [],
   "source": [
    "DURATION = 20.0 * 1000  # ms\n",
    "DT = 0.1  # ms\n",
    "\n",
    "model = MultiModel(\n",
    "    SlowFastHopfNetwork(\n",
    "        number_of_slow_fast_units=1,\n",
    "        slow_to_fast_connection=0.0,\n",
    "        fast_to_slow_connection=0.0,\n",
    "    )\n",
    ")\n",
    "\n",
    "model.params[\"duration\"] = 20.0 * 1000\n",
    "model.params[\"sampling_dt\"] = DT\n",
    "model.params[\"dt\"] = 0.01  # ms - lower dt for numba backend\n",
    "# numba backend is the way to go in exploration - much faster\n",
    "model.params[\"backend\"] = \"numba\"\n",
    "\n",
    "# manually add params you want to change during exploration, btw model.params is just a dictionary, so you can add whatever :)\n",
    "model.params[\"slow_to_fast\"] = 0.0\n",
    "model.params[\"fast_to_slow\"] = 0.0"
   ],
   "metadata": {
    "collapsed": false,
    "pycharm": {
     "name": "#%%\n"
    }
   }
  },
  {
   "cell_type": "code",
   "execution_count": 6,
   "outputs": [],
   "source": [
    "parameters = ParameterSpace(\n",
    "    {\n",
    "        \"slow_to_fast\": np.linspace(0.0, 1.0, 21)\n",
    "    }\n",
    "    ,allow_star_notation=True,\n",
    "    kind=\"grid\",)"
   ],
   "metadata": {
    "collapsed": false,
    "pycharm": {
     "name": "#%%\n"
    }
   }
  },
  {
   "cell_type": "code",
   "execution_count": 7,
   "outputs": [],
   "source": [
    "def modulation_index(P):\n",
    "    \"\"\"\n",
    "\n",
    "    MI = KL(P,U)/log(n), where U is a uniform distribution.\n",
    "    :param P: mean amplitude for each phase bin, shape (N_BINS,)\n",
    "    :return modulation index, quantitative measure of phase amplitude coupling\n",
    "    \"\"\"\n",
    "    n_bins = P.shape[0]\n",
    "    try:\n",
    "        assert np.isclose(np.sum(P), 1)\n",
    "    except AssertionError:\n",
    "        print(\"Please normalize P!\")\n",
    "\n",
    "    kl = np.log(n_bins) + np.sum(P[P!=0] * np.log(P[P!=0]))\n",
    "    return kl / np.log(n_bins)\n",
    "\n",
    "\n",
    "def evaluateSimulation(traj):\n",
    "    # get model with parameters for this run\n",
    "    model = search.getModelFromTraj(traj)\n",
    "    # extract stuff you want\n",
    "    s_f_conn = model.params[\"slow_to_fast\"]\n",
    "    f_s_conn = model.params[\"fast_to_slow\"]\n",
    "\n",
    "    # here you can either manually edit connectivity matrix or init again...\n",
    "    # example of manual edit - easy for single slow-fast unit with 2x2 conn. matrix\n",
    "    model.params[\"*connectivity\"] = np.array([[0.0, f_s_conn], [s_f_conn, 0.0]])\n",
    "\n",
    "    # example of init again - now commented\n",
    "    #     model = MultiModel(\n",
    "    #         SlowFastHopfNetwork(\n",
    "    #             number_of_slow_fast_units=1,\n",
    "    #             slow_to_fast_connection=s_f_conn,\n",
    "    #             fast_to_slow_connection=f_s_conn,\n",
    "    #         )\n",
    "    #     )\n",
    "\n",
    "    #     model.params[\"duration\"] = 20.0 * 1000\n",
    "    #     model.params[\"sampling_dt\"] = DT\n",
    "    #     model.params[\"dt\"] = 0.01\n",
    "    #     model.params[\"backend\"] = \"numba\"\n",
    "    #     model.params[\"slow_to_fast\"] = 0.0\n",
    "    #     model.params[\"fast_to_slow\"] = 0.0\n",
    "\n",
    "    model.run()\n",
    "\n",
    "    n_bins = 18\n",
    "\n",
    "    phase_slow = np.arctan2(model.y[0, :], model.x[0, :])\n",
    "    amp_fast = np.sqrt(model.x[1, :] ** 2 + model.y[1, :] ** 2)\n",
    "    binned_phase = np.digitize(phase_slow, bins=np.linspace(-np.pi, np.pi, n_bins + 1))\n",
    "    mean_bin_amp = np.zeros(n_bins + 1)  # in theory index of bins goes from 0 to N_BINS\n",
    "    for bin_idx in np.unique(binned_phase):\n",
    "        mean_bin_amp[bin_idx] = np.mean(amp_fast[binned_phase == bin_idx])\n",
    "\n",
    "    mean_bin_amp = mean_bin_amp[\n",
    "        1:\n",
    "    ]  # because in theory there could be stuff that is smaller than -pi, then actually the interval between -pi and the next bin has index 1.\n",
    "    # normalize the mean amplitude in each bin\n",
    "    mean_bin_amp = mean_bin_amp / np.sum(mean_bin_amp)\n",
    "    mi = modulation_index(mean_bin_amp)\n",
    "\n",
    "    freq_slow, pow_slow = getPowerSpectrum(model.x.T[:, 0], dt=0.1, maxfr=40, spectrum_windowsize=1)\n",
    "    freq_fast, pow_fast = getPowerSpectrum(model.x.T[:, 1], dt=0.1, maxfr=40, spectrum_windowsize=1)\n",
    "\n",
    "    max_freq_fast = freq_fast[np.argmax(pow_fast)]\n",
    "    max_freq_slow = freq_slow[np.argmax(pow_slow)]\n",
    "\n",
    "\n",
    "    result_dict = {\"modulation_index\": mi, \"peak_freq_fast\": max_freq_fast, \"peak_freq_slow\": max_freq_slow}\n",
    "    search.saveToPypet(result_dict, traj)"
   ],
   "metadata": {
    "collapsed": false,
    "pycharm": {
     "name": "#%%\n"
    }
   }
  },
  {
   "cell_type": "code",
   "execution_count": 8,
   "outputs": [
    {
     "name": "stderr",
     "output_type": "stream",
     "text": [
      "MainProcess root INFO     Number of processes: 6\n",
      "MainProcess pypet.storageservice.HDF5StorageService INFO     I will use the hdf5 file `./data/hdf/Hopf_1d_conn_test.hdf`.\n",
      "MainProcess pypet.environment.Environment INFO     Environment initialized.\n",
      "MainProcess root INFO     Number of parameter configurations: 21\n",
      "MainProcess root INFO     BoxSearch: Environment initialized.\n"
     ]
    }
   ],
   "source": [
    "search = BoxSearch(\n",
    "    model=model,\n",
    "    evalFunction=evaluateSimulation,\n",
    "    parameterSpace=parameters,\n",
    "    filename=\"Hopf_1d_conn_test.hdf\",\n",
    "    ncores=6,\n",
    ")"
   ],
   "metadata": {
    "collapsed": false,
    "pycharm": {
     "name": "#%%\n"
    }
   }
  },
  {
   "cell_type": "code",
   "execution_count": 9,
   "outputs": [
    {
     "name": "stderr",
     "output_type": "stream",
     "text": [
      "MainProcess pypet.environment.Environment INFO     I am preparing the Trajectory for the experiment and initialise the store.\n",
      "MainProcess pypet.environment.Environment INFO     Initialising the storage for the trajectory.\n",
      "MainProcess pypet.storageservice.HDF5StorageService INFO     Initialising storage or updating meta data of Trajectory `results-2022-04-22-12H-19M-31S`.\n",
      "MainProcess pypet.storageservice.HDF5StorageService INFO     Finished init or meta data update for `results-2022-04-22-12H-19M-31S`.\n",
      "MainProcess pypet.environment.Environment INFO     \n",
      "************************************************************\n",
      "STARTING runs of trajectory\n",
      "`results-2022-04-22-12H-19M-31S`.\n",
      "************************************************************\n",
      "\n",
      "MainProcess pypet.storageservice.HDF5StorageService INFO     Initialising storage or updating meta data of Trajectory `results-2022-04-22-12H-19M-31S`.\n",
      "MainProcess pypet.storageservice.HDF5StorageService INFO     Finished init or meta data update for `results-2022-04-22-12H-19M-31S`.\n",
      "MainProcess pypet.environment.Environment INFO     Starting multiprocessing with at most 6 processes running at the same time.\n",
      "MainProcess pypet INFO     PROGRESS: Finished  0/21 runs [                    ]  0.0%\n",
      "MainProcess pypet INFO     PROGRESS: Finished  2/21 runs [=                   ]  9.5%, remaining: 0:00:39\n",
      "MainProcess pypet INFO     PROGRESS: Finished  3/21 runs [==                  ] 14.3%, remaining: 0:00:25\n",
      "MainProcess pypet INFO     PROGRESS: Finished  4/21 runs [===                 ] 19.0%, remaining: 0:00:18\n",
      "MainProcess pypet INFO     PROGRESS: Finished  5/21 runs [====                ] 23.8%, remaining: 0:00:14\n",
      "MainProcess pypet INFO     PROGRESS: Finished  6/21 runs [=====               ] 28.6%, remaining: 0:00:11\n",
      "MainProcess pypet INFO     PROGRESS: Finished  7/21 runs [======              ] 33.3%, remaining: 0:00:15\n",
      "MainProcess pypet INFO     PROGRESS: Finished  8/21 runs [=======             ] 38.1%, remaining: 0:00:13\n",
      "MainProcess pypet INFO     PROGRESS: Finished  9/21 runs [========            ] 42.9%, remaining: 0:00:10\n",
      "MainProcess pypet INFO     PROGRESS: Finished 10/21 runs [=========           ] 47.6%, remaining: 0:00:09\n",
      "MainProcess pypet INFO     PROGRESS: Finished 11/21 runs [==========          ] 52.4%, remaining: 0:00:07\n",
      "MainProcess pypet INFO     PROGRESS: Finished 12/21 runs [===========         ] 57.1%, remaining: 0:00:06\n",
      "MainProcess pypet INFO     PROGRESS: Finished 13/21 runs [============        ] 61.9%, remaining: 0:00:06\n",
      "MainProcess pypet INFO     PROGRESS: Finished 14/21 runs [=============       ] 66.7%, remaining: 0:00:05\n",
      "MainProcess pypet INFO     PROGRESS: Finished 15/21 runs [==============      ] 71.4%, remaining: 0:00:04\n",
      "MainProcess pypet INFO     PROGRESS: Finished 16/21 runs [===============     ] 76.2%, remaining: 0:00:03\n",
      "MainProcess pypet INFO     PROGRESS: Finished 17/21 runs [================    ] 81.0%, remaining: 0:00:02\n",
      "MainProcess pypet INFO     PROGRESS: Finished 18/21 runs [=================   ] 85.7%, remaining: 0:00:01\n",
      "MainProcess pypet INFO     PROGRESS: Finished 19/21 runs [==================  ] 90.5%, remaining: 0:00:01\n",
      "MainProcess pypet INFO     PROGRESS: Finished 20/21 runs [=================== ] 95.2%, remaining: 0:00:00\n",
      "MainProcess pypet INFO     PROGRESS: Finished 21/21 runs [====================]100.0%\n",
      "MainProcess pypet.storageservice.HDF5StorageService INFO     Initialising storage or updating meta data of Trajectory `results-2022-04-22-12H-19M-31S`.\n",
      "MainProcess pypet.storageservice.HDF5StorageService INFO     Finished init or meta data update for `results-2022-04-22-12H-19M-31S`.\n",
      "MainProcess pypet.environment.Environment INFO     \n",
      "************************************************************\n",
      "FINISHED all runs of trajectory\n",
      "`results-2022-04-22-12H-19M-31S`.\n",
      "************************************************************\n",
      "\n",
      "MainProcess pypet.environment.Environment INFO     \n",
      "************************************************************\n",
      "STARTING FINAL STORING of trajectory\n",
      "`results-2022-04-22-12H-19M-31S`\n",
      "************************************************************\n",
      "\n",
      "MainProcess pypet.storageservice.HDF5StorageService INFO     Start storing Trajectory `results-2022-04-22-12H-19M-31S`.\n",
      "MainProcess pypet.storageservice.HDF5StorageService INFO     Storing branch `config`.\n",
      "MainProcess pypet.storageservice.HDF5StorageService INFO     Storing branch `parameters`.\n",
      "MainProcess pypet.storageservice.HDF5StorageService INFO     Finished storing Trajectory `results-2022-04-22-12H-19M-31S`.\n",
      "MainProcess pypet.environment.Environment INFO     \n",
      "************************************************************\n",
      "FINISHED FINAL STORING of trajectory\n",
      "`results-2022-04-22-12H-19M-31S`.\n",
      "************************************************************\n",
      "\n",
      "MainProcess pypet.environment.Environment INFO     All runs of trajectory `results-2022-04-22-12H-19M-31S` were completed successfully.\n"
     ]
    }
   ],
   "source": [
    "search.run()"
   ],
   "metadata": {
    "collapsed": false,
    "pycharm": {
     "name": "#%%\n"
    }
   }
  },
  {
   "cell_type": "code",
   "execution_count": 11,
   "outputs": [
    {
     "name": "stderr",
     "output_type": "stream",
     "text": [
      "MainProcess root INFO     Loading results from ./data/hdf/Hopf_1d_conn_test.hdf\n",
      "MainProcess root INFO     Analyzing trajectory results-2022-04-22-12H-19M-31S\n",
      "MainProcess pypet.storageservice.HDF5StorageService INFO     I will use the hdf5 file `./data/hdf/Hopf_1d_conn_test.hdf`.\n",
      "MainProcess pypet.storageservice.HDF5StorageService INFO     Loading trajectory `results-2022-04-22-12H-19M-31S`.\n",
      "MainProcess pypet.storageservice.HDF5StorageService INFO     Loading branch `config` in mode `2`.\n",
      "MainProcess pypet.storageservice.HDF5StorageService INFO     Loading branch `parameters` in mode `2`.\n",
      "MainProcess pypet.storageservice.HDF5StorageService INFO     Loading branch `results` in mode `1`.\n",
      "MainProcess root INFO     Creating `dfResults` dataframe ...\n",
      "MainProcess root INFO     Loading all results to `results` dictionary ...\n",
      "100%|██████████| 21/21 [00:00<00:00, 122.96it/s]\n",
      "MainProcess root INFO     Aggregating results to `dfResults` ...\n",
      "100%|██████████| 21/21 [00:00<00:00, 1757.25it/s]\n",
      "MainProcess root INFO     All results loaded.\n"
     ]
    }
   ],
   "source": [
    "search.loadResults()"
   ],
   "metadata": {
    "collapsed": false,
    "pycharm": {
     "name": "#%%\n"
    }
   }
  },
  {
   "cell_type": "code",
   "execution_count": 12,
   "outputs": [
    {
     "data": {
      "text/plain": "    slow_to_fast  peak_freq_slow  peak_freq_fast  modulation_index\n0           0.00             6.0            32.0      8.439409e-10\n1           0.05             6.0            32.0      1.063560e-04\n2           0.10             6.0            32.0      4.281990e-04\n3           0.15             6.0            31.0      9.742802e-04\n4           0.20             6.0            31.0      1.758956e-03\n5           0.25             6.0            30.0      2.808255e-03\n6           0.30             6.0            29.0      4.145670e-03\n7           0.35             6.0            28.0      5.823998e-03\n8           0.40             6.0            27.0      7.900326e-03\n9           0.45             6.0            26.0      1.046683e-02\n10          0.50             6.0            24.0      1.369041e-02\n11          0.55             6.0            22.0      1.975873e-02\n12          0.60             6.0             3.0      2.336616e-02\n13          0.65             6.0             3.0      2.962843e-02\n14          0.70             6.0             3.0      3.861022e-02\n15          0.75             6.0            16.0      4.999006e-02\n16          0.80             6.0             3.0      5.083701e-02\n17          0.85             6.0             3.0      5.380350e-02\n18          0.90             6.0             3.0      5.855212e-02\n19          0.95             6.0             3.0      6.354678e-02\n20          1.00             6.0             3.0      6.846164e-02",
      "text/html": "<div>\n<style scoped>\n    .dataframe tbody tr th:only-of-type {\n        vertical-align: middle;\n    }\n\n    .dataframe tbody tr th {\n        vertical-align: top;\n    }\n\n    .dataframe thead th {\n        text-align: right;\n    }\n</style>\n<table border=\"1\" class=\"dataframe\">\n  <thead>\n    <tr style=\"text-align: right;\">\n      <th></th>\n      <th>slow_to_fast</th>\n      <th>peak_freq_slow</th>\n      <th>peak_freq_fast</th>\n      <th>modulation_index</th>\n    </tr>\n  </thead>\n  <tbody>\n    <tr>\n      <th>0</th>\n      <td>0.00</td>\n      <td>6.0</td>\n      <td>32.0</td>\n      <td>8.439409e-10</td>\n    </tr>\n    <tr>\n      <th>1</th>\n      <td>0.05</td>\n      <td>6.0</td>\n      <td>32.0</td>\n      <td>1.063560e-04</td>\n    </tr>\n    <tr>\n      <th>2</th>\n      <td>0.10</td>\n      <td>6.0</td>\n      <td>32.0</td>\n      <td>4.281990e-04</td>\n    </tr>\n    <tr>\n      <th>3</th>\n      <td>0.15</td>\n      <td>6.0</td>\n      <td>31.0</td>\n      <td>9.742802e-04</td>\n    </tr>\n    <tr>\n      <th>4</th>\n      <td>0.20</td>\n      <td>6.0</td>\n      <td>31.0</td>\n      <td>1.758956e-03</td>\n    </tr>\n    <tr>\n      <th>5</th>\n      <td>0.25</td>\n      <td>6.0</td>\n      <td>30.0</td>\n      <td>2.808255e-03</td>\n    </tr>\n    <tr>\n      <th>6</th>\n      <td>0.30</td>\n      <td>6.0</td>\n      <td>29.0</td>\n      <td>4.145670e-03</td>\n    </tr>\n    <tr>\n      <th>7</th>\n      <td>0.35</td>\n      <td>6.0</td>\n      <td>28.0</td>\n      <td>5.823998e-03</td>\n    </tr>\n    <tr>\n      <th>8</th>\n      <td>0.40</td>\n      <td>6.0</td>\n      <td>27.0</td>\n      <td>7.900326e-03</td>\n    </tr>\n    <tr>\n      <th>9</th>\n      <td>0.45</td>\n      <td>6.0</td>\n      <td>26.0</td>\n      <td>1.046683e-02</td>\n    </tr>\n    <tr>\n      <th>10</th>\n      <td>0.50</td>\n      <td>6.0</td>\n      <td>24.0</td>\n      <td>1.369041e-02</td>\n    </tr>\n    <tr>\n      <th>11</th>\n      <td>0.55</td>\n      <td>6.0</td>\n      <td>22.0</td>\n      <td>1.975873e-02</td>\n    </tr>\n    <tr>\n      <th>12</th>\n      <td>0.60</td>\n      <td>6.0</td>\n      <td>3.0</td>\n      <td>2.336616e-02</td>\n    </tr>\n    <tr>\n      <th>13</th>\n      <td>0.65</td>\n      <td>6.0</td>\n      <td>3.0</td>\n      <td>2.962843e-02</td>\n    </tr>\n    <tr>\n      <th>14</th>\n      <td>0.70</td>\n      <td>6.0</td>\n      <td>3.0</td>\n      <td>3.861022e-02</td>\n    </tr>\n    <tr>\n      <th>15</th>\n      <td>0.75</td>\n      <td>6.0</td>\n      <td>16.0</td>\n      <td>4.999006e-02</td>\n    </tr>\n    <tr>\n      <th>16</th>\n      <td>0.80</td>\n      <td>6.0</td>\n      <td>3.0</td>\n      <td>5.083701e-02</td>\n    </tr>\n    <tr>\n      <th>17</th>\n      <td>0.85</td>\n      <td>6.0</td>\n      <td>3.0</td>\n      <td>5.380350e-02</td>\n    </tr>\n    <tr>\n      <th>18</th>\n      <td>0.90</td>\n      <td>6.0</td>\n      <td>3.0</td>\n      <td>5.855212e-02</td>\n    </tr>\n    <tr>\n      <th>19</th>\n      <td>0.95</td>\n      <td>6.0</td>\n      <td>3.0</td>\n      <td>6.354678e-02</td>\n    </tr>\n    <tr>\n      <th>20</th>\n      <td>1.00</td>\n      <td>6.0</td>\n      <td>3.0</td>\n      <td>6.846164e-02</td>\n    </tr>\n  </tbody>\n</table>\n</div>"
     },
     "execution_count": 12,
     "metadata": {},
     "output_type": "execute_result"
    }
   ],
   "source": [
    "search.dfResults"
   ],
   "metadata": {
    "collapsed": false,
    "pycharm": {
     "name": "#%%\n"
    }
   }
  },
  {
   "cell_type": "code",
   "execution_count": 29,
   "outputs": [
    {
     "data": {
      "text/plain": "<Figure size 576x396 with 2 Axes>",
      "image/png": "[encoded data removed]"
     },
     "metadata": {},
     "output_type": "display_data"
    }
   ],
   "source": [
    "fig, ax1 = plt.subplots()\n",
    "ax2 = ax1.twinx()\n",
    "\n",
    "ax1.plot(search.dfResults[\"slow_to_fast\"],search.dfResults[\"modulation_index\"])\n",
    "ax1.set_xlabel( r\"slow$\\to$fast\")\n",
    "ax1.set_ylabel(\"Modulation Index\")\n",
    "\n",
    "ax2.scatter(search.dfResults[\"slow_to_fast\"],search.dfResults[\"peak_freq_slow\"],c='r', label=\"peak_freq_slow\")\n",
    "ax2.scatter(search.dfResults[\"slow_to_fast\"],search.dfResults[\"peak_freq_fast\"],c='b', label=\"peak_freq_fast\")\n",
    "ax2.set_ylabel('Frequencies [Hz]')\n",
    "\n",
    "plt.suptitle(r\"Modulation index (solid line) vs  slow$\\to$fast connection strength\")\n",
    "\n",
    "plt.legend()\n",
    "\n",
    "\n",
    "plt.show()"
   ],
   "metadata": {
    "collapsed": false,
    "pycharm": {
     "name": "#%%\n"
    }
   }
  },
  {
   "cell_type": "code",
   "execution_count": null,
   "outputs": [],
   "source": [],
   "metadata": {
    "collapsed": false,
    "pycharm": {
     "name": "#%%\n"
    }
   }
  }
 ],
 "metadata": {
  "kernelspec": {
   "display_name": "Python 3",
   "language": "python",
   "name": "python3"
  },
  "language_info": {
   "codemirror_mode": {
    "name": "ipython",
    "version": 2
   },
   "file_extension": ".py",
   "mimetype": "text/x-python",
   "name": "python",
   "nbconvert_exporter": "python",
   "pygments_lexer": "ipython2",
   "version": "2.7.6"
  }
 },
 "nbformat": 4,
 "nbformat_minor": 0
}