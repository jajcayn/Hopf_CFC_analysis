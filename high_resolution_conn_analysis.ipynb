{
 "cells": [
  {
   "cell_type": "code",
   "execution_count": 1,
   "metadata": {
    "collapsed": true
   },
   "outputs": [],
   "source": [
    "\"\"\"\n",
    "Run exploration with high resolution within the connection strengths (100x100), but with only two different values for\n",
    "the frequencies of the fast and slow oscillators.\n",
    "\n",
    "\"\"\"\n",
    "\n",
    "import numpy as np\n",
    "from neurolib.optimize.exploration import BoxSearch\n",
    "from neurolib.utils.functions import getPowerSpectrum\n",
    "from neurolib.utils.parameterSpace import ParameterSpace\n",
    "from neurolib.models.multimodel import MultiModel\n",
    "from hopf_cfc_network import SlowFastHopfNetwork\n",
    "from cfcUtils import modulation_index\n",
    "from scipy.signal import find_peaks\n",
    "import neurolib.utils.pypetUtils as pu\n",
    "import neurolib.optimize.exploration.explorationUtils as eu\n",
    "import matplotlib.pyplot as plt\n",
    "import h5py\n",
    "\n",
    "# w instrinsic\n",
    "# 0.003 ~ 0.5Hz\n",
    "# 0.005 ~ 0.8Hz\n",
    "# 0.01 ~ 2Hz\n",
    "# 0.05 ~ 8Hz\n",
    "# 0.06 ~ 10Hz\n",
    "# 0.08 ~ 12Hz\n",
    "# 0.1 ~ 17Hz\n",
    "# 0.2 ~ 32Hz\n",
    "# 0.3 ~ 50Hz"
   ]
  },
  {
   "cell_type": "code",
   "execution_count": 2,
   "outputs": [],
   "source": [
    "DURATION = 20.0 * 1000  # ms\n",
    "DT = 0.1  # ms\n",
    "\n",
    "model = MultiModel(\n",
    "    SlowFastHopfNetwork(\n",
    "        number_of_slow_fast_units=1,\n",
    "        slow_to_fast_connection=0.0,\n",
    "        fast_to_slow_connection=0.0,\n",
    "    )\n",
    ")\n",
    "\n",
    "model.params[\"duration\"] = DURATION\n",
    "model.params[\"sampling_dt\"] = DT\n",
    "model.params[\"dt\"] = 0.01  # ms - lower dt for numba backend\n",
    "# numba backend is the way to go in exploration - much faster\n",
    "model.params[\"backend\"] = \"numba\"\n",
    "\n",
    "# manually add params you want to change during exploration, btw model.params is just a dictionary, so you can add whatever :)\n",
    "model.params[\"slow_to_fast\"] = 0.0\n",
    "model.params[\"fast_to_slow\"] = 0.0\n",
    "model.params[\"frequency_slow\"] = 0.04\n",
    "model.params[\"frequency_fast\"] = 0.2\n"
   ],
   "metadata": {
    "collapsed": false,
    "pycharm": {
     "name": "#%%\n"
    }
   }
  },
  {
   "cell_type": "code",
   "execution_count": 3,
   "outputs": [],
   "source": [
    "parameters = ParameterSpace(\n",
    "    {\n",
    "        \"slow_to_fast\": np.append(np.linspace(0.0, 1., 50), np.linspace(1., 10., 50)),\n",
    "        \"fast_to_slow\": np.append(np.linspace(0.0, 1., 50), np.linspace(1., 10., 50)),\n",
    "        \"frequency_slow\": np.array([0.025,0.04]),\n",
    "        \"frequency_fast\": np.array([0.14,0.2])\n",
    "    },\n",
    "    allow_star_notation=True,\n",
    "    kind=\"grid\",\n",
    ")\n",
    "\n",
    "# Default params:\n",
    "# slow_frequency: 0.04\n",
    "# fast_frequency: 0.2\n"
   ],
   "metadata": {
    "collapsed": false,
    "pycharm": {
     "name": "#%%\n"
    }
   }
  },
  {
   "cell_type": "code",
   "execution_count": 4,
   "outputs": [],
   "source": [
    "def evaluateSimulation(traj):\n",
    "    # get model with parameters for this run\n",
    "    model = search.getModelFromTraj(traj)\n",
    "    # extract stuff you want\n",
    "    s_f_conn = model.params[\"slow_to_fast\"]\n",
    "    f_s_conn = model.params[\"fast_to_slow\"]\n",
    "\n",
    "    model.params[\"*connectivity\"] = np.array([[0.0, f_s_conn], [s_f_conn, 0.0]])\n",
    "    model.params['SlowFastHopfNet.SlowHopf_0.HopfMass_0.w'] = model.params[\"frequency_slow\"]\n",
    "    model.params['SlowFastHopfNet.FastHopf_1.HopfMass_0.w'] = model.params[\"frequency_fast\"]\n",
    "\n",
    "    model.run()\n",
    "\n",
    "    n_bins = 18\n",
    "\n",
    "    phase_slow = np.arctan2(model.y[0, :], model.x[0, :])\n",
    "    amp_fast = np.sqrt(model.x[1, :] ** 2 + model.y[1, :] ** 2)\n",
    "    binned_phase = np.digitize(phase_slow, bins=np.linspace(-np.pi, np.pi, n_bins + 1))\n",
    "    mean_bin_amp = np.zeros(n_bins + 1)  # in theory index of bins goes from 0 to N_BINS\n",
    "    for bin_idx in np.unique(binned_phase):\n",
    "        mean_bin_amp[bin_idx] = np.mean(amp_fast[binned_phase == bin_idx])\n",
    "\n",
    "    mean_bin_amp = mean_bin_amp[\n",
    "                   1:\n",
    "                   ]  # because in theory there could be stuff that is smaller than -pi, then actually the interval between -pi and the next bin has index 1.\n",
    "    # normalize the mean amplitude in each bin\n",
    "    mean_bin_amp = mean_bin_amp / np.sum(mean_bin_amp)\n",
    "    mi = modulation_index(mean_bin_amp)\n",
    "\n",
    "    freq_slow, pow_slow = getPowerSpectrum(model.x.T[:, 0], dt=0.1, maxfr=40, spectrum_windowsize=1)\n",
    "    freq_fast, pow_fast = getPowerSpectrum(model.x.T[:, 1], dt=0.1, maxfr=40, spectrum_windowsize=1)\n",
    "\n",
    "    peaks_fast, _ = find_peaks(pow_fast, height=max(1e-3, 1.0 * np.std(pow_fast)))\n",
    "    peaks_slow, _ = find_peaks(pow_slow, height=max(1e-3, 0.5 * np.std(pow_slow)))\n",
    "\n",
    "\n",
    "\n",
    "    result_dict = {\n",
    "        \"modulation_index\": mi,\n",
    "        \"peaks_freq_fast\": peaks_fast,\n",
    "        \"peaks_freq_slow\": peaks_slow\n",
    "    }\n",
    "\n",
    "    search.saveToPypet(result_dict, traj)\n"
   ],
   "metadata": {
    "collapsed": false,
    "pycharm": {
     "name": "#%%\n"
    }
   }
  },
  {
   "cell_type": "code",
   "execution_count": 5,
   "outputs": [
    {
     "name": "stderr",
     "output_type": "stream",
     "text": [
      "MainProcess pypet.storageservice.HDF5StorageService INFO     I will use the hdf5 file `./data/hdf/high_resolution_exploration.hdf`.\n",
      "MainProcess pypet.environment.Environment INFO     Environment initialized.\n",
      "MainProcess root INFO     Number of parameter configurations: 40000\n",
      "MainProcess root INFO     BoxSearch: Environment initialized.\n"
     ]
    }
   ],
   "source": [
    "search = BoxSearch(\n",
    "    model=model,\n",
    "    evalFunction=evaluateSimulation,\n",
    "    parameterSpace=parameters,\n",
    "    filename=\"high_resolution_exploration.hdf\",\n",
    "    ncores=50,\n",
    ")\n"
   ],
   "metadata": {
    "collapsed": false,
    "pycharm": {
     "name": "#%%\n"
    }
   }
  },
  {
   "cell_type": "code",
   "execution_count": null,
   "outputs": [
    {
     "name": "stderr",
     "output_type": "stream",
     "text": [
      "MainProcess root INFO     Loading results from ./data/hdf/high_resolution_exploration.hdf\n",
      "MainProcess root INFO     Analyzing trajectory results-2022-05-09-15H-55M-16S\n",
      "MainProcess pypet.storageservice.HDF5StorageService INFO     I will use the hdf5 file `./data/hdf/high_resolution_exploration.hdf`.\n",
      "MainProcess pypet.storageservice.HDF5StorageService WARNING  Current pypet version is 0.6.0 with python 3.8.10 but your trajectory was created with version 0.6.0 under python 3.9.7. Yet, you enforced the load, so I will handle the trajectory despite the version mismatch.\n",
      "MainProcess pypet.storageservice.HDF5StorageService INFO     Loading trajectory `results-2022-05-09-15H-55M-16S`.\n",
      "MainProcess pypet.storageservice.HDF5StorageService INFO     Loading branch `config` in mode `2`.\n",
      "MainProcess pypet.storageservice.HDF5StorageService INFO     Loading branch `parameters` in mode `2`.\n",
      "MainProcess pypet.storageservice.HDF5StorageService INFO     Loading branch `results` in mode `1`.\n",
      "MainProcess pypet.storageservice.HDF5StorageService INFO     Processed 31134 nodes in 0m20s (1556.66 nodes/s).\n",
      "MainProcess pypet.storageservice.HDF5StorageService INFO     Processed 104090 nodes in 0m40s (2602.19 nodes/s).\n",
      "MainProcess root INFO     Creating `dfResults` dataframe ...\n",
      "MainProcess root INFO     Loading all results to `results` dictionary ...\n",
      "100%|██████████| 40000/40000 [03:11<00:00, 208.37it/s]\n",
      "MainProcess root INFO     Aggregating results to `dfResults` ...\n",
      " 78%|███████▊  | 31347/40000 [01:21<00:39, 221.33it/s]"
     ]
    }
   ],
   "source": [
    "search.loadResults()"
   ],
   "metadata": {
    "collapsed": false,
    "pycharm": {
     "name": "#%%\n",
     "is_executing": true
    }
   }
  },
  {
   "cell_type": "code",
   "execution_count": null,
   "outputs": [],
   "source": [
    "search.dfResults"
   ],
   "metadata": {
    "collapsed": false,
    "pycharm": {
     "name": "#%%\n",
     "is_executing": true
    }
   }
  },
  {
   "cell_type": "code",
   "execution_count": null,
   "outputs": [],
   "source": [
    "search.dfResults['max_freq_slow'] = search.dfResults.apply(\n",
    "    lambda row: np.amax(row[\"peaks_freq_slow\"],initial=0), axis=1\n",
    "    )\n",
    "search.dfResults['max_freq_fast'] = search.dfResults.apply(\n",
    "    lambda row: np.amax(row[\"peaks_freq_fast\"], initial=0), axis=1\n",
    "    )\n",
    "search.dfResults[\"ratio_freq\"]=search.dfResults.apply(\n",
    "    lambda row: row[\"frequency_fast\"]/row[\"frequency_slow\"],axis=1)"
   ],
   "metadata": {
    "collapsed": false,
    "pycharm": {
     "name": "#%%\n",
     "is_executing": true
    }
   }
  },
  {
   "cell_type": "code",
   "execution_count": null,
   "outputs": [],
   "source": [
    "search.dfResults"
   ],
   "metadata": {
    "collapsed": false,
    "pycharm": {
     "name": "#%%\n",
     "is_executing": true
    }
   }
  },
  {
   "cell_type": "code",
   "execution_count": null,
   "outputs": [],
   "source": [
    "# \"frequency_slow\": np.array([0.025,0.04]),\n",
    "# \"frequency_fast\": np.array([0.14,0.2])"
   ],
   "metadata": {
    "collapsed": false,
    "pycharm": {
     "name": "#%%\n",
     "is_executing": true
    }
   }
  },
  {
   "cell_type": "code",
   "execution_count": null,
   "outputs": [],
   "source": [
    "eu.plotExplorationResults(\n",
    "    search.dfResults,\n",
    "    par1=[\"slow_to_fast\", r\"slow$\\to$fast\"],\n",
    "    par2=[\"fast_to_slow\", r\"fast$\\to$slow\"],\n",
    "    plot_key=\"modulation_index\",\n",
    "    nan_to_zero=False,\n",
    "    by= \"ratio_freq\",\n",
    "    one_figure= True,\n",
    "    plot_key_label=\"Modulation index\",\n",
    "    contour=[\"max_freq_slow\", \"max_freq_fast\"],\n",
    "    contour_color=[[\"white\"], [\"blue\"]],\n",
    "    contour_levels=[[6,12,32], [6,12,32]],\n",
    "    contour_alpha=[1.0, 1.0],\n",
    "    contour_kwargs={\n",
    "        0: {\"linewidths\": (2,), \"clabel\": True},\n",
    "        1: {\"linewidths\": (2,), \"clabel\": True},\n",
    "    },\n",
    "    # savename=\"diff_ratios_full_high_res_exploration\"\n",
    ")"
   ],
   "metadata": {
    "collapsed": false,
    "pycharm": {
     "name": "#%%\n",
     "is_executing": true
    }
   }
  },
  {
   "cell_type": "code",
   "execution_count": null,
   "outputs": [],
   "source": [
    "eu.plotExplorationResults(\n",
    "    search.dfResults[(search.dfResults[\"slow_to_fast\"]<=1) & (search.dfResults[\"fast_to_slow\"]<=1)],\n",
    "    par1=[\"slow_to_fast\", r\"slow$\\to$fast\"],\n",
    "    par2=[\"fast_to_slow\", r\"fast$\\to$slow\"],\n",
    "    plot_key=\"modulation_index\",\n",
    "    nan_to_zero=False,\n",
    "    by = \"ratio_freq\",\n",
    "    one_figure= True,\n",
    "    plot_key_label=\"Modulation index\",\n",
    "    contour=[\"max_freq_slow\", \"max_freq_fast\"],\n",
    "    contour_color=[[\"white\"], [\"blue\"]],\n",
    "    contour_levels=[[6,12,32], [6,12,32]],\n",
    "    contour_alpha=[1.0, 1.0],\n",
    "    contour_kwargs={\n",
    "        0: {\"linewidths\": (2,), \"clabel\": True},\n",
    "        1: {\"linewidths\": (2,), \"clabel\": True},\n",
    "    },\n",
    ")"
   ],
   "metadata": {
    "collapsed": false,
    "pycharm": {
     "name": "#%%\n",
     "is_executing": true
    }
   }
  },
  {
   "cell_type": "code",
   "execution_count": null,
   "outputs": [],
   "source": [
    "eu.plotExplorationResults(\n",
    "    search.dfResults[(search.dfResults[\"slow_to_fast\"]>8) & (search.dfResults[\"fast_to_slow\"]>8)],\n",
    "    par1=[\"slow_to_fast\", r\"slow$\\to$fast\"],\n",
    "    par2=[\"fast_to_slow\", r\"fast$\\to$slow\"],\n",
    "    plot_key=\"modulation_index\",\n",
    "    nan_to_zero=False,\n",
    "    by = \"ratio_freq\",\n",
    "    one_figure= True,\n",
    "    plot_key_label=\"Modulation index\",\n",
    "    contour=[\"max_freq_slow\", \"max_freq_fast\"],\n",
    "    contour_color=[[\"white\"], [\"blue\"]],\n",
    "    contour_levels=[[6,12,32], [6,12,32]],\n",
    "    contour_alpha=[1.0, 1.0],\n",
    "    contour_kwargs={\n",
    "        0: {\"linewidths\": (2,), \"clabel\": True},\n",
    "        1: {\"linewidths\": (2,), \"clabel\": True},\n",
    "    },\n",
    ")"
   ],
   "metadata": {
    "collapsed": false,
    "pycharm": {
     "name": "#%%\n",
     "is_executing": true
    }
   }
  },
  {
   "cell_type": "code",
   "execution_count": null,
   "outputs": [],
   "source": [
    "eu.plotExplorationResults(\n",
    "    search.dfResults[(search.dfResults[\"slow_to_fast\"]<=1)],\n",
    "    par1=[\"slow_to_fast\", r\"slow$\\to$fast\"],\n",
    "    par2=[\"fast_to_slow\", r\"fast$\\to$slow\"],\n",
    "    plot_key=\"modulation_index\",\n",
    "    nan_to_zero=False,\n",
    "    by = \"ratio_freq\",\n",
    "    one_figure= True,\n",
    "    plot_key_label=\"Modulation index\",\n",
    "    contour=[\"max_freq_slow\", \"max_freq_fast\"],\n",
    "    contour_color=[[\"white\"], [\"blue\"]],\n",
    "    contour_levels=[[6,12,32], [6,12,32]],\n",
    "    contour_alpha=[1.0, 1.0],\n",
    "    contour_kwargs={\n",
    "        0: {\"linewidths\": (2,), \"clabel\": True},\n",
    "        1: {\"linewidths\": (2,), \"clabel\": True},\n",
    "    },\n",
    ")"
   ],
   "metadata": {
    "collapsed": false,
    "pycharm": {
     "name": "#%%\n",
     "is_executing": true
    }
   }
  },
  {
   "cell_type": "code",
   "source": [
    "eu.plotExplorationResults(\n",
    "    search.dfResults[(search.dfResults[\"fast_to_slow\"]<=1)],\n",
    "    par1=[\"slow_to_fast\", r\"slow$\\to$fast\"],\n",
    "    par2=[\"fast_to_slow\", r\"fast$\\to$slow\"],\n",
    "    plot_key=\"modulation_index\",\n",
    "    nan_to_zero=False,\n",
    "    by = \"ratio_freq\",\n",
    "    one_figure= True,\n",
    "    plot_key_label=\"Modulation index\",\n",
    "    contour=[\"max_freq_slow\", \"max_freq_fast\"],\n",
    "    contour_color=[[\"white\"], [\"blue\"]],\n",
    "    contour_levels=[[6,12,32], [6,12,32]],\n",
    "    contour_alpha=[1.0, 1.0],\n",
    "    contour_kwargs={\n",
    "        0: {\"linewidths\": (2,), \"clabel\": True},\n",
    "        1: {\"linewidths\": (2,), \"clabel\": True},\n",
    "    },\n",
    ")"
   ],
   "metadata": {
    "collapsed": false,
    "pycharm": {
     "name": "#%%\n",
     "is_executing": true
    }
   },
   "execution_count": null,
   "outputs": []
  },
  {
   "cell_type": "code",
   "execution_count": null,
   "outputs": [],
   "source": [
    "search.dfResults.groupby(by = \"ratio_freq\")"
   ],
   "metadata": {
    "collapsed": false,
    "pycharm": {
     "name": "#%%\n",
     "is_executing": true
    }
   }
  },
  {
   "cell_type": "code",
   "execution_count": null,
   "outputs": [],
   "source": [
    "# temp_var = []\n",
    "# for ratio_freq_fs in np.unique(df_non_zero_conn.ratio_freq):\n",
    "#     df_temp = df_non_zero_conn[df_non_zero_conn.ratio_freq == ratio_freq_fs]\n",
    "#     sort_ratio_conn_fs, sort_MI_ratio_conn_fs = zip(*sorted(zip(df_temp.ratio_conn_fs, df_temp.modulation_index)))\n",
    "# \n",
    "#     sort_ratio_conn_sf, sort_MI_ratio_conn_sf = zip(\n",
    "#         *sorted(zip(df_temp.ratio_conn_sf, df_temp.modulation_index)))\n",
    "# \n",
    "#     _, axs = plt.subplots(nrows=1, ncols=2, sharex=\"col\", figsize=(20, 10))\n",
    "# \n",
    "#     print(np.all(temp_var==sort_ratio_conn_sf))\n",
    "# \n",
    "#     axs[0].plot(sort_ratio_conn_fs,sort_MI_ratio_conn_fs)\n",
    "#     axs[0].set_ylabel(\"Modulation Index\")\n",
    "#     axs[0].set_xlabel(\"fast_to_slow/slow_to_fast\")\n",
    "#     #axs[0].set_xlim(0,10)\n",
    "# \n",
    "#     axs[1].plot(sort_ratio_conn_sf, sort_MI_ratio_conn_sf)\n",
    "#     axs[1].set_xlabel(\"slow_to_fast/fast_to_slow\")\n",
    "#     axs[1].set_ylabel(\"Modulation Index\")\n",
    "#     plt.suptitle(f\"Frequency fast/ frequency slow = {ratio_freq_fs}\")\n",
    "#     #axs[1].set_xlim(0,10)\n",
    "#     plt.show()\n",
    "# \n",
    "#     temp_var = sort_ratio_conn_sf\n"
   ],
   "metadata": {
    "collapsed": false,
    "pycharm": {
     "name": "#%%\n",
     "is_executing": true
    }
   }
  }
 ],
 "metadata": {
  "kernelspec": {
   "display_name": "Python 3",
   "language": "python",
   "name": "python3"
  },
  "language_info": {
   "codemirror_mode": {
    "name": "ipython",
    "version": 2
   },
   "file_extension": ".py",
   "mimetype": "text/x-python",
   "name": "python",
   "nbconvert_exporter": "python",
   "pygments_lexer": "ipython2",
   "version": "2.7.6"
  }
 },
 "nbformat": 4,
 "nbformat_minor": 0
}